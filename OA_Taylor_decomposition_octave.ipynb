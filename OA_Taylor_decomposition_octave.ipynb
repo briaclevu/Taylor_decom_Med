{
 "metadata": {
  "name": "",
  "signature": "sha256:9645e836d44d9735f9eae22dac731bd872c1bdd84430c51dd4b0abb99c87ff5e"
 },
 "nbformat": 3,
 "nbformat_minor": 0,
 "worksheets": [
  {
   "cells": [
    {
     "cell_type": "markdown",
     "metadata": {},
     "source": [
      "Taylor Decomposition -- annual cycle of ocean acidification variables\n",
      "------------------------------------"
     ]
    },
    {
     "cell_type": "markdown",
     "metadata": {},
     "source": [
      "To better quantify how seasonal variations in the roles of the 4 key model tracers affect the amplitude of the annual cycle of 2 computed ocean acidification variables, we perform a Taylor decomposition, "
     ]
    },
    {
     "cell_type": "markdown",
     "metadata": {},
     "source": [
      "\\begin{eqnarray}\n",
      "  \\Delta X = \n",
      "               \\frac{\\partial X}{\\partial C_T} \\Delta C_T \n",
      "             + \\frac{\\partial X}{\\partial A_T} \\Delta A_T  \n",
      "             + \\frac{\\partial X}{\\partial T}   \\Delta T\n",
      "             + \\frac{\\partial X}{\\partial S}   \\Delta S\n",
      "\\hbox{,}\n",
      "\\end{eqnarray}\n",
      "where H$^+$ is the hydrogen ion concentration, C$_T$ is the dissolved ionrganic carbon, A$_T$ is total alkalinity, T is temperature, and S is salinty. Here we assume that higher order and cross terms are negligible, which can be checked later by comparing the sum of right hand terms with the model's simulated $\\Delta H^+$."
     ]
    },
    {
     "cell_type": "markdown",
     "metadata": {},
     "source": [
      "An analogous equation can be written for the saturation state for Aragonite (OmegaAr).\n",
      "\\begin{eqnarray}\n",
      "  \\Delta OmegaAr = \n",
      "               \\frac{\\partial OmegaAr}{\\partial C_T} \\Delta C_T \n",
      "             + \\frac{\\partial OmegaAr}{\\partial A_T} \\Delta A_T  \n",
      "             + \\frac{\\partial OmegaAr}{\\partial T}   \\Delta T\n",
      "             + \\frac{\\partial OmegaAr}{\\partial S}   \\Delta S\n",
      "\\hbox{.}\n",
      "\\end{eqnarray}\n",
      "On the right-hand side, the amplitude of the annual cycle $\\Delta$ of each of the 4 terms is known, being computed directly from the model output of the 4 model tracers (T, S, C$_T$, and A$_T$). Conversely, the 4 partial differentials must be calculated.  The first two (for C$_T$ and A$_T$) have analytical solutions (Egleston et al., 2010), whereas the last two (for T and S) must be computed numerically. For consistency, we will compute all 4 partials numerically.  Later, numerical results for the first two partials will be checked with the analytical solutions.\n"
     ]
    },
    {
     "cell_type": "markdown",
     "metadata": {},
     "source": [
      "**So let's use Octave to compute the partials.  Start by loading `oct2py` for `iPython`.**"
     ]
    },
    {
     "cell_type": "code",
     "collapsed": false,
     "input": [
      "from mpl_toolkits.basemap import Basemap\n",
      "import numpy as np\n",
      "import matplotlib.pyplot as plt\n",
      "import netCDF4\n",
      "%reload_ext rpy2.ipython\n",
      "%reload_ext oct2py.ipython\n",
      "%octave addpath('/home/users/blevu/Nemo_tools/')"
     ],
     "language": "python",
     "metadata": {},
     "outputs": [
      {
       "ename": "ImportError",
       "evalue": "cannot import name conversion",
       "output_type": "pyerr",
       "traceback": [
        "\u001b[1;31m---------------------------------------------------------------------------\u001b[0m\n\u001b[1;31mImportError\u001b[0m                               Traceback (most recent call last)",
        "\u001b[1;32m<ipython-input-2-f64a360983b3>\u001b[0m in \u001b[0;36m<module>\u001b[1;34m()\u001b[0m\n\u001b[0;32m      3\u001b[0m \u001b[1;32mimport\u001b[0m \u001b[0mmatplotlib\u001b[0m\u001b[1;33m.\u001b[0m\u001b[0mpyplot\u001b[0m \u001b[1;32mas\u001b[0m \u001b[0mplt\u001b[0m\u001b[1;33m\u001b[0m\u001b[0m\n\u001b[0;32m      4\u001b[0m \u001b[1;32mimport\u001b[0m \u001b[0mnetCDF4\u001b[0m\u001b[1;33m\u001b[0m\u001b[0m\n\u001b[1;32m----> 5\u001b[1;33m \u001b[0mget_ipython\u001b[0m\u001b[1;33m(\u001b[0m\u001b[1;33m)\u001b[0m\u001b[1;33m.\u001b[0m\u001b[0mmagic\u001b[0m\u001b[1;33m(\u001b[0m\u001b[1;34mu'load_ext rpy2.ipython'\u001b[0m\u001b[1;33m)\u001b[0m\u001b[1;33m\u001b[0m\u001b[0m\n\u001b[0m\u001b[0;32m      6\u001b[0m \u001b[0mget_ipython\u001b[0m\u001b[1;33m(\u001b[0m\u001b[1;33m)\u001b[0m\u001b[1;33m.\u001b[0m\u001b[0mmagic\u001b[0m\u001b[1;33m(\u001b[0m\u001b[1;34mu'load_ext oct2py.ipython'\u001b[0m\u001b[1;33m)\u001b[0m\u001b[1;33m\u001b[0m\u001b[0m\n\u001b[0;32m      7\u001b[0m \u001b[0mget_ipython\u001b[0m\u001b[1;33m(\u001b[0m\u001b[1;33m)\u001b[0m\u001b[1;33m.\u001b[0m\u001b[0mmagic\u001b[0m\u001b[1;33m(\u001b[0m\u001b[1;34mu\"octave addpath('/home/users/blevu/Nemo_tools/')\"\u001b[0m\u001b[1;33m)\u001b[0m\u001b[1;33m\u001b[0m\u001b[0m\n",
        "\u001b[1;32m/usr/local/install/python-2.7.5/lib/python2.7/site-packages/IPython/core/interactiveshell.py\u001b[0m in \u001b[0;36mmagic\u001b[1;34m(self, arg_s)\u001b[0m\n\u001b[0;32m   2203\u001b[0m         \u001b[0mmagic_name\u001b[0m\u001b[1;33m,\u001b[0m \u001b[0m_\u001b[0m\u001b[1;33m,\u001b[0m \u001b[0mmagic_arg_s\u001b[0m \u001b[1;33m=\u001b[0m \u001b[0marg_s\u001b[0m\u001b[1;33m.\u001b[0m\u001b[0mpartition\u001b[0m\u001b[1;33m(\u001b[0m\u001b[1;34m' '\u001b[0m\u001b[1;33m)\u001b[0m\u001b[1;33m\u001b[0m\u001b[0m\n\u001b[0;32m   2204\u001b[0m         \u001b[0mmagic_name\u001b[0m \u001b[1;33m=\u001b[0m \u001b[0mmagic_name\u001b[0m\u001b[1;33m.\u001b[0m\u001b[0mlstrip\u001b[0m\u001b[1;33m(\u001b[0m\u001b[0mprefilter\u001b[0m\u001b[1;33m.\u001b[0m\u001b[0mESC_MAGIC\u001b[0m\u001b[1;33m)\u001b[0m\u001b[1;33m\u001b[0m\u001b[0m\n\u001b[1;32m-> 2205\u001b[1;33m         \u001b[1;32mreturn\u001b[0m \u001b[0mself\u001b[0m\u001b[1;33m.\u001b[0m\u001b[0mrun_line_magic\u001b[0m\u001b[1;33m(\u001b[0m\u001b[0mmagic_name\u001b[0m\u001b[1;33m,\u001b[0m \u001b[0mmagic_arg_s\u001b[0m\u001b[1;33m)\u001b[0m\u001b[1;33m\u001b[0m\u001b[0m\n\u001b[0m\u001b[0;32m   2206\u001b[0m \u001b[1;33m\u001b[0m\u001b[0m\n\u001b[0;32m   2207\u001b[0m     \u001b[1;31m#-------------------------------------------------------------------------\u001b[0m\u001b[1;33m\u001b[0m\u001b[1;33m\u001b[0m\u001b[0m\n",
        "\u001b[1;32m/usr/local/install/python-2.7.5/lib/python2.7/site-packages/IPython/core/interactiveshell.py\u001b[0m in \u001b[0;36mrun_line_magic\u001b[1;34m(self, magic_name, line)\u001b[0m\n\u001b[0;32m   2124\u001b[0m                 \u001b[0mkwargs\u001b[0m\u001b[1;33m[\u001b[0m\u001b[1;34m'local_ns'\u001b[0m\u001b[1;33m]\u001b[0m \u001b[1;33m=\u001b[0m \u001b[0msys\u001b[0m\u001b[1;33m.\u001b[0m\u001b[0m_getframe\u001b[0m\u001b[1;33m(\u001b[0m\u001b[0mstack_depth\u001b[0m\u001b[1;33m)\u001b[0m\u001b[1;33m.\u001b[0m\u001b[0mf_locals\u001b[0m\u001b[1;33m\u001b[0m\u001b[0m\n\u001b[0;32m   2125\u001b[0m             \u001b[1;32mwith\u001b[0m \u001b[0mself\u001b[0m\u001b[1;33m.\u001b[0m\u001b[0mbuiltin_trap\u001b[0m\u001b[1;33m:\u001b[0m\u001b[1;33m\u001b[0m\u001b[0m\n\u001b[1;32m-> 2126\u001b[1;33m                 \u001b[0mresult\u001b[0m \u001b[1;33m=\u001b[0m \u001b[0mfn\u001b[0m\u001b[1;33m(\u001b[0m\u001b[1;33m*\u001b[0m\u001b[0margs\u001b[0m\u001b[1;33m,\u001b[0m\u001b[1;33m**\u001b[0m\u001b[0mkwargs\u001b[0m\u001b[1;33m)\u001b[0m\u001b[1;33m\u001b[0m\u001b[0m\n\u001b[0m\u001b[0;32m   2127\u001b[0m             \u001b[1;32mreturn\u001b[0m \u001b[0mresult\u001b[0m\u001b[1;33m\u001b[0m\u001b[0m\n\u001b[0;32m   2128\u001b[0m \u001b[1;33m\u001b[0m\u001b[0m\n",
        "\u001b[1;32m/usr/local/install/python-2.7.5/lib/python2.7/site-packages/IPython/core/magics/extension.py\u001b[0m in \u001b[0;36mload_ext\u001b[1;34m(self, module_str)\u001b[0m\n",
        "\u001b[1;32m/usr/local/install/python-2.7.5/lib/python2.7/site-packages/IPython/core/magic.py\u001b[0m in \u001b[0;36m<lambda>\u001b[1;34m(f, *a, **k)\u001b[0m\n\u001b[0;32m    191\u001b[0m     \u001b[1;31m# but it's overkill for just that one bit of state.\u001b[0m\u001b[1;33m\u001b[0m\u001b[1;33m\u001b[0m\u001b[0m\n\u001b[0;32m    192\u001b[0m     \u001b[1;32mdef\u001b[0m \u001b[0mmagic_deco\u001b[0m\u001b[1;33m(\u001b[0m\u001b[0marg\u001b[0m\u001b[1;33m)\u001b[0m\u001b[1;33m:\u001b[0m\u001b[1;33m\u001b[0m\u001b[0m\n\u001b[1;32m--> 193\u001b[1;33m         \u001b[0mcall\u001b[0m \u001b[1;33m=\u001b[0m \u001b[1;32mlambda\u001b[0m \u001b[0mf\u001b[0m\u001b[1;33m,\u001b[0m \u001b[1;33m*\u001b[0m\u001b[0ma\u001b[0m\u001b[1;33m,\u001b[0m \u001b[1;33m**\u001b[0m\u001b[0mk\u001b[0m\u001b[1;33m:\u001b[0m \u001b[0mf\u001b[0m\u001b[1;33m(\u001b[0m\u001b[1;33m*\u001b[0m\u001b[0ma\u001b[0m\u001b[1;33m,\u001b[0m \u001b[1;33m**\u001b[0m\u001b[0mk\u001b[0m\u001b[1;33m)\u001b[0m\u001b[1;33m\u001b[0m\u001b[0m\n\u001b[0m\u001b[0;32m    194\u001b[0m \u001b[1;33m\u001b[0m\u001b[0m\n\u001b[0;32m    195\u001b[0m         \u001b[1;32mif\u001b[0m \u001b[0mcallable\u001b[0m\u001b[1;33m(\u001b[0m\u001b[0marg\u001b[0m\u001b[1;33m)\u001b[0m\u001b[1;33m:\u001b[0m\u001b[1;33m\u001b[0m\u001b[0m\n",
        "\u001b[1;32m/usr/local/install/python-2.7.5/lib/python2.7/site-packages/IPython/core/magics/extension.py\u001b[0m in \u001b[0;36mload_ext\u001b[1;34m(self, module_str)\u001b[0m\n\u001b[0;32m     61\u001b[0m         \u001b[1;32mif\u001b[0m \u001b[1;32mnot\u001b[0m \u001b[0mmodule_str\u001b[0m\u001b[1;33m:\u001b[0m\u001b[1;33m\u001b[0m\u001b[0m\n\u001b[0;32m     62\u001b[0m             \u001b[1;32mraise\u001b[0m \u001b[0mUsageError\u001b[0m\u001b[1;33m(\u001b[0m\u001b[1;34m'Missing module name.'\u001b[0m\u001b[1;33m)\u001b[0m\u001b[1;33m\u001b[0m\u001b[0m\n\u001b[1;32m---> 63\u001b[1;33m         \u001b[0mres\u001b[0m \u001b[1;33m=\u001b[0m \u001b[0mself\u001b[0m\u001b[1;33m.\u001b[0m\u001b[0mshell\u001b[0m\u001b[1;33m.\u001b[0m\u001b[0mextension_manager\u001b[0m\u001b[1;33m.\u001b[0m\u001b[0mload_extension\u001b[0m\u001b[1;33m(\u001b[0m\u001b[0mmodule_str\u001b[0m\u001b[1;33m)\u001b[0m\u001b[1;33m\u001b[0m\u001b[0m\n\u001b[0m\u001b[0;32m     64\u001b[0m \u001b[1;33m\u001b[0m\u001b[0m\n\u001b[0;32m     65\u001b[0m         \u001b[1;32mif\u001b[0m \u001b[0mres\u001b[0m \u001b[1;33m==\u001b[0m \u001b[1;34m'already loaded'\u001b[0m\u001b[1;33m:\u001b[0m\u001b[1;33m\u001b[0m\u001b[0m\n",
        "\u001b[1;32m/usr/local/install/python-2.7.5/lib/python2.7/site-packages/IPython/core/extensions.py\u001b[0m in \u001b[0;36mload_extension\u001b[1;34m(self, module_str)\u001b[0m\n\u001b[0;32m     96\u001b[0m             \u001b[1;32mif\u001b[0m \u001b[0mmodule_str\u001b[0m \u001b[1;32mnot\u001b[0m \u001b[1;32min\u001b[0m \u001b[0msys\u001b[0m\u001b[1;33m.\u001b[0m\u001b[0mmodules\u001b[0m\u001b[1;33m:\u001b[0m\u001b[1;33m\u001b[0m\u001b[0m\n\u001b[0;32m     97\u001b[0m                 \u001b[1;32mwith\u001b[0m \u001b[0mprepended_to_syspath\u001b[0m\u001b[1;33m(\u001b[0m\u001b[0mself\u001b[0m\u001b[1;33m.\u001b[0m\u001b[0mipython_extension_dir\u001b[0m\u001b[1;33m)\u001b[0m\u001b[1;33m:\u001b[0m\u001b[1;33m\u001b[0m\u001b[0m\n\u001b[1;32m---> 98\u001b[1;33m                     \u001b[0m__import__\u001b[0m\u001b[1;33m(\u001b[0m\u001b[0mmodule_str\u001b[0m\u001b[1;33m)\u001b[0m\u001b[1;33m\u001b[0m\u001b[0m\n\u001b[0m\u001b[0;32m     99\u001b[0m             \u001b[0mmod\u001b[0m \u001b[1;33m=\u001b[0m \u001b[0msys\u001b[0m\u001b[1;33m.\u001b[0m\u001b[0mmodules\u001b[0m\u001b[1;33m[\u001b[0m\u001b[0mmodule_str\u001b[0m\u001b[1;33m]\u001b[0m\u001b[1;33m\u001b[0m\u001b[0m\n\u001b[0;32m    100\u001b[0m             \u001b[1;32mif\u001b[0m \u001b[0mself\u001b[0m\u001b[1;33m.\u001b[0m\u001b[0m_call_load_ipython_extension\u001b[0m\u001b[1;33m(\u001b[0m\u001b[0mmod\u001b[0m\u001b[1;33m)\u001b[0m\u001b[1;33m:\u001b[0m\u001b[1;33m\u001b[0m\u001b[0m\n",
        "\u001b[1;32m/usr/local/install/python-2.7.5/lib/python2.7/site-packages/rpy2/ipython/__init__.py\u001b[0m in \u001b[0;36m<module>\u001b[1;34m()\u001b[0m\n\u001b[1;32m----> 1\u001b[1;33m \u001b[1;32mfrom\u001b[0m \u001b[1;33m.\u001b[0m\u001b[0mrmagic\u001b[0m \u001b[1;32mimport\u001b[0m \u001b[0mload_ipython_extension\u001b[0m\u001b[1;33m\u001b[0m\u001b[0m\n\u001b[0m",
        "\u001b[1;32m/usr/local/install/python-2.7.5/lib/python2.7/site-packages/rpy2/ipython/rmagic.py\u001b[0m in \u001b[0;36m<module>\u001b[1;34m()\u001b[0m\n\u001b[0;32m     51\u001b[0m \u001b[1;33m\u001b[0m\u001b[0m\n\u001b[0;32m     52\u001b[0m \u001b[1;32mimport\u001b[0m \u001b[0mrpy2\u001b[0m\u001b[1;33m.\u001b[0m\u001b[0mrinterface\u001b[0m \u001b[1;32mas\u001b[0m \u001b[0mri\u001b[0m\u001b[1;33m\u001b[0m\u001b[0m\n\u001b[1;32m---> 53\u001b[1;33m \u001b[1;32mimport\u001b[0m \u001b[0mrpy2\u001b[0m\u001b[1;33m.\u001b[0m\u001b[0mrobjects\u001b[0m \u001b[1;32mas\u001b[0m \u001b[0mro\u001b[0m\u001b[1;33m\u001b[0m\u001b[0m\n\u001b[0m\u001b[0;32m     54\u001b[0m \u001b[1;32mimport\u001b[0m \u001b[0mrpy2\u001b[0m\u001b[1;33m.\u001b[0m\u001b[0mrobjects\u001b[0m\u001b[1;33m.\u001b[0m\u001b[0mpackages\u001b[0m \u001b[1;32mas\u001b[0m \u001b[0mrpacks\u001b[0m\u001b[1;33m\u001b[0m\u001b[0m\n\u001b[0;32m     55\u001b[0m \u001b[1;33m\u001b[0m\u001b[0m\n",
        "\u001b[1;32m/usr/local/install/python-2.7.5/lib/python2.7/site-packages/rpy2/robjects/__init__.py\u001b[0m in \u001b[0;36m<module>\u001b[1;34m()\u001b[0m\n\u001b[0;32m     16\u001b[0m \u001b[1;32mimport\u001b[0m \u001b[0mrpy2\u001b[0m\u001b[1;33m.\u001b[0m\u001b[0mrlike\u001b[0m\u001b[1;33m.\u001b[0m\u001b[0mcontainer\u001b[0m \u001b[1;32mas\u001b[0m \u001b[0mrlc\u001b[0m\u001b[1;33m\u001b[0m\u001b[0m\n\u001b[0;32m     17\u001b[0m \u001b[1;33m\u001b[0m\u001b[0m\n\u001b[1;32m---> 18\u001b[1;33m \u001b[1;32mfrom\u001b[0m \u001b[0mrpy2\u001b[0m\u001b[1;33m.\u001b[0m\u001b[0mrobjects\u001b[0m\u001b[1;33m.\u001b[0m\u001b[0mrobject\u001b[0m \u001b[1;32mimport\u001b[0m \u001b[0mRObjectMixin\u001b[0m\u001b[1;33m,\u001b[0m \u001b[0mRObject\u001b[0m\u001b[1;33m\u001b[0m\u001b[0m\n\u001b[0m\u001b[0;32m     19\u001b[0m \u001b[1;32mfrom\u001b[0m \u001b[0mrpy2\u001b[0m\u001b[1;33m.\u001b[0m\u001b[0mrobjects\u001b[0m\u001b[1;33m.\u001b[0m\u001b[0mvectors\u001b[0m \u001b[1;32mimport\u001b[0m \u001b[1;33m*\u001b[0m\u001b[1;33m\u001b[0m\u001b[0m\n\u001b[0;32m     20\u001b[0m \u001b[1;32mfrom\u001b[0m \u001b[0mrpy2\u001b[0m\u001b[1;33m.\u001b[0m\u001b[0mrobjects\u001b[0m\u001b[1;33m.\u001b[0m\u001b[0mfunctions\u001b[0m \u001b[1;32mimport\u001b[0m \u001b[0mFunction\u001b[0m\u001b[1;33m,\u001b[0m \u001b[0mSignatureTranslatedFunction\u001b[0m\u001b[1;33m\u001b[0m\u001b[0m\n",
        "\u001b[1;32m/usr/local/install/python-2.7.5/lib/python2.7/site-packages/rpy2/robjects/robject.py\u001b[0m in \u001b[0;36m<module>\u001b[1;34m()\u001b[0m\n\u001b[0;32m      5\u001b[0m \u001b[0mrpy2\u001b[0m\u001b[1;33m.\u001b[0m\u001b[0mrinterface\u001b[0m\u001b[1;33m.\u001b[0m\u001b[0minitr\u001b[0m\u001b[1;33m(\u001b[0m\u001b[1;33m)\u001b[0m\u001b[1;33m\u001b[0m\u001b[0m\n\u001b[0;32m      6\u001b[0m \u001b[1;33m\u001b[0m\u001b[0m\n\u001b[1;32m----> 7\u001b[1;33m \u001b[1;32mfrom\u001b[0m \u001b[1;33m.\u001b[0m \u001b[1;32mimport\u001b[0m \u001b[0mconversion\u001b[0m\u001b[1;33m\u001b[0m\u001b[0m\n\u001b[0m\u001b[0;32m      8\u001b[0m \u001b[1;33m\u001b[0m\u001b[0m\n\u001b[0;32m      9\u001b[0m \u001b[1;32mclass\u001b[0m \u001b[0mRObjectMixin\u001b[0m\u001b[1;33m(\u001b[0m\u001b[0mobject\u001b[0m\u001b[1;33m)\u001b[0m\u001b[1;33m:\u001b[0m\u001b[1;33m\u001b[0m\u001b[0m\n",
        "\u001b[1;31mImportError\u001b[0m: cannot import name conversion"
       ]
      }
     ],
     "prompt_number": 2
    },
    {
     "cell_type": "markdown",
     "metadata": {},
     "source": [
      "**Load yearly ouput model 2D fields from the anthropogenic experiment simulation**"
     ]
    },
    {
     "cell_type": "code",
     "collapsed": false,
     "input": [
      "f = netCDF4.Dataset('/home/biomac1/blevu/NEMO_files/mesh_mask_MED8_2.nc','r')\n",
      "field = f.variables['tmask']\n",
      "tmask = field[:]\n",
      "mask = np.squeeze(tmask[:,1])\n",
      "field = f.variables['nav_lon']\n",
      "lon = field[:]\n",
      "field = f.variables['nav_lat']\n",
      "lat = field[:]\n",
      "print field"
     ],
     "language": "python",
     "metadata": {},
     "outputs": [
      {
       "output_type": "stream",
       "stream": "stdout",
       "text": [
        "<type 'netCDF4.Variable'>\n",
        "float32 nav_lat(y, x)\n",
        "unlimited dimensions: \n",
        "current shape = (160, 394)\n",
        "\n"
       ]
      }
     ],
     "prompt_number": 4
    },
    {
     "cell_type": "markdown",
     "metadata": {},
     "source": [
      "**Load the 2D field of the yearly mean state between 1850-2099 and visualization** "
     ]
    },
    {
     "cell_type": "code",
     "collapsed": false,
     "input": [
      "dirout = '/home/biomac1/blevu/SCRATCH/DE9_2000/'\n",
      "Param = ['votemper','vosaline','PO4','Si','DIC','Alkalini','Hcal','OmegaA','CO3cal']\n",
      "f = netCDF4.Dataset(dirout+'Nvotempera_1y_1850_2099.nc', 'r')\n",
      "field = f.variables['ymean']\n",
      "Tmean = field[:]\n",
      "f = netCDF4.Dataset(dirout+'Nvosalinea_1y_1850_2099.nc', 'r')\n",
      "field = f.variables['ymean']\n",
      "Smean =  field[:]\n",
      "f = netCDF4.Dataset(dirout+'NPO4a_1y_1850_2099.nc', 'r')\n",
      "field = f.variables['ymean']\n",
      "PO4mean = field[:]\n",
      "f = netCDF4.Dataset(dirout+'NSia_1y_1850_2099.nc', 'r')\n",
      "field = f.variables['ymean']\n",
      "Simean = field[:]\n",
      "f = netCDF4.Dataset(dirout+'NDICa_1y_1850_2099.nc', 'r')\n",
      "field = f.variables['ymean']\n",
      "DICmean = field[:]\n",
      "f = netCDF4.Dataset(dirout+'NAlkalinia_1y_1850_2099.nc', 'r')\n",
      "field = f.variables['ymean']\n",
      "TALKmean = field[:]\n",
      "f = netCDF4.Dataset(dirout+'NHcala_1y_1850_2099.nc', 'r')\n",
      "field = f.variables['ymean']\n",
      "Hmean = field[:]\n",
      "f = netCDF4.Dataset(dirout+'NOmegaAa_1y_1850_2099.nc', 'r')\n",
      "field = f.variables['ymean']\n",
      "OAmean = field[:]\n",
      "f = netCDF4.Dataset(dirout+'NCO3cala_1y_1850_2099.nc', 'r')\n",
      "field = f.variables['ymean']\n",
      "CO3mean = field[:]\n"
     ],
     "language": "python",
     "metadata": {},
     "outputs": [],
     "prompt_number": 3
    },
    {
     "cell_type": "code",
     "collapsed": false,
     "input": [
      "%%octave -i Hmean -o dyHmean\n",
      "dyHmean=squeeze(mean(Hmean(235:250,:,:)));"
     ],
     "language": "python",
     "metadata": {},
     "outputs": [],
     "prompt_number": 135
    },
    {
     "cell_type": "code",
     "collapsed": false,
     "input": [
      "from mpl_toolkits.basemap import Basemap\n",
      "import matplotlib.pyplot as plt\n",
      "# setup Lambert Conformal basemap.\n",
      "# set resolution=None to skip processing of boundary datasets.\n",
      "m = Basemap(height=2e6,width=4.5e6,\n",
      "            resolution='l',area_thresh=1000.,projection='omerc',\\\n",
      "            lon_0=18,lat_0=38,lon_1=0,lat_1=30,lon_2=40,lat_2=45)\n",
      "#m.etopo()\n",
      "m.drawcoastlines(linewidth=0.25)\n",
      "m.drawcountries(linewidth=0.25)\n",
      "m.fillcontinents(color='0.8',lake_color='none')\n",
      "cs = m.pcolor(lon,lat,dyHmean*1e9*mask,shading='flat',latlon=True, vmin=12, vmax=20)\n",
      "plt.title('last 16 years surface H+')\n",
      "# add colorbar.\n",
      "cbar = m.colorbar(cs,location='bottom',pad=\"5%\")\n",
      "cbar.set_label('nM')\n",
      "plt.show()\n",
      "\n"
     ],
     "language": "python",
     "metadata": {},
     "outputs": [
      {
       "metadata": {},
       "output_type": "display_data",
       "png": "[encoded data removed]",
       "text": [
        "<matplotlib.figure.Figure at 0x810dcd0>"
       ]
      }
     ],
     "prompt_number": 140
    },
    {
     "cell_type": "markdown",
     "metadata": {},
     "source": [
      "**Compute CO2sys for a point (i,j) from 2D field of the mean state fot a specific year and each perturbated state (T, S, DIC, TALK)**"
     ]
    },
    {
     "cell_type": "code",
     "collapsed": false,
     "input": [
      "# PERTURBATION: calc data to compute partials using same 'carb' routine, but with input variables slightly perturbed, one at a time\n",
      "# Define a delta of 0.5% (to apply in subsequent calls of 'carb')\n",
      "delta = 0.005\n",
      "xdel1 = 1 - delta\n",
      "xdel2 = 1 + delta\n",
      "# initiallisation\n",
      "dHdDIC = DICmean*0;\n",
      "dHdALK = DICmean*0;\n",
      "dHdT = DICmean*0;\n",
      "dHdS = DICmean*0;\n",
      "dOAdDIC = DICmean*0;\n",
      "dOAdALK = DICmean*0;\n",
      "dOAdT = DICmean*0;\n",
      "dOAdS = DICmean*0;\n",
      "# Input data corresponding to 2D field of annual mean\n",
      "t=200\n",
      "i=95\n",
      "j=200\n",
      "#for i in range(160):\n",
      "#    for j in range(394):\n",
      "#        if tmask[0,0,i,j] == 1:\n",
      "T = Tmean[t,i,j]\n",
      "S = Smean[t,i,j]\n",
      "P = 0.0\n",
      "ALK = TALKmean[t,i,j]*1e6/1.027\n",
      "DIC = DICmean[t,i,j]*1e6/1.027\n",
      "Pt = PO4mean[t,i,j]*1e6/1.027\n",
      "Sit = Simean[t,i,j]*1e6/1.027\n",
      "%octave_push T S P ALK DIC Pt Sit delta xdel1 xdel2\n",
      "# BASELINE: use CO2SYS to compute pH, CO3, and other carbonate system variables\n",
      "%octave -o sea sea = double(CO2SYS(ALK,DIC,1,2,S,T,T,P,P,Sit,Pt,2,10,1));\n",
      "# Point 1: (0.05% smaller for ALK and DIC; -0.5 units for T and S in order to avoid problems at zero)\n",
      "%octave -o cdelT1 cdelT1 = double(CO2SYS(ALK,DIC,1,2,S,T+0.5,T+0.5,P,P,Sit,Pt,2,10,1));\n",
      "%octave -o cdelS1 cdelS1 = double(CO2SYS(ALK,DIC,1,2,S+0.5,T,T,P,P,Sit,Pt,2,10,1));\n",
      "%octave -o cdelDIC1 cdelDIC1 = double(CO2SYS(ALK,DIC*xdel1,1,2,S,T,T,P,P,Sit,Pt,2,10,1));\n",
      "%octave -o cdelALK1 cdelALK1  = double(CO2SYS(ALK*xdel1,DIC,1,2,S,T,T,P,P,Sit,Pt,2,10,1));\n",
      "# Point 2: (0.05% bigger for ALK and DIC; +0.5 units for T and S in order to avoid problems at zero)\n",
      "%octave -o cdelT2 cdelT2 = double(CO2SYS(ALK,DIC,1,2,S,T-0.5,T-0.5,P,P,Sit,Pt,2,10,1));\n",
      "%octave -o cdelS2 cdelS2 = double(CO2SYS(ALK,DIC,1,2,S-0.5,T,T,P,P,Sit,Pt,2,10,1));\n",
      "%octave -o cdelDIC2 cdelDIC2 = double(CO2SYS(ALK,DIC*xdel2,1,2,S,T,T,P,P,Sit,Pt,2,10,1));\n",
      "%octave -o cdelALK2 cdelALK2 = double(CO2SYS(ALK*xdel2,DIC,1,2,S,T,T,P,P,Sit,Pt,2,10,1));"
     ],
     "language": "python",
     "metadata": {},
     "outputs": [],
     "prompt_number": 4
    },
    {
     "cell_type": "markdown",
     "metadata": {},
     "source": [
      "**Now to calculate the partials by computing the partials from ratios of the differences**\n",
      " $\n",
      "\\frac{\\partial H^+}{\\partial C_T} \\hbox{,} \n",
      "\\frac{\\partial H^+}{\\partial A_T} \\hbox{,} \n",
      "\\frac{\\partial H^+}{\\partial T}   \\hbox{, and}\n",
      "\\frac{\\partial H^+}{\\partial S}   \\hbox{.}$"
     ]
    },
    {
     "cell_type": "code",
     "collapsed": false,
     "input": [
      "# Compute partials as centered differences:\n",
      "dHdDIC [t,i,j]= (10**-cdelDIC2[0,2] - 10**-cdelDIC1[0,2]) * 1e9 / (cdelDIC2[0,1] - cdelDIC1[0,1])\n",
      "dHdALK [t,i,j]= (10**-cdelALK2[0,2] - 10**-cdelALK1[0,2]) * 1e9 / (cdelALK2[0,0] - cdelALK1[0,0])\n",
      "dHdT   [t,i,j]= (10**-cdelT2[0,2]   - 10**-cdelT1[0,2])   * 1e9 / (cdelT2[0,40]  - cdelT1[0,40])\n",
      "dHdS   [t,i,j]= (10**-cdelS2[0,2]   - 10**-cdelS1[0,2])   * 1e9 / (cdelS2[0,49]  - cdelS1[0,49])\n",
      "#\n",
      "dOAdDIC [t,i,j]= (cdelDIC2[0,15] - cdelDIC1[0,15]) / (cdelDIC2[0,1] - cdelDIC1[0,1])\n",
      "dOAdALK [t,i,j]= (cdelALK2[0,15] - cdelALK1[0,15]) / (cdelALK2[0,0] - cdelALK1[0,0])\n",
      "dOAdT   [t,i,j]= (cdelT2[0,15]   - cdelT1[0,15])   / (cdelT2[0,40]  - cdelT1[0,40])\n",
      "dOAdS   [t,i,j]= (cdelS2[0,15]   - cdelS1[0,15])   / (cdelS2[0,49]  - cdelS1[0,49])"
     ],
     "language": "python",
     "metadata": {},
     "outputs": [],
     "prompt_number": 5
    },
    {
     "cell_type": "markdown",
     "metadata": {},
     "source": [
      "**Units**\n",
      "\n",
      "nmol H/ umol DIC/kg  ,  nmol H/ umol ALK/kg  ,  nmol H/ \u00b0C  ,  nmol H/ psu\n",
      "\n",
      "OmegaAr/umol DIC/kg  ,  OmegaAr/umol ALK/kg  ,  OmegaAr/ \u00b0C  ,  OmegaAr/ psu"
     ]
    },
    {
     "cell_type": "markdown",
     "metadata": {},
     "source": [
      "**Load the result of the deconvolution**"
     ]
    },
    {
     "cell_type": "code",
     "collapsed": false,
     "input": [
      "%%octave\n",
      "load('/data/blevu/SCRATCH/deconvolution_H_OA_1984_1999.mat')\n",
      "name={'delta','DH','DOA','dHd','dOAd'};\n",
      "scale=[1 1 1 1e3 1e3];\n",
      "%\n",
      "for j=1:length(name)\n",
      " filename=['/data/blevu/SCRATCH/',char(name(j)),'_MED.csv'];\n",
      " fid = fopen(filename, 'w');\n",
      " if j>3\n",
      "  fprintf(fid,[char(name(j)),'_MED x1e3']);\n",
      " else\n",
      "  fprintf(fid,[char(name(j)),'_MED']);\n",
      " end\n",
      " for t=1:2\n",
      "  for d=1:2\n",
      "   fprintf(fid,[',Simu_',char(CD(d)),char(CT(t))]);\n",
      "  end\n",
      " end\n",
      " fprintf(fid,'\\n');\n",
      "%\n",
      " if j==1\n",
      "  inter=[1:2 5:8];\n",
      " else\n",
      "  inter=[1:2 5:6];\n",
      " end\n",
      "%\n",
      "for i=inter\n",
      " fprintf(fid,[char(name(j)),char(field2(i))]);\n",
      " for t=1:2\n",
      "  if i>2\n",
      "   for d=1:2\n",
      "    eval(['fprintf(fid,'',%.2f'',nansum(nansum(',char(name(j)),char(field2(i)),char(CD(d)),char(CT(t)),'.*ds2d.*mask_MED))/S_MED*scale(j));'])\n",
      "   end\n",
      "  else\n",
      "    eval(['fprintf(fid,'',%.2f,'',nansum(nansum(',char(name(j)),char(field2(i)),char(CD(d)),char(CT(t)),'.*ds2d.*mask_MED))/S_MED*scale(j));'])\n",
      "  end \n",
      " end\n",
      "fprintf(fid,'\\n');\n",
      "end\n",
      "%\n",
      "if j==2 || j==3\n",
      " fprintf(fid,[char(name(j)),'C']);\n",
      " for t=1:2\n",
      "   for d=1:2\n",
      "     eval(['fprintf(fid,'',%.2f'',nansum(nansum(',char(name(j)),'C',char(CD(d)),char(CT(t)),'.*ds2d.*mask_MED))/S_MED);'])\n",
      "   end\n",
      " end\n",
      " fprintf(fid,'\\n');\n",
      "%\n",
      " fprintf(fid,char(name(j)));\n",
      " for t=1:2\n",
      "   for d=1:2\n",
      "     eval(['fprintf(fid,'',%.2f'',nansum(nansum(',char(name(j)),char(CD(d)),char(CT(t)),'.*ds2d.*mask_MED))/S_MED);'])\n",
      "   end\n",
      " end\n",
      " fprintf(fid,'\\n');\n",
      "end\n",
      "fclose(fid);\n",
      "%\n",
      "end"
     ],
     "language": "python",
     "metadata": {},
     "outputs": []
    }
   ],
   "metadata": {}
  }
 ]
}