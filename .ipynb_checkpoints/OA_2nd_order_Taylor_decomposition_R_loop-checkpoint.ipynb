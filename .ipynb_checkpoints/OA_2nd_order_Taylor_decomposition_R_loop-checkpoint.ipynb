{
 "metadata": {
  "name": "",
  "signature": "sha256:18d6ad8ab0e9fdc76f5046644880f2b80cf0b41e968a3a59a48f63ee3a90a0bb"
 },
 "nbformat": 3,
 "nbformat_minor": 0,
 "worksheets": [
  {
   "cells": [
    {
     "cell_type": "markdown",
     "metadata": {},
     "source": [
      "2$^{nd}$ Order Taylor Decomposition -- deconvolve annual cycle of ocean acidification variables\n",
      "------------------------------------"
     ]
    },
    {
     "cell_type": "heading",
     "level": 2,
     "metadata": {},
     "source": [
      "Introduction"
     ]
    },
    {
     "cell_type": "markdown",
     "metadata": {},
     "source": [
      "In oceanography, key carbonate system variables such as pH are controlled by 4 other variables: $ pH = f(T, S, C_T, A_T)$. Two additional input variables can be neglected in most but not all surface waters. Here we quantify how variations in these 4 main input variables contribute to seasonal variations in acidity, namely $\\mathrm{H}^{+}$ (computed as $10^{-\\mathrm{pH}}$). To do that, we perform a Taylor series decomposition. This yields,"
     ]
    },
    {
     "cell_type": "markdown",
     "metadata": {},
     "source": [
      "\\begin{eqnarray}\n",
      "  \\Delta H^+ = \n",
      "               \\frac{\\partial H^+}{\\partial C_T} \\Delta C_T \n",
      "             + \\frac{\\partial H^+}{\\partial A_T} \\Delta A_T  \n",
      "             + \\frac{\\partial H^+}{\\partial T}   \\Delta T\n",
      "             + \\frac{\\partial H^+}{\\partial S}   \\Delta S \n",
      "             + O(2)\n",
      "\\hbox{,}\n",
      "\\end{eqnarray}\n",
      "\n",
      "where the final term regroups all second-order terms. Yet second-order terms are usually neglected, because with 4 independent variables that means adding 10 additional terms. Although simplicity is elegant, the associated imprecision cannot be known in advance. So just what are those 2nd-order terms:\n",
      "\n",
      "\\begin{alignat}{2}\n",
      "          O(2)  = \\frac{1}{2!}\\left(\\frac{\\partial^2 H^{+}}{\\partial C_T^2} (\\Delta C_T)^2 \n",
      "                  +                   \\frac{\\partial^2 H^{+}}{\\partial A_T^2} (\\Delta A_T)^2\n",
      "                  +                   \\frac{\\partial^2 H^{+}}{\\partial T^2} (\\Delta T)^2 \n",
      "                  +                   \\frac{\\partial^2 H^{+}}{\\partial S^2} (\\Delta S)^2    \n",
      "                  +                  2\\frac{\\partial^2 H^{+}}{\\partial C_T \\partial A_T} \\Delta C_T \\Delta A_T \\\\\n",
      "                  \\phantom{+                  2\\frac{\\partial^2 H^{+}}{\\partial C_T \\partial T}   \\Delta C_T \\Delta T}\n",
      "                  +                  2\\frac{\\partial^2 H^{+}}{\\partial C_T \\partial T}   \\Delta C_T \\Delta T\n",
      "                  +                  2\\frac{\\partial^2 H^{+}}{\\partial C_T \\partial S}   \\Delta C_T \\Delta S\n",
      "                  +                  2\\frac{\\partial^2 H^{+}}{\\partial A_T \\partial T}   \\Delta A_T \\Delta T\n",
      "                  +                  2\\frac{\\partial^2 H^{+}}{\\partial A_T \\partial S}   \\Delta A_T \\Delta S\n",
      "                  +                  2\\frac{\\partial^2 H^{+}}{\\partial T \\partial S}   \\Delta T \\Delta S\n",
      "               \\right)\n",
      "\\hbox{.}\n",
      "\\end{alignat}\n",
      "\n",
      "Wow, that looks messy! But take another look. It only involves $\\Delta$'s, which we know ahead of time, and second derivatives, which a computer can calculate easily as you'll see shortly. In both equations, the $\\Delta$ indicates the amplitude of the annual cyle (August minus February), H$^+$ is the hydrogen ion concentration, C$_T$ is the dissolved ionrganic carbon, A$_T$ is total alkalinity, T is temperature, and S is salinty. Here we assume that 3rd order terms and beyond are negligible. That could be checked later by comparing the sum of right hand terms with the model's simulated $\\Delta H^+$, assuming the $\\Delta$'s are not too large and the terms are independant. \n",
      "\n",
      "Particularly when only the first order equation is used, the accuracy is reduced even further when the four variables are not independant.  For instance we know that at the surface, C$_T$ is affected by $T$ while A$_T$ is correlated with $S$.  Thus it is harder still to justify neglecting the 2nd order terms, which account for covariance between variables.\n",
      "\n",
      "Analogous equations can be written for the other key carbonate system variables, including the partial pressure of carbon dioxide $p$CO$_2$, saturation states for aragonite $\\Omega_A$ and calcite $\\Omega_C$, and the carbonate ion concentration CO$_3^{2-}$. For example,"
     ]
    },
    {
     "cell_type": "markdown",
     "metadata": {},
     "source": [
      "\\begin{eqnarray}\n",
      "  \\Delta CO_3^{2-} = \n",
      "               \\frac{\\partial CO_3^{2-}}{\\partial C_T} \\Delta C_T \n",
      "             + \\frac{\\partial CO_3^{2-}}{\\partial A_T} \\Delta A_T  \n",
      "             + \\frac{\\partial CO_3^{2-}}{\\partial T}   \\Delta T\n",
      "             + \\frac{\\partial CO_3^{2-}}{\\partial S}   \\Delta S\n",
      "             + O(2)\n",
      "\\hbox{.}\n",
      "\\end{eqnarray}\n",
      "On the right-hand side, the amplitude of the annual cycle $\\Delta$ of each of the 4 terms is known, being computed directly from the model output of the 4 model tracers (T, S, C$_T$, and A$_T$). Conversely, the 4 partial differentials must be calculated.  The first two (for C$_T$ and A$_T$) have analytical solutions (Egleston et al., 2010), whereas the last two (for T and S) must be computed numerically. For consistency, we will compute all 4 partials numerically.  Later, numerical results for the first two partials will be checked with the analytical solutions.\n"
     ]
    },
    {
     "cell_type": "markdown",
     "metadata": {},
     "source": [
      "So let's use `R` to specify input data, compute the derivatives and combined terms, and compare them.  Our goals are (1) to determine the dominant terms and how those change with time, and (2) to assess if the 2nd-order terms are significant.  We are aware of only 1 other ocean carbon study that considered 2nd order terms in a Taylor series deconvolution (Previdi et al., 2009). Their focus was on an interannual change of the air-sea CO$_2$ flux over the Mid-Atlantic Bight; conversely we focus on impacts of the increased CO$_2$ on the seasonal variability of 4 key ocean acidification variables. \n",
      "\n",
      "So now that we have a plan, let's tell the computer how to realize it."
     ]
    },
    {
     "cell_type": "heading",
     "level": 2,
     "metadata": {},
     "source": [
      "Launch R & get libraries"
     ]
    },
    {
     "cell_type": "markdown",
     "metadata": {},
     "source": [
      "Don't forget to change the libray path after loadng the modules and before launch the ipython notebook:"
     ]
    },
    {
     "cell_type": "code",
     "collapsed": false,
     "input": [
      "#module load python/2.7.5\n",
      "#module load R/3.0.1\n",
      "#setenv LD_LIBRARY_PATH ${LD_LIBRARY_PATH}:/usr/local/install/R-3.0.1/lib64/R/lib\n",
      "#ipython notebook --pylab inline --no-browser --port=70XX --notebook-dir=~/IPy_Notebooks"
     ],
     "language": "python",
     "metadata": {},
     "outputs": [],
     "prompt_number": 1
    },
    {
     "cell_type": "markdown",
     "metadata": {},
     "source": [
      "So let's get going.  We'll use `R` via this `iPython Notebook` interface.  We start by loading `Rmagic`, which is part of `Rpy2` for `iPython`. Load also matplotlib and basemap to make maps."
     ]
    },
    {
     "cell_type": "code",
     "collapsed": false,
     "input": [
      "from mpl_toolkits.basemap import Basemap\n",
      "import numpy as np\n",
      "import matplotlib.pyplot as plt\n",
      "import netCDF4\n",
      "import os.path\n",
      "%load_ext rpy2.ipython\n",
      "%load_ext oct2py.ipython\n",
      "%octave addpath('/home/users/blevu/Nemo_tools/')"
     ],
     "language": "python",
     "metadata": {},
     "outputs": [
      {
       "ename": "ImportError",
       "evalue": "cannot import name conversion",
       "output_type": "pyerr",
       "traceback": [
        "\u001b[1;31m---------------------------------------------------------------------------\u001b[0m\n\u001b[1;31mImportError\u001b[0m                               Traceback (most recent call last)",
        "\u001b[1;32m<ipython-input-2-d01dad09cf87>\u001b[0m in \u001b[0;36m<module>\u001b[1;34m()\u001b[0m\n\u001b[0;32m      4\u001b[0m \u001b[1;32mimport\u001b[0m \u001b[0mnetCDF4\u001b[0m\u001b[1;33m\u001b[0m\u001b[0m\n\u001b[0;32m      5\u001b[0m \u001b[1;32mimport\u001b[0m \u001b[0mos\u001b[0m\u001b[1;33m.\u001b[0m\u001b[0mpath\u001b[0m\u001b[1;33m\u001b[0m\u001b[0m\n\u001b[1;32m----> 6\u001b[1;33m \u001b[0mget_ipython\u001b[0m\u001b[1;33m(\u001b[0m\u001b[1;33m)\u001b[0m\u001b[1;33m.\u001b[0m\u001b[0mmagic\u001b[0m\u001b[1;33m(\u001b[0m\u001b[1;34mu'load_ext rpy2.ipython'\u001b[0m\u001b[1;33m)\u001b[0m\u001b[1;33m\u001b[0m\u001b[0m\n\u001b[0m\u001b[0;32m      7\u001b[0m \u001b[0mget_ipython\u001b[0m\u001b[1;33m(\u001b[0m\u001b[1;33m)\u001b[0m\u001b[1;33m.\u001b[0m\u001b[0mmagic\u001b[0m\u001b[1;33m(\u001b[0m\u001b[1;34mu'load_ext oct2py.ipython'\u001b[0m\u001b[1;33m)\u001b[0m\u001b[1;33m\u001b[0m\u001b[0m\n\u001b[0;32m      8\u001b[0m \u001b[0mget_ipython\u001b[0m\u001b[1;33m(\u001b[0m\u001b[1;33m)\u001b[0m\u001b[1;33m.\u001b[0m\u001b[0mmagic\u001b[0m\u001b[1;33m(\u001b[0m\u001b[1;34mu\"octave addpath('/home/users/blevu/Nemo_tools/')\"\u001b[0m\u001b[1;33m)\u001b[0m\u001b[1;33m\u001b[0m\u001b[0m\n",
        "\u001b[1;32m/usr/local/install/python-2.7.5/lib/python2.7/site-packages/IPython/core/interactiveshell.py\u001b[0m in \u001b[0;36mmagic\u001b[1;34m(self, arg_s)\u001b[0m\n\u001b[0;32m   2203\u001b[0m         \u001b[0mmagic_name\u001b[0m\u001b[1;33m,\u001b[0m \u001b[0m_\u001b[0m\u001b[1;33m,\u001b[0m \u001b[0mmagic_arg_s\u001b[0m \u001b[1;33m=\u001b[0m \u001b[0marg_s\u001b[0m\u001b[1;33m.\u001b[0m\u001b[0mpartition\u001b[0m\u001b[1;33m(\u001b[0m\u001b[1;34m' '\u001b[0m\u001b[1;33m)\u001b[0m\u001b[1;33m\u001b[0m\u001b[0m\n\u001b[0;32m   2204\u001b[0m         \u001b[0mmagic_name\u001b[0m \u001b[1;33m=\u001b[0m \u001b[0mmagic_name\u001b[0m\u001b[1;33m.\u001b[0m\u001b[0mlstrip\u001b[0m\u001b[1;33m(\u001b[0m\u001b[0mprefilter\u001b[0m\u001b[1;33m.\u001b[0m\u001b[0mESC_MAGIC\u001b[0m\u001b[1;33m)\u001b[0m\u001b[1;33m\u001b[0m\u001b[0m\n\u001b[1;32m-> 2205\u001b[1;33m         \u001b[1;32mreturn\u001b[0m \u001b[0mself\u001b[0m\u001b[1;33m.\u001b[0m\u001b[0mrun_line_magic\u001b[0m\u001b[1;33m(\u001b[0m\u001b[0mmagic_name\u001b[0m\u001b[1;33m,\u001b[0m \u001b[0mmagic_arg_s\u001b[0m\u001b[1;33m)\u001b[0m\u001b[1;33m\u001b[0m\u001b[0m\n\u001b[0m\u001b[0;32m   2206\u001b[0m \u001b[1;33m\u001b[0m\u001b[0m\n\u001b[0;32m   2207\u001b[0m     \u001b[1;31m#-------------------------------------------------------------------------\u001b[0m\u001b[1;33m\u001b[0m\u001b[1;33m\u001b[0m\u001b[0m\n",
        "\u001b[1;32m/usr/local/install/python-2.7.5/lib/python2.7/site-packages/IPython/core/interactiveshell.py\u001b[0m in \u001b[0;36mrun_line_magic\u001b[1;34m(self, magic_name, line)\u001b[0m\n\u001b[0;32m   2124\u001b[0m                 \u001b[0mkwargs\u001b[0m\u001b[1;33m[\u001b[0m\u001b[1;34m'local_ns'\u001b[0m\u001b[1;33m]\u001b[0m \u001b[1;33m=\u001b[0m \u001b[0msys\u001b[0m\u001b[1;33m.\u001b[0m\u001b[0m_getframe\u001b[0m\u001b[1;33m(\u001b[0m\u001b[0mstack_depth\u001b[0m\u001b[1;33m)\u001b[0m\u001b[1;33m.\u001b[0m\u001b[0mf_locals\u001b[0m\u001b[1;33m\u001b[0m\u001b[0m\n\u001b[0;32m   2125\u001b[0m             \u001b[1;32mwith\u001b[0m \u001b[0mself\u001b[0m\u001b[1;33m.\u001b[0m\u001b[0mbuiltin_trap\u001b[0m\u001b[1;33m:\u001b[0m\u001b[1;33m\u001b[0m\u001b[0m\n\u001b[1;32m-> 2126\u001b[1;33m                 \u001b[0mresult\u001b[0m \u001b[1;33m=\u001b[0m \u001b[0mfn\u001b[0m\u001b[1;33m(\u001b[0m\u001b[1;33m*\u001b[0m\u001b[0margs\u001b[0m\u001b[1;33m,\u001b[0m\u001b[1;33m**\u001b[0m\u001b[0mkwargs\u001b[0m\u001b[1;33m)\u001b[0m\u001b[1;33m\u001b[0m\u001b[0m\n\u001b[0m\u001b[0;32m   2127\u001b[0m             \u001b[1;32mreturn\u001b[0m \u001b[0mresult\u001b[0m\u001b[1;33m\u001b[0m\u001b[0m\n\u001b[0;32m   2128\u001b[0m \u001b[1;33m\u001b[0m\u001b[0m\n",
        "\u001b[1;32m/usr/local/install/python-2.7.5/lib/python2.7/site-packages/IPython/core/magics/extension.py\u001b[0m in \u001b[0;36mload_ext\u001b[1;34m(self, module_str)\u001b[0m\n",
        "\u001b[1;32m/usr/local/install/python-2.7.5/lib/python2.7/site-packages/IPython/core/magic.py\u001b[0m in \u001b[0;36m<lambda>\u001b[1;34m(f, *a, **k)\u001b[0m\n\u001b[0;32m    191\u001b[0m     \u001b[1;31m# but it's overkill for just that one bit of state.\u001b[0m\u001b[1;33m\u001b[0m\u001b[1;33m\u001b[0m\u001b[0m\n\u001b[0;32m    192\u001b[0m     \u001b[1;32mdef\u001b[0m \u001b[0mmagic_deco\u001b[0m\u001b[1;33m(\u001b[0m\u001b[0marg\u001b[0m\u001b[1;33m)\u001b[0m\u001b[1;33m:\u001b[0m\u001b[1;33m\u001b[0m\u001b[0m\n\u001b[1;32m--> 193\u001b[1;33m         \u001b[0mcall\u001b[0m \u001b[1;33m=\u001b[0m \u001b[1;32mlambda\u001b[0m \u001b[0mf\u001b[0m\u001b[1;33m,\u001b[0m \u001b[1;33m*\u001b[0m\u001b[0ma\u001b[0m\u001b[1;33m,\u001b[0m \u001b[1;33m**\u001b[0m\u001b[0mk\u001b[0m\u001b[1;33m:\u001b[0m \u001b[0mf\u001b[0m\u001b[1;33m(\u001b[0m\u001b[1;33m*\u001b[0m\u001b[0ma\u001b[0m\u001b[1;33m,\u001b[0m \u001b[1;33m**\u001b[0m\u001b[0mk\u001b[0m\u001b[1;33m)\u001b[0m\u001b[1;33m\u001b[0m\u001b[0m\n\u001b[0m\u001b[0;32m    194\u001b[0m \u001b[1;33m\u001b[0m\u001b[0m\n\u001b[0;32m    195\u001b[0m         \u001b[1;32mif\u001b[0m \u001b[0mcallable\u001b[0m\u001b[1;33m(\u001b[0m\u001b[0marg\u001b[0m\u001b[1;33m)\u001b[0m\u001b[1;33m:\u001b[0m\u001b[1;33m\u001b[0m\u001b[0m\n",
        "\u001b[1;32m/usr/local/install/python-2.7.5/lib/python2.7/site-packages/IPython/core/magics/extension.py\u001b[0m in \u001b[0;36mload_ext\u001b[1;34m(self, module_str)\u001b[0m\n\u001b[0;32m     61\u001b[0m         \u001b[1;32mif\u001b[0m \u001b[1;32mnot\u001b[0m \u001b[0mmodule_str\u001b[0m\u001b[1;33m:\u001b[0m\u001b[1;33m\u001b[0m\u001b[0m\n\u001b[0;32m     62\u001b[0m             \u001b[1;32mraise\u001b[0m \u001b[0mUsageError\u001b[0m\u001b[1;33m(\u001b[0m\u001b[1;34m'Missing module name.'\u001b[0m\u001b[1;33m)\u001b[0m\u001b[1;33m\u001b[0m\u001b[0m\n\u001b[1;32m---> 63\u001b[1;33m         \u001b[0mres\u001b[0m \u001b[1;33m=\u001b[0m \u001b[0mself\u001b[0m\u001b[1;33m.\u001b[0m\u001b[0mshell\u001b[0m\u001b[1;33m.\u001b[0m\u001b[0mextension_manager\u001b[0m\u001b[1;33m.\u001b[0m\u001b[0mload_extension\u001b[0m\u001b[1;33m(\u001b[0m\u001b[0mmodule_str\u001b[0m\u001b[1;33m)\u001b[0m\u001b[1;33m\u001b[0m\u001b[0m\n\u001b[0m\u001b[0;32m     64\u001b[0m \u001b[1;33m\u001b[0m\u001b[0m\n\u001b[0;32m     65\u001b[0m         \u001b[1;32mif\u001b[0m \u001b[0mres\u001b[0m \u001b[1;33m==\u001b[0m \u001b[1;34m'already loaded'\u001b[0m\u001b[1;33m:\u001b[0m\u001b[1;33m\u001b[0m\u001b[0m\n",
        "\u001b[1;32m/usr/local/install/python-2.7.5/lib/python2.7/site-packages/IPython/core/extensions.py\u001b[0m in \u001b[0;36mload_extension\u001b[1;34m(self, module_str)\u001b[0m\n\u001b[0;32m     96\u001b[0m             \u001b[1;32mif\u001b[0m \u001b[0mmodule_str\u001b[0m \u001b[1;32mnot\u001b[0m \u001b[1;32min\u001b[0m \u001b[0msys\u001b[0m\u001b[1;33m.\u001b[0m\u001b[0mmodules\u001b[0m\u001b[1;33m:\u001b[0m\u001b[1;33m\u001b[0m\u001b[0m\n\u001b[0;32m     97\u001b[0m                 \u001b[1;32mwith\u001b[0m \u001b[0mprepended_to_syspath\u001b[0m\u001b[1;33m(\u001b[0m\u001b[0mself\u001b[0m\u001b[1;33m.\u001b[0m\u001b[0mipython_extension_dir\u001b[0m\u001b[1;33m)\u001b[0m\u001b[1;33m:\u001b[0m\u001b[1;33m\u001b[0m\u001b[0m\n\u001b[1;32m---> 98\u001b[1;33m                     \u001b[0m__import__\u001b[0m\u001b[1;33m(\u001b[0m\u001b[0mmodule_str\u001b[0m\u001b[1;33m)\u001b[0m\u001b[1;33m\u001b[0m\u001b[0m\n\u001b[0m\u001b[0;32m     99\u001b[0m             \u001b[0mmod\u001b[0m \u001b[1;33m=\u001b[0m \u001b[0msys\u001b[0m\u001b[1;33m.\u001b[0m\u001b[0mmodules\u001b[0m\u001b[1;33m[\u001b[0m\u001b[0mmodule_str\u001b[0m\u001b[1;33m]\u001b[0m\u001b[1;33m\u001b[0m\u001b[0m\n\u001b[0;32m    100\u001b[0m             \u001b[1;32mif\u001b[0m \u001b[0mself\u001b[0m\u001b[1;33m.\u001b[0m\u001b[0m_call_load_ipython_extension\u001b[0m\u001b[1;33m(\u001b[0m\u001b[0mmod\u001b[0m\u001b[1;33m)\u001b[0m\u001b[1;33m:\u001b[0m\u001b[1;33m\u001b[0m\u001b[0m\n",
        "\u001b[1;32m/usr/local/install/python-2.7.5/lib/python2.7/site-packages/rpy2/ipython/__init__.py\u001b[0m in \u001b[0;36m<module>\u001b[1;34m()\u001b[0m\n\u001b[1;32m----> 1\u001b[1;33m \u001b[1;32mfrom\u001b[0m \u001b[1;33m.\u001b[0m\u001b[0mrmagic\u001b[0m \u001b[1;32mimport\u001b[0m \u001b[0mload_ipython_extension\u001b[0m\u001b[1;33m\u001b[0m\u001b[0m\n\u001b[0m",
        "\u001b[1;32m/usr/local/install/python-2.7.5/lib/python2.7/site-packages/rpy2/ipython/rmagic.py\u001b[0m in \u001b[0;36m<module>\u001b[1;34m()\u001b[0m\n\u001b[0;32m     51\u001b[0m \u001b[1;33m\u001b[0m\u001b[0m\n\u001b[0;32m     52\u001b[0m \u001b[1;32mimport\u001b[0m \u001b[0mrpy2\u001b[0m\u001b[1;33m.\u001b[0m\u001b[0mrinterface\u001b[0m \u001b[1;32mas\u001b[0m \u001b[0mri\u001b[0m\u001b[1;33m\u001b[0m\u001b[0m\n\u001b[1;32m---> 53\u001b[1;33m \u001b[1;32mimport\u001b[0m \u001b[0mrpy2\u001b[0m\u001b[1;33m.\u001b[0m\u001b[0mrobjects\u001b[0m \u001b[1;32mas\u001b[0m \u001b[0mro\u001b[0m\u001b[1;33m\u001b[0m\u001b[0m\n\u001b[0m\u001b[0;32m     54\u001b[0m \u001b[1;32mimport\u001b[0m \u001b[0mrpy2\u001b[0m\u001b[1;33m.\u001b[0m\u001b[0mrobjects\u001b[0m\u001b[1;33m.\u001b[0m\u001b[0mpackages\u001b[0m \u001b[1;32mas\u001b[0m \u001b[0mrpacks\u001b[0m\u001b[1;33m\u001b[0m\u001b[0m\n\u001b[0;32m     55\u001b[0m \u001b[1;33m\u001b[0m\u001b[0m\n",
        "\u001b[1;32m/usr/local/install/python-2.7.5/lib/python2.7/site-packages/rpy2/robjects/__init__.py\u001b[0m in \u001b[0;36m<module>\u001b[1;34m()\u001b[0m\n\u001b[0;32m     16\u001b[0m \u001b[1;32mimport\u001b[0m \u001b[0mrpy2\u001b[0m\u001b[1;33m.\u001b[0m\u001b[0mrlike\u001b[0m\u001b[1;33m.\u001b[0m\u001b[0mcontainer\u001b[0m \u001b[1;32mas\u001b[0m \u001b[0mrlc\u001b[0m\u001b[1;33m\u001b[0m\u001b[0m\n\u001b[0;32m     17\u001b[0m \u001b[1;33m\u001b[0m\u001b[0m\n\u001b[1;32m---> 18\u001b[1;33m \u001b[1;32mfrom\u001b[0m \u001b[0mrpy2\u001b[0m\u001b[1;33m.\u001b[0m\u001b[0mrobjects\u001b[0m\u001b[1;33m.\u001b[0m\u001b[0mrobject\u001b[0m \u001b[1;32mimport\u001b[0m \u001b[0mRObjectMixin\u001b[0m\u001b[1;33m,\u001b[0m \u001b[0mRObject\u001b[0m\u001b[1;33m\u001b[0m\u001b[0m\n\u001b[0m\u001b[0;32m     19\u001b[0m \u001b[1;32mfrom\u001b[0m \u001b[0mrpy2\u001b[0m\u001b[1;33m.\u001b[0m\u001b[0mrobjects\u001b[0m\u001b[1;33m.\u001b[0m\u001b[0mvectors\u001b[0m \u001b[1;32mimport\u001b[0m \u001b[1;33m*\u001b[0m\u001b[1;33m\u001b[0m\u001b[0m\n\u001b[0;32m     20\u001b[0m \u001b[1;32mfrom\u001b[0m \u001b[0mrpy2\u001b[0m\u001b[1;33m.\u001b[0m\u001b[0mrobjects\u001b[0m\u001b[1;33m.\u001b[0m\u001b[0mfunctions\u001b[0m \u001b[1;32mimport\u001b[0m \u001b[0mFunction\u001b[0m\u001b[1;33m,\u001b[0m \u001b[0mSignatureTranslatedFunction\u001b[0m\u001b[1;33m\u001b[0m\u001b[0m\n",
        "\u001b[1;32m/usr/local/install/python-2.7.5/lib/python2.7/site-packages/rpy2/robjects/robject.py\u001b[0m in \u001b[0;36m<module>\u001b[1;34m()\u001b[0m\n\u001b[0;32m      5\u001b[0m \u001b[0mrpy2\u001b[0m\u001b[1;33m.\u001b[0m\u001b[0mrinterface\u001b[0m\u001b[1;33m.\u001b[0m\u001b[0minitr\u001b[0m\u001b[1;33m(\u001b[0m\u001b[1;33m)\u001b[0m\u001b[1;33m\u001b[0m\u001b[0m\n\u001b[0;32m      6\u001b[0m \u001b[1;33m\u001b[0m\u001b[0m\n\u001b[1;32m----> 7\u001b[1;33m \u001b[1;32mfrom\u001b[0m \u001b[1;33m.\u001b[0m \u001b[1;32mimport\u001b[0m \u001b[0mconversion\u001b[0m\u001b[1;33m\u001b[0m\u001b[0m\n\u001b[0m\u001b[0;32m      8\u001b[0m \u001b[1;33m\u001b[0m\u001b[0m\n\u001b[0;32m      9\u001b[0m \u001b[1;32mclass\u001b[0m \u001b[0mRObjectMixin\u001b[0m\u001b[1;33m(\u001b[0m\u001b[0mobject\u001b[0m\u001b[1;33m)\u001b[0m\u001b[1;33m:\u001b[0m\u001b[1;33m\u001b[0m\u001b[0m\n",
        "\u001b[1;31mImportError\u001b[0m: cannot import name conversion"
       ]
      }
     ],
     "prompt_number": 2
    },
    {
     "cell_type": "markdown",
     "metadata": {},
     "source": [
      "Then launch R and install the needed R libraries (packages), if they are not already installed. You may need to install the `Hmisc` library with same command in an R session on X terminal. After installing, comment out corresponding line as below."
     ]
    },
    {
     "cell_type": "code",
     "collapsed": false,
     "input": [
      "%%R\n",
      " # remove.packages('seacarb')\n",
      "  install.packages('seacarb')\n",
      " # remove.packages('Hmisc')\n",
      "  install.packages('Hmisc')\n",
      "  install.packages('abind')\n",
      "  install.packages('numDeriv')\n",
      "  library(seacarb)\n",
      "  library(numDeriv)"
     ],
     "language": "python",
     "metadata": {},
     "outputs": [
      {
       "metadata": {},
       "output_type": "display_data",
       "text": [
        "Installing package into \u2018/home/users/blevu/R/x86_64-unknown-linux-gnu-library/3.0\u2019\n",
        "(as \u2018lib\u2019 is unspecified)\n",
        "--- Please select a CRAN mirror for use in this session ---\n",
        "essai de l'URL 'http://cran.irsn.fr/src/contrib/seacarb_3.0.tar.gz'\n",
        "Content type 'application/x-gzip' length 75664 bytes (73 Kb)\n",
        "URL ouverte\n",
        "==================================================\n",
        "downloaded 73 Kb\n",
        "\n",
        "\n",
        "The downloaded source packages are in\n",
        "\t\u2018/tmp/RtmpsYWTlY/downloaded_packages\u2019\n",
        "Installing package into \u2018/home/users/blevu/R/x86_64-unknown-linux-gnu-library/3.0\u2019\n",
        "(as \u2018lib\u2019 is unspecified)\n",
        "essai de l'URL 'http://cran.irsn.fr/src/contrib/Hmisc_3.14-5.tar.gz'\n",
        "Content type 'application/x-gzip' length 608952 bytes (594 Kb)\n",
        "URL ouverte\n",
        "==================================================\n",
        "downloaded 594 Kb\n",
        "\n",
        "\n",
        "The downloaded source packages are in\n",
        "\t\u2018/tmp/RtmpsYWTlY/downloaded_packages\u2019\n",
        "Installing package into \u2018/home/users/blevu/R/x86_64-unknown-linux-gnu-library/3.0\u2019\n",
        "(as \u2018lib\u2019 is unspecified)\n",
        "essai de l'URL 'http://cran.irsn.fr/src/contrib/abind_1.4-0.tar.gz'\n",
        "Content type 'application/x-gzip' length 19642 bytes (19 Kb)\n",
        "URL ouverte\n",
        "==================================================\n",
        "downloaded 19 Kb\n",
        "\n",
        "\n",
        "The downloaded source packages are in\n",
        "\t\u2018/tmp/RtmpsYWTlY/downloaded_packages\u2019\n",
        "Installing package into \u2018/home/users/blevu/R/x86_64-unknown-linux-gnu-library/3.0\u2019\n",
        "(as \u2018lib\u2019 is unspecified)\n",
        "essai de l'URL 'http://cran.irsn.fr/src/contrib/numDeriv_2012.9-1.tar.gz'\n",
        "Content type 'application/x-gzip' length 71840 bytes (70 Kb)\n",
        "URL ouverte\n",
        "==================================================\n",
        "downloaded 70 Kb\n",
        "\n",
        "\n",
        "The downloaded source packages are in\n",
        "\t\u2018/tmp/RtmpsYWTlY/downloaded_packages\u2019\n"
       ]
      }
     ],
     "prompt_number": 3
    },
    {
     "cell_type": "markdown",
     "metadata": {},
     "source": [
      "Call libraries & define new simple functions to pass results from `seacarb`'s `carb` routine to `numDeriv`'s routines that calculate 1st and 2nd derivatives (`jacobian` and `hessian`, respectively).  "
     ]
    },
    {
     "cell_type": "heading",
     "level": 2,
     "metadata": {},
     "source": [
      "Load 2D mask and annual mean, february and august field from the model outputs (T, S, DIC, TALK, PO4, Si) and CO2SYS (H, CO3, OmegaA)"
     ]
    },
    {
     "cell_type": "code",
     "collapsed": false,
     "input": [
      "# load the 2D mask for MED8\n",
      "f = netCDF4.Dataset('/home/biomac1/blevu/NEMO_files/mesh_mask_MED8_2.nc','r')\n",
      "field = f.variables['tmask']\n",
      "tmask = field[:]\n",
      "mask = np.squeeze(tmask[:,1])\n",
      "field = f.variables['nav_lon']\n",
      "lon = field[:]\n",
      "field = f.variables['nav_lat']\n",
      "lat = field[:]\n",
      "field = f.variables['e1t']\n",
      "e1 = field[:]\n",
      "field = f.variables['e2t']\n",
      "e2 = field[:]\n",
      "field = f.variables['e3t']\n",
      "e3 = field[:]\n",
      "ds2d = e1 * e2\n",
      "f.close()\n",
      "# load mask for med part\n",
      "f = netCDF4.Dataset('/home/biomac1/blevu/NEMO_files/mask_med8/MASK_MED.nc','r')\n",
      "field = f.variables['tmask_sb']\n",
      "mask_MED = field[:]\n",
      "ds2d_mask = ds2d * mask_MED\n",
      "S_MED = ds2d * mask_MED.sum()\n",
      "f.close()\n",
      "\n",
      "# Define parameter like which simulation and year of extraction \n",
      "dirout = '/home/biomac1/blevu/SCRATCH/DE9_2000/'\n",
      "Param = ['votemper','vosaline','PO4','Si','DIC','Alkalini','Hcal','OmegaA','CO3cal']\n",
      "run = 'a' # a = CO2+clim / b = CO2 / 2b = Control / 2a = clim\n",
      "deb = 234 # year = 2084\n",
      "fin = 249 # year = 2099\n",
      "\n",
      "# Load the 2D field of the yearly mean state between deb-fin\n",
      "f = netCDF4.Dataset(dirout+'Nvotemper'+run+'_1y_1850_2099.nc', 'r')\n",
      "field = f.variables['ymean']\n",
      "feb = f.variables['yfeb']\n",
      "aug = f.variables['yaug']\n",
      "Tmean = np.mean(field[deb:fin],axis=0)\n",
      "DT = np.mean(aug[deb:fin]-feb[deb:fin],axis=0)\n",
      "f.close()\n",
      "\n",
      "f = netCDF4.Dataset(dirout+'Nvosaline'+run+'_1y_1850_2099.nc', 'r')\n",
      "field = f.variables['ymean']\n",
      "feb = f.variables['yfeb']\n",
      "aug = f.variables['yaug']\n",
      "Smean =  np.mean(field[deb:fin],axis=0)\n",
      "DS = np.mean(aug[deb:fin]-feb[deb:fin],axis=0)\n",
      "f.close()\n",
      "\n",
      "f = netCDF4.Dataset(dirout+'NPO4'+run+'_1y_1850_2099.nc', 'r')\n",
      "field = f.variables['ymean']\n",
      "feb = f.variables['yfeb']\n",
      "aug = f.variables['yaug']\n",
      "PO4mean = np.mean(field[deb:fin],axis=0) * 1e6 / 1.027\n",
      "DPO4 = np.mean(aug[deb:fin]-feb[deb:fin],axis=0) * 1e6 / 1.027\n",
      "f.close()\n",
      "\n",
      "f = netCDF4.Dataset(dirout+'NSi'+run+'_1y_1850_2099.nc', 'r')\n",
      "field = f.variables['ymean']\n",
      "feb = f.variables['yfeb']\n",
      "aug = f.variables['yaug']\n",
      "Simean = np.mean(field[deb:fin],axis=0) * 1e6 / 1.027\n",
      "DSi = np.mean(aug[deb:fin]-feb[deb:fin],axis=0) * 1e6 / 1.027\n",
      "f.close()\n",
      "\n",
      "f = netCDF4.Dataset(dirout+'NDIC'+run+'_1y_1850_2099.nc', 'r')\n",
      "field = f.variables['ymean']\n",
      "feb = f.variables['yfeb']\n",
      "aug = f.variables['yaug']\n",
      "DICmean = np.mean(field[deb:fin],axis=0) * 1e6 / 1.027\n",
      "DDIC = np.mean(aug[deb:fin]-feb[deb:fin],axis=0) * 1e6 / 1.027\n",
      "f.close()\n",
      "\n",
      "f = netCDF4.Dataset(dirout+'NAlkalini'+run+'_1y_1850_2099.nc', 'r')\n",
      "field = f.variables['ymean']\n",
      "feb = f.variables['yfeb']\n",
      "aug = f.variables['yaug']\n",
      "TALKmean = np.mean(field[deb:fin],axis=0) * 1e6 / 1.027\n",
      "DTALK = np.mean(aug[deb:fin]-feb[deb:fin],axis=0) * 1e6 / 1.027\n",
      "f.close()\n",
      "\n",
      "f = netCDF4.Dataset(dirout+'NpCO2cal'+run+'_1y_1850_2099.nc', 'r')\n",
      "field = f.variables['ymean']\n",
      "feb = f.variables['yfeb']\n",
      "aug = f.variables['yaug']\n",
      "pCO2mean = np.mean(field[deb:fin],axis=0)\n",
      "DpCO2 = np.mean(aug[deb:fin]-feb[deb:fin],axis=0)\n",
      "f.close()\n",
      "\n",
      "f = netCDF4.Dataset(dirout+'NHcal'+run+'_1y_1850_2099.nc', 'r')\n",
      "field = f.variables['ymean']\n",
      "feb = f.variables['yfeb']\n",
      "aug = f.variables['yaug']\n",
      "Hmean = np.mean(field[deb:fin],axis=0) * 1e9\n",
      "DH = np.mean(aug[deb:fin]-feb[deb:fin],axis=0) * 1e9\n",
      "f.close()\n",
      "\n",
      "f = netCDF4.Dataset(dirout+'NCO3cal'+run+'_1y_1850_2099.nc', 'r')\n",
      "field = f.variables['ymean']\n",
      "feb = f.variables['yfeb']\n",
      "aug = f.variables['yaug']\n",
      "CO3mean = np.mean(field[deb:fin],axis=0) * 1e6 / 1.027\n",
      "DCO3 = np.mean(aug[deb:fin]-feb[deb:fin],axis=0) * 1e6 / 1.027\n",
      "f.close()\n",
      "\n",
      "f = netCDF4.Dataset(dirout+'NOmegaA'+run+'_1y_1850_2099.nc', 'r')\n",
      "field = f.variables['ymean']\n",
      "feb = f.variables['yfeb']\n",
      "aug = f.variables['yaug']\n",
      "OAmean = np.mean(field[deb:fin],axis=0)\n",
      "DOA = np.mean(aug[deb:fin]-feb[deb:fin],axis=0)\n",
      "f.close()\n"
     ],
     "language": "python",
     "metadata": {},
     "outputs": [],
     "prompt_number": 4
    },
    {
     "cell_type": "heading",
     "level": 2,
     "metadata": {},
     "source": [
      "Creates netCDF data set of the results"
     ]
    },
    {
     "cell_type": "code",
     "collapsed": false,
     "input": [
      "# list of partial terms\n",
      "Term = ['At','Ct','S','T','At_At','At_Ct','At_S','At_T','Ct_Ct','Ct_S','Ct_T','S_S','S_T','T_T']\n",
      "# ncfile for pCO2\n",
      "if os.path.isfile(dirout+'Decom_pCO2'+run+'.nc'):\n",
      "    pCO2_ncfile = netCDF4.Dataset(dirout+'Decom_pCO2'+run+'.nc','a')\n",
      "else:\n",
      "    pCO2_ncfile = netCDF4.Dataset(dirout+'Decom_pCO2'+run+'.nc','w',format='NETCDF3_CLASSIC')\n",
      "    pCO2_ncfile.createDimension('lat', 160)     # latitude axis\n",
      "    pCO2_ncfile.createDimension('lon', 394)     # longitude axis\n",
      "# Define two variables with the same names as dimensions,\n",
      "# a conventional way to define \"coordinate variables\".\n",
      "    nav_lat = pCO2_ncfile.createVariable('nav_lat', 'f4', ('lat','lon'))\n",
      "    nav_lat.units = 'degrees_north'\n",
      "    nav_lat.standard_name = 'latitude'\n",
      "    nav_lon = pCO2_ncfile.createVariable('nav_lon', 'f4', ('lat','lon'))\n",
      "    nav_lon.units = 'degrees_east'\n",
      "    nav_lon.standard_name = 'longitude'\n",
      "# Write latitudes, longitudes.\n",
      "    nav_lat[:] = lat\n",
      "    nav_lon[:] = lon\n",
      "# Define a 2D variable to hold the data\n",
      "    for i in Term:\n",
      "        pCO2_ncfile.createVariable(i,'f4',('lat','lon'))\n",
      "# ncfile for H\n",
      "if os.path.isfile(dirout+'Decom_H'+run+'.nc'):\n",
      "    H_ncfile = netCDF4.Dataset(dirout+'Decom_H'+run+'.nc','a')\n",
      "else:\n",
      "    H_ncfile = netCDF4.Dataset(dirout+'Decom_H'+run+'.nc','w',format='NETCDF3_CLASSIC')\n",
      "    H_ncfile.createDimension('lat', 160)     # latitude axis\n",
      "    H_ncfile.createDimension('lon', 394)     # longitude axis\n",
      "# Define two variables with the same names as dimensions,\n",
      "# a conventional way to define \"coordinate variables\".\n",
      "    nav_lat = H_ncfile.createVariable('nav_lat', 'f4', ('lat','lon'))\n",
      "    nav_lat.units = 'degrees_north'\n",
      "    nav_lat.standard_name = 'latitude'\n",
      "    nav_lon = H_ncfile.createVariable('nav_lon', 'f4', ('lat','lon'))\n",
      "    nav_lon.units = 'degrees_east'\n",
      "    nav_lon.standard_name = 'longitude'\n",
      "# Write latitudes, longitudes.\n",
      "    nav_lat[:] = lat\n",
      "    nav_lon[:] = lon\n",
      "# Define a 2D variable to hold the data\n",
      "    for i in Term:\n",
      "        H_ncfile.createVariable(i,'f4',('lat','lon'))\n",
      "# ncfile for CO3\n",
      "if os.path.isfile(dirout+'Decom_CO3'+run+'.nc'):\n",
      "    CO3_ncfile = netCDF4.Dataset(dirout+'Decom_CO3'+run+'.nc','a')\n",
      "else:\n",
      "    CO3_ncfile = netCDF4.Dataset(dirout+'Decom_CO3'+run+'.nc','w',format='NETCDF3_CLASSIC')\n",
      "    CO3_ncfile.createDimension('lat', 160)     # latitude axis\n",
      "    CO3_ncfile.createDimension('lon', 394)     # longitude axis\n",
      "# Define two variables with the same names as dimensions,\n",
      "# a conventional way to define \"coordinate variables\".\n",
      "    nav_lat = CO3_ncfile.createVariable('nav_lat', 'f4', ('lat','lon'))\n",
      "    nav_lat.units = 'degrees_north'\n",
      "    nav_lat.standard_name = 'latitude'\n",
      "    nav_lon = CO3_ncfile.createVariable('nav_lon', 'f4', ('lat','lon'))\n",
      "    nav_lon.units = 'degrees_east'\n",
      "    nav_lon.standard_name = 'longitude'\n",
      "# Write latitudes, longitudes.\n",
      "    nav_lat[:] = lat\n",
      "    nav_lon[:] = lon\n",
      "# Define a 2D variable to hold the data\n",
      "    for i in Term:\n",
      "        CO3_ncfile.createVariable(i,'f4',('lat','lon'))\n",
      "# ncfile for OmegaA\n",
      "if os.path.isfile(dirout+'Decom_OmegaA'+run+'.nc'):\n",
      "    OmegaA_ncfile = netCDF4.Dataset(dirout+'Decom_OmegaA'+run+'.nc','a')\n",
      "else:\n",
      "    OmegaA_ncfile = netCDF4.Dataset(dirout+'Decom_OmegaA'+run+'.nc','w',format='NETCDF3_CLASSIC')\n",
      "    OmegaA_ncfile.createDimension('lat', 160)     # latitude axis\n",
      "    OmegaA_ncfile.createDimension('lon', 394)     # longitude axis\n",
      "# Define two variables with the same names as dimensions,\n",
      "# a conventional way to define \"coordinate variables\".\n",
      "    nav_lat = OmegaA_ncfile.createVariable('nav_lat', 'f4', ('lat','lon'))\n",
      "    nav_lat.units = 'degrees_north'\n",
      "    nav_lat.standard_name = 'latitude'\n",
      "    nav_lon = OmegaA_ncfile.createVariable('nav_lon', 'f4', ('lat','lon'))\n",
      "    nav_lon.units = 'degrees_east'\n",
      "    nav_lon.standard_name = 'longitude'\n",
      "# Write latitudes, longitudes.\n",
      "    nav_lat[:] = lat[:]\n",
      "    nav_lon[:] = lon[:]\n",
      "# Define a 2D variable to hold the data\n",
      "    for i in Term:\n",
      "        OmegaA_ncfile.createVariable(i,'f4',('lat','lon'))\n"
     ],
     "language": "python",
     "metadata": {},
     "outputs": [],
     "prompt_number": 11
    },
    {
     "cell_type": "heading",
     "level": 2,
     "metadata": {},
     "source": [
      "Build wrapper functions to pass carb results to 'numDeriv' routines that compute derivatives (jacobian & hessian)"
     ]
    },
    {
     "cell_type": "code",
     "collapsed": false,
     "input": [
      "%%R\n",
      "# Following routine name \"f\" can be passed directly to 'jacobian' (array of 1st derivatives) in numDeriv package\n",
      "# Get 4 variables: pCO2, H, CO3, OmegaA\n",
      "  f <- function(z) {\n",
      "          At = z[1] * 1e-6\n",
      "          Ct = z[2] * 1e-6\n",
      "          salt = z[3]\n",
      "          temp = z[4]\n",
      "#          PO4 = z[5] * 1e-6\n",
      "#          Si = z[6]  * 1e-6\n",
      "          c <- carb(flag=15, var1=At, var2=Ct, S=salt, T=temp, P=0, Pt=0, Sit=0, k1k2=\"l\", kf=\"dg\", ks=\"d\", pHscale=\"T\")\n",
      "          H      <- 10^(-c$pH) * 1e+9 # Hydrogen ion concentration (nmol/kg)\n",
      "          CO3    <- c$CO3      * 1e+6 # Carbonate ion concentration (umol/kg)\n",
      "          pCO2   <- c$pCO2\n",
      "          OmegaA <- c$OmegaAragonite\n",
      "          output = cbind(pCO2, H, CO3, OmegaA)\n",
      "          return(output)\n",
      "          }\n",
      "# Unlike the numDeriv's 'jacobian' function, its 'hessian' function must compute a more complicated array for 1 variable at a time.\n",
      "# -> So , define arrays below to do that (will pass each array name as argument to 'hessian')\n",
      "\n",
      "# Routines for 'hessian':\n",
      "# Function to get only H variable from f\n",
      "  fH    <- function(z) {\n",
      "           g <- f(z)\n",
      "           g <- data.frame(g)\n",
      "           return(g$H)\n",
      "           }\n",
      "# Function to get only CO3 variable from f\n",
      "  fCO3  <- function(z) {\n",
      "           g <- f(z)\n",
      "           g <- data.frame(g)\n",
      "           return(g$CO3)\n",
      "           }\n",
      "# Function to get only pCO2 variable from f\n",
      "  fpCO2 <- function(z) {\n",
      "           g <- f(z)\n",
      "           g <- data.frame(g)\n",
      "           return(g$pCO2)\n",
      "           }\n",
      "# Function to get only OmegaAragonite variable from f\n",
      "  fOmegaA  <- function(z) {\n",
      "           g <- f(z)\n",
      "           g <- data.frame(g)\n",
      "           return(g$OmegaA)\n",
      "           }\n"
     ],
     "language": "python",
     "metadata": {},
     "outputs": [],
     "prompt_number": 5
    },
    {
     "cell_type": "heading",
     "level": 2,
     "metadata": {},
     "source": [
      "Calcul jacobian and hessian and part of each term of the decomposition"
     ]
    },
    {
     "cell_type": "markdown",
     "metadata": {},
     "source": [
      "Compute Jacobian (1xn array of 1st derivatives), where `n` is the input variable (At, Ct, S, T) and `m` is the year (1850, 2100).\n",
      "\n",
      "\\begin{equation}\n",
      "J =\n",
      "\\begin{bmatrix} \n",
      "\\dfrac{\\partial F_1}{\\partial x_1} & \\cdots & \\dfrac{\\partial F_1}{\\partial x_n} \\\\\n",
      "\\vdots                             & \\ddots & \\vdots                             \\\\\n",
      "\\dfrac{\\partial F_m}{\\partial x_1} & \\cdots & \\dfrac{\\partial F_m}{\\partial x_n}  \n",
      "\\end{bmatrix}.\n",
      "\\end{equation}\n"
     ]
    },
    {
     "cell_type": "markdown",
     "metadata": {},
     "source": [
      "Compute Hessian $H(f)_m$, an nxn array of 2nd derivatives, i.e., 1 array per output variable (m = 'pCO2', 'H', 'CO3', 'OmegaA'), where the row labels and the column labels are both the list of input variables (n = 'At', 'Ct', 'S', 'T').\n",
      "\n",
      "\\begin{equation}\n",
      "H(f)_m = \n",
      "\\begin{bmatrix}\n",
      "\\dfrac{\\partial^2 f}{\\partial x_1^2} & \\dfrac{\\partial^2 f}{\\partial x_1\\,\\partial x_2} & \\cdots & \\dfrac{\\partial^2 f}{\\partial x_1\\,\\partial x_n} \\\\[2.2ex]\n",
      "\\dfrac{\\partial^2 f}{\\partial x_2\\,\\partial x_1} & \\dfrac{\\partial^2 f}{\\partial x_2^2} & \\cdots & \\dfrac{\\partial^2 f}{\\partial x_2\\,\\partial x_n} \\\\[2.2ex]\n",
      "\\vdots & \\vdots & \\ddots & \\vdots \\\\[2.2ex]\n",
      "\\dfrac{\\partial^2 f}{\\partial x_n\\,\\partial x_1} & \\dfrac{\\partial^2 f}{\\partial x_n\\,\\partial x_2} & \\cdots & \\dfrac{\\partial^2 f}{\\partial x_n^2}\n",
      "\\end{bmatrix}.\n",
      "\\end{equation}\n"
     ]
    },
    {
     "cell_type": "markdown",
     "metadata": {},
     "source": [
      "Compute simple product of $\\Delta \\times J$, element by element. Beforehand, need to expand same $\\Delta$ vector (1 number per input variable) to be repeated, i.e., having 1 row (always the same) per output variable.\n",
      "\\begin{equation}\n",
      "\\Delta \\times J =\n",
      "\\begin{bmatrix} \n",
      "\\dfrac{\\partial F_1}{\\partial x_1} \\Delta x_1 & \\cdots & \\dfrac{\\partial F_1}{\\partial x_n} \\Delta x_n \\\\\n",
      "\\vdots                             & \\ddots & \\vdots                             \\\\\n",
      "\\dfrac{\\partial F_m}{\\partial x_1} \\Delta x_1 & \\cdots & \\dfrac{\\partial F_m}{\\partial x_n} \\Delta x_n \n",
      "\\end{bmatrix}.\n",
      "\\end{equation}"
     ]
    },
    {
     "cell_type": "markdown",
     "metadata": {},
     "source": [
      "Compute simple product of $\\Delta \\Delta \\times H$, element by element.\n",
      "\\begin{equation}\n",
      "H(f)_m \\times \\Delta^2 = \n",
      "\\begin{bmatrix}\n",
      "\\dfrac{\\partial^2 f}{\\partial x_1^2} {(\\Delta{x_1})}^2& \\dfrac{\\partial^2 f}{\\partial x_1\\,\\partial x_2} \\Delta{x_1}\\Delta{x_2}\n",
      "  & \\cdots & \\dfrac{\\partial^2 f}{\\partial x_1\\,\\partial x_n} \\Delta{x_1}\\Delta{x_n}\\\\[2.2ex]\n",
      "\\dfrac{\\partial^2 f}{\\partial x_2\\,\\partial x_1} \\Delta{x_2}\\Delta{x_1}& \\dfrac{\\partial^2 f}{\\partial x_2^2} {(\\Delta{x_2})}^2\n",
      "  & \\cdots & \\dfrac{\\partial^2 f}{\\partial x_2\\,\\partial x_n} \\Delta{x_2}\\Delta{x_n}\\\\[2.2ex]\n",
      "\\vdots & \\vdots & \\ddots & \\vdots \\\\[2.2ex]\n",
      "\\dfrac{\\partial^2 f}{\\partial x_n\\,\\partial x_1} \\Delta{x_n}\\Delta{x_1}& \\dfrac{\\partial^2 f}{\\partial x_n\\,\\partial x_2}      \\Delta{x_n}\\Delta{x_2} & \\cdots & \\dfrac{\\partial^2 f}{\\partial x_n^2} {(\\Delta{x_n})}^2\n",
      "\\end{bmatrix}.\n",
      "\\end{equation}"
     ]
    },
    {
     "cell_type": "code",
     "collapsed": false,
     "input": [
      "        test = 1\n",
      "# Provide data point by point and run by run\n",
      "#for ii in 99:#range(29,30):\n",
      "#    for jj in 149:#range(size(mask[1,])):\n",
      "        ii = 99\n",
      "        jj = 149\n",
      "        print(DH[ii,jj])\n",
      "        if mask[ii,jj] == 1:\n",
      "# 1) Get the mean state and Amplitude annual cycle\n",
      "# Surface Mean for Med Sea Basin (1x4 array)\n",
      "          At = TALKmean[ii,jj]\n",
      "          #At = 2685\n",
      "          Ct = DICmean[ii,jj]\n",
      "          #Ct = 2300\n",
      "          Salt = Smean[ii,jj]\n",
      "          #Salt = 38.1\n",
      "          Temp = Tmean[ii,jj]\n",
      "          #Temp = 18.5\n",
      "          #PO4 = PO4mean[ii,jj]\n",
      "          #Si = Simean[ii,jj]\n",
      "          z = np.array([At, Ct, Salt, Temp])\n",
      "# Get the surface Amplitude of Annual Cycle (August - Feb, because that is when amplitude for H+ is largest)\n",
      "#    upper case \"D\" indicates Delta (Aug - Feb)\n",
      "          DAt = DTALK[ii,jj]\n",
      "          #DAt = 15\n",
      "          DCt = DDIC[ii,jj]\n",
      "          #DCt = -5\n",
      "          DSalt = DS[ii,jj] \n",
      "          #DSalt = 0.1\n",
      "          DTemp = DT[ii,jj]\n",
      "          #DTemp = 11\n",
      "          Del = np.array([DAt, DCt, DSalt, DTemp])\n",
      "          Del = np.kron(np.ones((4,1)),Del)\n",
      "# Additionnal convenient transformation of Del for combined products.\n",
      "# Zero out elements of the array that are duplicates\n",
      "# (one out of each pair of the elements that are symetric across the diagonal),\n",
      "# for proper contribution to the total sum of the $\\Delta\\Delta \\times H$ array, divided by two.\n",
      "          Del2=Del*Del.conj().transpose()*np.tril(1-0.5*np.identity(4))\n",
      "#          %octave -i Del -o Del2 Del2=Del.*Del'.*tril(1-0.5*eye(4));\n",
      "  \n",
      "# 2) Compute the 1st and 2nd derivatives\n",
      "# Compute Jacobian (array of 1st partial derivatives)\n",
      "# Options below: use func=f to get all 4 variables\n",
      "# func=f       (m=4: pCO2, H, CO3, OmegaA)\n",
      "# func=fH      (m=1: H only)\n",
      "# func=fCO3    (m=1: CO3 only)\n",
      "# func=fpCO2   (m=1: pCO2 only)\n",
      "# func=fOmegaA (m=1: OmegaA only)\n",
      "          %R -i z -o jac jac <- jacobian(func=f, x=z, method='simple')\n",
      "# Compute Hessian (array of 2nd partial derivatives)\n",
      "          %R -o hespCO2   hespCO2   <- hessian(func=fpCO2, x=z)\n",
      "          %R -o hesH      hesH      <- hessian(func=fH, x=z)\n",
      "          %R -o hesCO3    hesCO3    <- hessian(func=fCO3, x=z)\n",
      "          %R -o hesOmegaA hesOmegaA <- hessian(func=fOmegaA, x=z)\n",
      "\n",
      "# 3) Compute combined products: derivatives times $\\Delta$'s\n",
      "# Products with 1st derivatives; multiply matrices 1st order terms\n",
      "          o1st = Del * jac\n",
      "# Products with 2nd derivatives;  multiply matrices 2nd order terms\n",
      "          o2ndpCO2 = Del2 * hespCO2\n",
      "          o2ndH = Del2 * hesH\n",
      "          o2ndCO3 = Del2 * hesCO3\n",
      "          o2ndOmegaA = Del2 * hesOmegaA\n",
      "# Massage products of 2nd-order derivatives.\n",
      "# Rearrange $\\Delta \\Delta \\times H$ results (2nd order terms) into data frames\n",
      "# with same structure as for the $\\Delta \\times J$ results (1st order terms).\n",
      "          o2nd = np.empty((4,10))\n",
      "          o2nd[0,] = o2ndpCO2[o2ndpCO2!=0].conj().transpose()\n",
      "          o2nd[1,] = o2ndH[o2ndH!=0].conj().transpose()\n",
      "          o2nd[2,] = o2ndCO3[o2ndCO3!=0].conj().transpose()\n",
      "          o2nd[3,] = o2ndOmegaA[o2ndOmegaA!=0].conj().transpose() \n",
      "#          %octave -o o2nd o2nd = o2ndpCO2(o2ndpCO2~=0)';\n",
      "#          %octave o2nd(2,:) = o2ndH(o2ndH~=0)';\n",
      "#          %octave o2nd(3,:) = o2ndCO3(o2ndCO3~=0)';\n",
      "#          %octave -o o2nd o2nd(4,:) = o2ndOmegaA(o2ndOmegaA~=0)';\n",
      "  \n",
      "# 4) Writing netCDF data with all separate terms\n",
      "          if test == 0:\n",
      "              pCO2_ncfile.variables['At'][ii,jj] = o1st[0,0]\n",
      "              pCO2_ncfile.variables['Ct'][ii,jj] = o1st[0,1]\n",
      "              pCO2_ncfile.variables['S'][ii,jj]  = o1st[0,2]\n",
      "              pCO2_ncfile.variables['T'][ii,jj]  = o1st[0,3]\n",
      "              pCO2_ncfile.variables['At_At'][ii,jj] = o2nd[0,0]\n",
      "              pCO2_ncfile.variables['At_Ct'][ii,jj] = o2nd[0,1]\n",
      "              pCO2_ncfile.variables['Ct_Ct'][ii,jj] = o2nd[0,2]\n",
      "              pCO2_ncfile.variables['At_S'][ii,jj]  = o2nd[0,3]\n",
      "              pCO2_ncfile.variables['Ct_S'][ii,jj]  = o2nd[0,4]\n",
      "              pCO2_ncfile.variables['S_S'][ii,jj]   = o2nd[0,5]\n",
      "              pCO2_ncfile.variables['At_T'][ii,jj]  = o2nd[0,6]\n",
      "              pCO2_ncfile.variables['Ct_T'][ii,jj]  = o2nd[0,7]\n",
      "              pCO2_ncfile.variables['S_T'][ii,jj]   = o2nd[0,8]\n",
      "              pCO2_ncfile.variables['T_T'][ii,jj]   = o2nd[0,9]\n",
      "              H_ncfile.variables['At'][ii,jj] = o1st[1,0]\n",
      "              H_ncfile.variables['Ct'][ii,jj] = o1st[1,1]\n",
      "              H_ncfile.variables['S'][ii,jj]  = o1st[1,2]\n",
      "              H_ncfile.variables['T'][ii,jj]  = o1st[1,3]\n",
      "              H_ncfile.variables['At_At'][ii,jj] = o2nd[1,0]\n",
      "              H_ncfile.variables['At_Ct'][ii,jj] = o2nd[1,1]\n",
      "              H_ncfile.variables['Ct_Ct'][ii,jj] = o2nd[1,2]\n",
      "              H_ncfile.variables['At_S'][ii,jj]  = o2nd[1,3]\n",
      "              H_ncfile.variables['Ct_S'][ii,jj]  = o2nd[1,4]\n",
      "              H_ncfile.variables['S_S'][ii,jj]   = o2nd[1,5]\n",
      "              H_ncfile.variables['At_T'][ii,jj]  = o2nd[1,6]\n",
      "              H_ncfile.variables['Ct_T'][ii,jj]  = o2nd[1,7]\n",
      "              H_ncfile.variables['S_T'][ii,jj]   = o2nd[1,8]\n",
      "              H_ncfile.variables['T_T'][ii,jj]   = o2nd[1,9]\n",
      "              CO3_ncfile.variables['At'][ii,jj] = o1st[2,0]\n",
      "              CO3_ncfile.variables['Ct'][ii,jj] = o1st[2,1]\n",
      "              CO3_ncfile.variables['S'][ii,jj]  = o1st[2,2]\n",
      "              CO3_ncfile.variables['T'][ii,jj]  = o1st[2,3]\n",
      "              CO3_ncfile.variables['At_At'][ii,jj] = o2nd[2,0]\n",
      "              CO3_ncfile.variables['At_Ct'][ii,jj] = o2nd[2,1]\n",
      "              CO3_ncfile.variables['Ct_Ct'][ii,jj] = o2nd[2,2]\n",
      "              CO3_ncfile.variables['At_S'][ii,jj]  = o2nd[2,3]\n",
      "              CO3_ncfile.variables['Ct_S'][ii,jj]  = o2nd[2,4]\n",
      "              CO3_ncfile.variables['S_S'][ii,jj]   = o2nd[2,5]\n",
      "              CO3_ncfile.variables['At_T'][ii,jj]  = o2nd[2,6]\n",
      "              CO3_ncfile.variables['Ct_T'][ii,jj]  = o2nd[2,7]\n",
      "              CO3_ncfile.variables['S_T'][ii,jj]   = o2nd[2,8]\n",
      "              CO3_ncfile.variables['T_T'][ii,jj]   = o2nd[2,9]\n",
      "              OmegaA_ncfile.variables['At'][ii,jj] = o1st[3,0]\n",
      "              OmegaA_ncfile.variables['Ct'][ii,jj] = o1st[3,1]\n",
      "              OmegaA_ncfile.variables['S'][ii,jj]  = o1st[3,2]\n",
      "              OmegaA_ncfile.variables['T'][ii,jj]  = o1st[3,3]\n",
      "              OmegaA_ncfile.variables['At_At'][ii,jj] = o2nd[3,0]\n",
      "              OmegaA_ncfile.variables['At_Ct'][ii,jj] = o2nd[3,1]\n",
      "              OmegaA_ncfile.variables['Ct_Ct'][ii,jj] = o2nd[3,2]\n",
      "              OmegaA_ncfile.variables['At_S'][ii,jj]  = o2nd[3,3]\n",
      "              OmegaA_ncfile.variables['Ct_S'][ii,jj]  = o2nd[3,4]\n",
      "              OmegaA_ncfile.variables['S_S'][ii,jj]   = o2nd[3,5]\n",
      "              OmegaA_ncfile.variables['At_T'][ii,jj]  = o2nd[3,6]\n",
      "              OmegaA_ncfile.variables['Ct_T'][ii,jj]  = o2nd[3,7]\n",
      "              OmegaA_ncfile.variables['S_T'][ii,jj]   = o2nd[3,8]\n",
      "              OmegaA_ncfile.variables['T_T'][ii,jj]   = o2nd[3,9]\n",
      "          else:\n",
      "              print(o1st)\n",
      "              print(o2nd[1,9])"
     ],
     "language": "python",
     "metadata": {},
     "outputs": [
      {
       "output_type": "stream",
       "stream": "stdout",
       "text": [
        "4.12807427353\n",
        "[[  3.09714365e+01  -1.92997740e+02  -1.37090006e+00   4.16252362e+02]\n",
        " [  5.66905521e-01  -3.26452867e+00  -2.74752415e-02   6.79521356e+00]\n",
        " [ -4.74004620e+00   2.48343086e+01   3.05221609e-02   6.22366818e+00]\n",
        " [ -7.21667521e-02   3.78099984e-01   1.57550910e-03   1.79487560e-01]]"
       ]
      },
      {
       "output_type": "stream",
       "stream": "stdout",
       "text": [
        "\n",
        "1.28468854197\n"
       ]
      }
     ],
     "prompt_number": 18
    },
    {
     "cell_type": "code",
     "collapsed": false,
     "input": [
      "o2nd.sum(axis=1)"
     ],
     "language": "python",
     "metadata": {},
     "outputs": [
      {
       "metadata": {},
       "output_type": "pyout",
       "prompt_number": 19,
       "text": [
        "array([ 32.19198995,   0.54108618,   0.41827006,   0.06103578])"
       ]
      }
     ],
     "prompt_number": 19
    },
    {
     "cell_type": "code",
     "collapsed": false,
     "input": [
      "pCO2_ncfile.close()\n",
      "H_ncfile.close()\n",
      "CO3_ncfile.close()\n",
      "OmegaA_ncfile.close()"
     ],
     "language": "python",
     "metadata": {},
     "outputs": [],
     "prompt_number": 10
    },
    {
     "cell_type": "heading",
     "level": 2,
     "metadata": {},
     "source": [
      "Computed and show combined products"
     ]
    },
    {
     "cell_type": "markdown",
     "metadata": {},
     "source": [
      "Combine 1st & 2nd order data frames and compute sums of absolute contributions for 1st order terms, 2nd order terms, and all terms. "
     ]
    },
    {
     "cell_type": "code",
     "collapsed": false,
     "input": [
      "# list of partial terms\n",
      "Term = ['At','Ct','S','T','At_At','At_Ct','At_S','At_T','Ct_Ct','Ct_S','Ct_T','S_S','S_T','T_T']\n",
      "# ncfile for pCO2\n",
      "f = netCDF4.Dataset(dirout+'Decom_pCO2'+run+'.nc','r')\n",
      "# compute 2D field of delta of the sum of all 1st, 2nd order and total \n",
      "pCO2_1st = mask * 0\n",
      "pCO2_2nd = mask * 0\n",
      "for i in Term[0:3]: # 1st order delta computation\n",
      "    pCO2_1st = pCO2_1st + f.variables[i][:]\n",
      "for i in Term[4:13]: # 2nd order delta computation\n",
      "    pCO2_2nd = pCO2_2nd + f.variables[i][:]\n",
      "pCO2_tot = pCO2_1st + pCO2_2nd # total delta computation\n",
      "\n",
      "simp[0,0] = pCO2_tot[:] * ds2d * mask_MED].sum() / S_MED\n",
      "simp[0,1] = pCO2_1st[:] * ds2d * mask_MED].sum() / S_MED\n",
      "simp[0,2] = pCO2_2nd[:] * ds2d * mask_MED].sum() / S_MED\n",
      "for i in range(len(Term)):\n",
      "    field = f.variables[Term[i]]\n",
      "    part[i] = [field[:] * ds2d * mask_MED].sum() / S_MED / simp[0,0] * 100\n",
      "MED_details = DataFrame(part, index=['pCO2'], columns=[Term])\n",
      "MED_simple = DataFrame(simp, index=['pCO2'], columns=['Total','1st order','2nd order']\n",
      "f.close()\n",
      "# ncfile for H\n",
      "H_ncfile = netCDF4.Dataset(dirout+'Decom_H'+run+'.nc','a')\n",
      "# ncfile for CO3\n",
      "CO3_ncfile = netCDF4.Dataset(dirout+'Decom_CO3'+run+'.nc','a')\n",
      "# ncfile for OmegaA\n",
      "OmegaA_ncfile = netCDF4.Dataset(dirout+'Decom_OmegaA'+run+'.nc','a')\n"
     ],
     "language": "python",
     "metadata": {},
     "outputs": []
    },
    {
     "cell_type": "code",
     "collapsed": false,
     "input": [
      "DpCO2[1,1]"
     ],
     "language": "python",
     "metadata": {},
     "outputs": [
      {
       "metadata": {},
       "output_type": "pyout",
       "prompt_number": 59,
       "text": [
        "nan"
       ]
      }
     ],
     "prompt_number": 59
    },
    {
     "cell_type": "code",
     "collapsed": false,
     "input": [
      "# list of partial terms\n",
      "Term = ['At','Ct','S','T','At_At','At_Ct','At_S','At_T','Ct_Ct','Ct_S','Ct_T','S_S','S_T','T_T']\n",
      "# ncfile for pCO2\n",
      "f = netCDF4.Dataset(dirout+'Decom_pCO2'+run+'.nc','r')\n",
      "# compute 2D field of delta of the sum of all 1st, 2nd order and total \n",
      "pCO2_1st = mask * 0\n",
      "pCO2_2nd = mask * 0\n",
      "for i in Term[0:4]: # 1st order delta computation\n",
      "    print(i)\n",
      "    print(f.variables[i][100,150])\n",
      "    pCO2_1st = pCO2_1st + f.variables[i][:]\n",
      "for i in Term[4:14]: # 2nd order delta computation\n",
      "    print(i)\n",
      "    print(f.variables[i][100,150])\n",
      "    pCO2_2nd = pCO2_2nd + f.variables[i][:]\n",
      "pCO2_tot = pCO2_1st + pCO2_2nd # total delta computation\n",
      "# read experimental delta pCO2\n",
      "\n",
      "# pCO2_exp = pCO2_exp * (pCO2_tot * 0 + 1)\n"
     ],
     "language": "python",
     "metadata": {},
     "outputs": [
      {
       "output_type": "stream",
       "stream": "stdout",
       "text": [
        "At\n",
        "27.6309\n",
        "Ct\n",
        "-188.175\n",
        "S\n",
        "-1.10781\n",
        "T\n",
        "416.661\n",
        "At_At\n",
        "0.724104\n",
        "At_Ct\n",
        "-9.24344\n",
        "At_S\n",
        "-0.0299471\n",
        "At_T\n",
        "13.1903\n",
        "Ct_Ct\n",
        "29.4932\n",
        "Ct_S\n",
        "0.204501\n",
        "Ct_T\n",
        "-90.5802\n",
        "S_S\n",
        "0.000567742\n",
        "S_T\n",
        "-0.517591\n",
        "T_T\n",
        "89.47\n"
       ]
      }
     ],
     "prompt_number": 70
    },
    {
     "cell_type": "code",
     "collapsed": false,
     "input": [
      "print(Term[0:3])"
     ],
     "language": "python",
     "metadata": {},
     "outputs": [
      {
       "output_type": "stream",
       "stream": "stdout",
       "text": [
        "['At', 'Ct', 'S']\n"
       ]
      }
     ],
     "prompt_number": 67
    },
    {
     "cell_type": "code",
     "collapsed": false,
     "input": [
      "import pandas as pd\n"
     ],
     "language": "python",
     "metadata": {},
     "outputs": []
    },
    {
     "cell_type": "code",
     "collapsed": false,
     "input": [
      "from mpl_toolkits.basemap import Basemap\n",
      "from matplotlib import rcParams\n",
      "from matplotlib.ticker import MultipleLocator\n",
      "import numpy as np\n",
      "import matplotlib.pyplot as plt\n",
      "# 2-panel plot, oriented vertically, colorbar on bottom.\n",
      "rcParams['figure.subplot.hspace'] = 0.4 # more height between subplots\n",
      "rcParams['figure.subplot.wspace'] = 0.5 # more width between subplots\n",
      "# create new figure\n",
      "fig=plt.figure()\n",
      "# panel 1\n",
      "mnh = Basemap(resolution='l',height=2e6,width=4.5e6,area_thresh=10000.,projection='omerc',lon_0=18,lat_0=38,lon_1=0,lat_1=30,lon_2=40,lat_2=45)\n",
      "xnh,ynh = mnh(lon,lat)\n",
      "ax = fig.add_subplot(311)\n",
      "CS = mnh.contour(xnh,ynh,DpCO2,arange(-300,500,50),linewidths=0.5,colors='k')\n",
      "CS = mnh.contourf(xnh,ynh,DpCO2,arange(-300,500,50),cmap=plt.cm.RdBu)\n",
      "# colorbar on bottom.\n",
      "mnh.colorbar(location='bottom',pad='12%',ticks=arange(-300,500,100))\n",
      "mnh.drawcoastlines(linewidth=0.5)\n",
      "delat = 10.\n",
      "circles = np.arange(0.,90.,delat).tolist()+\\\n",
      "np.arange(-delat,-90,-delat).tolist()\n",
      "mnh.drawparallels(circles,labels=[1,0,0,0])\n",
      "delon = 5.\n",
      "meridians = np.arange(0,360,delon)\n",
      "mnh.drawmeridians(meridians,labels=[1,0,0,1])\n",
      "plt.title('DpCO2_exp')\n",
      "# panel 2\n",
      "ax = fig.add_subplot(312)\n",
      "CS = mnh.contour(xnh,ynh,pCO2_tot,arange(-300,500,50),linewidths=0.5,colors='k')\n",
      "CS = mnh.contourf(xnh,ynh,pCO2_tot,arange(-300,500,50),cmap=plt.cm.RdBu)\n",
      "# colorbar on bottom.\n",
      "mnh.colorbar(location='bottom',pad='12%',ticks=arange(-300,500,100))\n",
      "mnh.drawcoastlines(linewidth=0.5)\n",
      "mnh.drawparallels(circles,labels=[1,0,0,0])\n",
      "mnh.drawmeridians(meridians,labels=[1,0,0,1])\n",
      "plt.title('DpCO2_tot')\n",
      "# panel 3\n",
      "ax = fig.add_subplot(313)\n",
      "CS = mnh.contour(xnh,ynh,pCO2_1st,arange(-300,500,50),linewidths=0.5,colors='k')\n",
      "CS = mnh.contourf(xnh,ynh,pCO2_1st,arange(-300,500,50),cmap=plt.cm.RdBu)\n",
      "# colorbar on bottom.\n",
      "mnh.colorbar(location='bottom',pad='12%',ticks=arange(-300,500,100))\n",
      "mnh.drawcoastlines(linewidth=0.5)\n",
      "mnh.drawparallels(circles,labels=[1,0,0,0])\n",
      "mnh.drawmeridians(meridians,labels=[1,0,0,1])\n",
      "plt.title('DpCO2_1st')\n",
      "\n"
     ],
     "language": "python",
     "metadata": {},
     "outputs": [
      {
       "metadata": {},
       "output_type": "pyout",
       "prompt_number": 71,
       "text": [
        "<matplotlib.text.Text at 0x26e4b7d0>"
       ]
      },
      {
       "metadata": {},
       "output_type": "display_data",
       "png": "[encoded data removed]",
       "text": [
        "<matplotlib.figure.Figure at 0xccfbe10>"
       ]
      }
     ],
     "prompt_number": 71
    },
    {
     "cell_type": "code",
     "collapsed": false,
     "input": [
      "# 2-panel plot, oriented vertically, colorbar on bottom.\n",
      "rcParams['figure.subplot.hspace'] = 0.4 # more height between subplots\n",
      "rcParams['figure.subplot.wspace'] = 0.5 # more width between subplots\n",
      "# create new figure\n",
      "fig=plt.figure()\n",
      "# panel 1\n",
      "mnh = Basemap(resolution='l',height=2e6,width=4.5e6,area_thresh=10000.,projection='omerc',lon_0=18,lat_0=38,lon_1=0,lat_1=30,lon_2=40,lat_2=45)\n",
      "xnh,ynh = mnh(lon,lat)\n",
      "ax = fig.add_subplot(311)\n",
      "CS = mnh.contour(xnh,ynh,DH,arange(-300,300,500),linewidths=0.5,colors='k')\n",
      "CS = mnh.contourf(xnh,ynh,DpCO2,arange(-300,300,50),cmap=plt.cm.RdBu)\n",
      "# colorbar on bottom.\n",
      "mnh.colorbar(location='bottom',pad='12%',ticks=arange(-300,300,100))\n",
      "mnh.drawcoastlines(linewidth=0.5)\n",
      "delat = 10.\n",
      "circles = np.arange(0.,90.,delat).tolist()+\\\n",
      "np.arange(-delat,-90,-delat).tolist()\n",
      "mnh.drawparallels(circles,labels=[1,0,0,0])\n",
      "delon = 5.\n",
      "meridians = np.arange(0,360,delon)\n",
      "mnh.drawmeridians(meridians,labels=[1,0,0,1])\n",
      "plt.title('DpCO2_exp')\n",
      "# panel 2\n",
      "ax = fig.add_subplot(312)\n",
      "CS = mnh.contour(xnh,ynh,pCO2_tot,arange(-300,300,50),linewidths=0.5,colors='k')\n",
      "CS = mnh.contourf(xnh,ynh,pCO2_tot,arange(-300,300,50),cmap=plt.cm.RdBu)\n",
      "# colorbar on bottom.\n",
      "mnh.colorbar(location='bottom',pad='12%',ticks=arange(-300,300,50))\n",
      "mnh.drawcoastlines(linewidth=0.5)\n",
      "mnh.drawparallels(circles,labels=[1,0,0,0])\n",
      "mnh.drawmeridians(meridians,labels=[1,0,0,1])\n",
      "plt.title('DpCO2_tot')\n",
      "# panel 3\n",
      "ax = fig.add_subplot(313)\n",
      "CS = mnh.contour(xnh,ynh,pCO2_1st,arange(-300,300,50),linewidths=0.5,colors='k')\n",
      "CS = mnh.contourf(xnh,ynh,pCO2_1st,arange(-300,300,50),cmap=plt.cm.RdBu)\n",
      "# colorbar on bottom.\n",
      "mnh.colorbar(location='bottom',pad='12%',ticks=arange(-300,300,50))\n",
      "mnh.drawcoastlines(linewidth=0.5)\n",
      "mnh.drawparallels(circles,labels=[1,0,0,0])\n",
      "mnh.drawmeridians(meridians,labels=[1,0,0,1])\n",
      "plt.title('DpCO2_1st')\n",
      "\n"
     ],
     "language": "python",
     "metadata": {},
     "outputs": []
    },
    {
     "cell_type": "code",
     "collapsed": false,
     "input": [
      "print([-1.5, -1, -0.5, 0, 0.5, 1])\n",
      "print(arange(-500,500,100))"
     ],
     "language": "python",
     "metadata": {},
     "outputs": [
      {
       "output_type": "stream",
       "stream": "stdout",
       "text": [
        "[-1.5, -1, -0.5, 0, 0.5, 1]\n",
        "[-500 -400 -300 -200 -100    0  100  200  300  400]\n"
       ]
      }
     ],
     "prompt_number": 43
    },
    {
     "cell_type": "markdown",
     "metadata": {},
     "source": [
      "Use the combined data frames above divided by the total sum to determine relative contributions."
     ]
    },
    {
     "cell_type": "code",
     "collapsed": false,
     "input": [
      "%%R\n",
      "  fo1st2nd <- vector(\"list\")\n",
      "  for (ny in 1:nyr) {\n",
      "      fo1st2nd[[ny]] <-do1st2nd[[ny]] / do1st2nd[[ny]]$Sum\n",
      "      print( format(round(fo1st2nd[[ny]],digits=3), nsmall=3) )\n",
      "  }"
     ],
     "language": "python",
     "metadata": {},
     "outputs": [
      {
       "metadata": {},
       "output_type": "display_data",
       "text": [
        "           At     Ct      S     T At_At Ct_At Ct_Ct  S_At  S_Ct   S_S   T_At\n",
        "pCO2   -0.105 -0.044  0.006 1.002 0.004 0.003 0.001 0.000 0.000 0.000 -0.047\n",
        "H      -0.112 -0.042  0.007 1.017 0.004 0.003 0.000 0.000 0.000 0.000 -0.042\n",
        "CO3     0.558  0.176 -0.007 0.302 0.001 0.001 0.000 0.000 0.000 0.000  0.001\n",
        "OmegaA  0.335  0.106 -0.011 0.458 0.001 0.000 0.000 0.000 0.000 0.000  0.011\n",
        "         T_Ct    T_S    T_T  Sum1   Sum2   Sum\n",
        "pCO2   -0.020  0.002  0.199 0.858  0.142 1.000\n",
        "H      -0.016  0.003  0.178 0.870  0.130 1.000\n",
        "CO3     0.000  0.001 -0.032 1.028 -0.028 1.000\n",
        "OmegaA  0.003 -0.001  0.098 0.888  0.112 1.000\n",
        "           At     Ct      S     T At_At Ct_At Ct_Ct   S_At   S_Ct   S_S   T_At\n",
        "pCO2   -0.304 -0.135  0.016 1.304 0.025 0.021 0.004 -0.001 -0.001 0.000 -0.129\n",
        "H      -0.356 -0.145  0.020 1.365 0.030 0.023 0.005 -0.002 -0.001 0.000 -0.127\n",
        "CO3     0.550  0.205 -0.004 0.235 0.008 0.006 0.001 -0.001  0.000 0.000  0.000\n",
        "OmegaA  0.409  0.152 -0.011 0.348 0.006 0.005 0.001 -0.002 -0.001 0.000  0.017\n",
        "         T_Ct    T_S   T_T  Sum1  Sum2   Sum\n",
        "pCO2   -0.058  0.007 0.251 0.881 0.119 1.000\n",
        "H      -0.052  0.008 0.233 0.884 0.116 1.000\n",
        "CO3    -0.001  0.001 0.000 0.986 0.014 1.000\n",
        "OmegaA  0.006 -0.002 0.072 0.898 0.102 1.000\n"
       ]
      }
     ],
     "prompt_number": 20
    },
    {
     "cell_type": "heading",
     "level": 2,
     "metadata": {},
     "source": [
      "Conclusions"
     ]
    },
    {
     "cell_type": "markdown",
     "metadata": {},
     "source": [
      "For the calculated variables, the 2nd order terms are essentially 2nd order in importance, when taken together. For $p$CO$_2$, they contribute only 12 to 14% of the total change, all together. That finding is as hoped by those who chose to do the 1st order only simplification (truncating 2nd order terms and beyond). \n",
      "\n",
      "Yet there is a whole lot of compensation going on. So it is misleading to simply neglect all individual 2nd order terms.  Particularly in the case of temperature, some individual 2nd order terms are larger than some of individual 1st order terms. For instance for $p$CO$_2$, there is a large change due to the 2nd-order diagonal term for temperature, \n",
      "$$\n",
      "\\dfrac{\\partial^2 f}{\\partial x_n^2} {(\\Delta{x_n})}^2\n",
      "\\hbox{,}\n",
      "$$\n",
      "which is equivalent to 20 to 25% of the total amplitude. That is more than any other first-order term except that for temperature itself. So some 2nd order terms should not be neglected any more than should be some of the 1st order terms.\n",
      "\n",
      "A sensitivity test where the $\\Delta$'s are divided by 10 and the analysis is rerun leads to dramatically different results.  The 2nd order terms become negligible, with 99% of the total variability explained by only the 1st order terms.  Thus there is substantial curvature of the 1st derivatives (particularly the $\\partial  \\over \\partial T$ terms) between the limits of the modeled amplitude of $T$.  When the $\\Delta T$ is reduced by a factor of 10 (i.e., as $h \\rightarrow 0$), we come much closer to a linear system where only the first derivative is needed to describe the system. Hence the 2nd order terms are critical to include when the $\\Delta$ is relatively large. As a corollary, when 2nd order terms are large, they demonstrate quantitatively that the provided $\\Delta$ is too big to be assumed infinitessimal. In short, a large $\\Delta$ implies that the 2nd order terms must be included. \n",
      "\n",
      "In some cases we might instinctively reason that a $\\Delta$ is too large (e.g., $\\Delta T = \\hbox{12}^\\circ$C) or sufficiently small ($\\Delta S = \\hbox{0.1}$) to consider only first-order terms. For less obvious cases, before including second-order terms, one could determine quantiatitvely if a simple line is sufficient to describe a computed variable for a given $\\Delta$. For example, by plotting its first derivative with respect to temperature vs. temperature, one could evaluate the residuals at the limits and if they surpass 5% of the mean over the $\\Delta$ limits, one could decide to include related 2nd order terms. Alternatively, one could just include the second-order terms from the beginning, including a small set of typical data and their $\\Delta$'s. Indeed that can be done easily by making slight modifications to the input data at the beginning of this iPython Notebook. "
     ]
    },
    {
     "cell_type": "heading",
     "level": 2,
     "metadata": {},
     "source": [
      "Future work"
     ]
    },
    {
     "cell_type": "markdown",
     "metadata": {},
     "source": [
      "1. Need to output tables of final results of 1st derivatives, 2nd derivatives, Delta's (via pandas (python) and in LaTeX under R).\n",
      "\n",
      "2. Need to make `contour` plots of key partials, 2nd derivatives, similar to done for Orr (2011), i.e. in $A_T$-$C_T$ space (or perhaps $A_T$-$p$CO$_2$ space). This will require revamping this script to take on the more extensive calculations that need to be done over this 2-D parameter space.\n",
      "\n",
      "3. Need to plot results for 1850, 2000, 2100 as points on these contour plots (for Med Sea mean and perhaps west & east basins, or specific locations). The problem is that contour lines in a given plot are for 1 pair of T, S.\n",
      "\n",
      "4. Need to repeat analysis but also perhaps for year 2000 and for west vs. east basins of Med Sea.\n",
      "\n",
      "5. Need to verify 1st derivatives with analytical formula's via `buffesm` in `seacarb`.\n",
      "\n",
      "6. Need to add `OmegaC` array to see if it is consistent with `OmegaA` results.\n",
      "\n",
      "7. Need to do steps (5) and (6) above in an attempt to understand why CO3 and OmegaA results seem so different.\n",
      "\n",
      "8. Need to somehow assess impact of very large $\\Delta$ for T. Perhaps this analysis does not work. Try this by dividing all Delta's by 10. DONE (see Conclusions)\n",
      "\n",
      "9. Need to read in MED8 surface maps of $\\Delta$'s and \"mean values\" for $A_T$, $C_T$, $T$, and $S$ (August - Feb mean), to compute maps of individual terms. This will require some recoding to compute partials etc (e.g., need to replace year index for index for i- and j-grid cells.   "
     ]
    },
    {
     "cell_type": "heading",
     "level": 2,
     "metadata": {},
     "source": [
      "References"
     ]
    },
    {
     "cell_type": "markdown",
     "metadata": {},
     "source": [
      "Previdi, M., K. Fennel, J. Wilkin, and D. Haidvogel (2009), Interannual variability in atmospheric CO2 uptake on the\n",
      "northeast U.S. continental shelf, J. Geophys. Res., 114, G04003, doi:10.1029/2008JG000881.\n",
      "    \n"
     ]
    }
   ],
   "metadata": {}
  }
 ]
}