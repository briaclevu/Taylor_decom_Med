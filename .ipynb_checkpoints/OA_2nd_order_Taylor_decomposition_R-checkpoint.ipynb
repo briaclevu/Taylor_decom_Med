{
 "metadata": {
  "name": "",
  "signature": "sha256:a0e5fec02d74c33de95272897d7f88610b8de436c6046a77411b7dcae6ac23cd"
 },
 "nbformat": 3,
 "nbformat_minor": 0,
 "worksheets": [
  {
   "cells": [
    {
     "cell_type": "markdown",
     "metadata": {},
     "source": [
      "2$^{nd}$ Order Taylor Decomposition -- deconvolve annual cycle of ocean acidification variables\n",
      "------------------------------------"
     ]
    },
    {
     "cell_type": "heading",
     "level": 2,
     "metadata": {},
     "source": [
      "Introduction"
     ]
    },
    {
     "cell_type": "markdown",
     "metadata": {},
     "source": [
      "In oceanography, key carbonate system variables such as pH are controlled by 4 other variables: $ pH = f(T, S, C_T, A_T)$. Two additional input variables can be neglected in most but not all surface waters. Here we quantify how variations in these 4 main input variables contribute to seasonal variations in acidity, namely $\\mathrm{H}^{+}$ (computed as $10^{-\\mathrm{pH}}$). To do that, we perform a Taylor series decomposition. This yields,"
     ]
    },
    {
     "cell_type": "markdown",
     "metadata": {},
     "source": [
      "\\begin{eqnarray}\n",
      "  \\Delta H^+ = \n",
      "               \\frac{\\partial H^+}{\\partial C_T} \\Delta C_T \n",
      "             + \\frac{\\partial H^+}{\\partial A_T} \\Delta A_T  \n",
      "             + \\frac{\\partial H^+}{\\partial T}   \\Delta T\n",
      "             + \\frac{\\partial H^+}{\\partial S}   \\Delta S \n",
      "             + O(2)\n",
      "\\hbox{,}\n",
      "\\end{eqnarray}\n",
      "\n",
      "where the final term regroups all second-order terms. Yet second-order terms are usually neglected, because with 4 independent variables that means adding 10 additional terms. Although simplicity is elegant, the associated imprecision cannot be known in advance. So just what are those 2nd-order terms:\n",
      "\n",
      "\\begin{alignat}{2}\n",
      "          O(2)  = \\frac{1}{2!}\\left(\\frac{\\partial^2 H^{+}}{\\partial C_T^2} (\\Delta C_T)^2 \n",
      "                  +                   \\frac{\\partial^2 H^{+}}{\\partial A_T^2} (\\Delta A_T)^2\n",
      "                  +                   \\frac{\\partial^2 H^{+}}{\\partial T^2} (\\Delta T)^2 \n",
      "                  +                   \\frac{\\partial^2 H^{+}}{\\partial S^2} (\\Delta S)^2    \n",
      "                  +                  2\\frac{\\partial^2 H^{+}}{\\partial C_T \\partial A_T} \\Delta C_T \\Delta A_T \\\\\n",
      "                  \\phantom{+                  2\\frac{\\partial^2 H^{+}}{\\partial C_T \\partial T}   \\Delta C_T \\Delta T}\n",
      "                  +                  2\\frac{\\partial^2 H^{+}}{\\partial C_T \\partial T}   \\Delta C_T \\Delta T\n",
      "                  +                  2\\frac{\\partial^2 H^{+}}{\\partial C_T \\partial S}   \\Delta C_T \\Delta S\n",
      "                  +                  2\\frac{\\partial^2 H^{+}}{\\partial A_T \\partial T}   \\Delta A_T \\Delta T\n",
      "                  +                  2\\frac{\\partial^2 H^{+}}{\\partial A_T \\partial S}   \\Delta A_T \\Delta S\n",
      "                  +                  2\\frac{\\partial^2 H^{+}}{\\partial T \\partial S}   \\Delta T \\Delta S\n",
      "               \\right)\n",
      "\\hbox{.}\n",
      "\\end{alignat}\n",
      "\n",
      "Wow, that looks messy! But take another look. It only involves $\\Delta$'s, which we know ahead of time, and second derivatives, which a computer can calculate easily as you'll see shortly. In both equations, the $\\Delta$ indicates the amplitude of the annual cyle (August minus February), H$^+$ is the hydrogen ion concentration, C$_T$ is the dissolved ionrganic carbon, A$_T$ is total alkalinity, T is temperature, and S is salinty. Here we assume that 3rd order terms and beyond are negligible. That could be checked later by comparing the sum of right hand terms with the model's simulated $\\Delta H^+$, assuming the $\\Delta$'s are not too large and the terms are independant. \n",
      "\n",
      "Particularly when only the first order equation is used, the accuracy is reduced even further when the four variables are not independant.  For instance we know that at the surface, C$_T$ is affected by $T$ while A$_T$ is correlated with $S$.  Thus it is harder still to justify neglecting the 2nd order terms, which account for covariance between variables.\n",
      "\n",
      "Analogous equations can be written for the other key carbonate system variables, including the partial pressure of carbon dioxide $p$CO$_2$, saturation states for aragonite $\\Omega_A$ and calcite $\\Omega_C$, and the carbonate ion concentration CO$_3^{2-}$. For example,"
     ]
    },
    {
     "cell_type": "markdown",
     "metadata": {},
     "source": [
      "\\begin{eqnarray}\n",
      "  \\Delta CO_3^{2-} = \n",
      "               \\frac{\\partial CO_3^{2-}}{\\partial C_T} \\Delta C_T \n",
      "             + \\frac{\\partial CO_3^{2-}}{\\partial A_T} \\Delta A_T  \n",
      "             + \\frac{\\partial CO_3^{2-}}{\\partial T}   \\Delta T\n",
      "             + \\frac{\\partial CO_3^{2-}}{\\partial S}   \\Delta S\n",
      "             + O(2)\n",
      "\\hbox{.}\n",
      "\\end{eqnarray}\n",
      "On the right-hand side, the amplitude of the annual cycle $\\Delta$ of each of the 4 terms is known, being computed directly from the model output of the 4 model tracers (T, S, C$_T$, and A$_T$). Conversely, the 4 partial differentials must be calculated.  The first two (for C$_T$ and A$_T$) have analytical solutions (Egleston et al., 2010), whereas the last two (for T and S) must be computed numerically. For consistency, we will compute all 4 partials numerically.  Later, numerical results for the first two partials will be checked with the analytical solutions.\n"
     ]
    },
    {
     "cell_type": "markdown",
     "metadata": {},
     "source": [
      "So let's use `R` to specify input data, compute the derivatives and combined terms, and compare them.  Our goals are (1) to determine the dominant terms and how those change with time, and (2) to assess if the 2nd-order terms are significant.  We are aware of only 1 other ocean carbon study that considered 2nd order terms in a Taylor series deconvolution (Previdi et al., 2009). Their focus was on an interannual change of the air-sea CO$_2$ flux over the Mid-Atlantic Bight; conversely we focus on impacts of the increased CO$_2$ on the seasonal variability of 4 key ocean acidification variables. \n",
      "\n",
      "So now that we have a plan, let's tell the computer how to realize it."
     ]
    },
    {
     "cell_type": "heading",
     "level": 2,
     "metadata": {},
     "source": [
      "First steps: launch R & get libraries"
     ]
    },
    {
     "cell_type": "markdown",
     "metadata": {},
     "source": [
      "So let's get going.  We'll use `R` via this `iPython Notebook` interface.  We start by loading `Rmagic`, which is part of `Rpy2` for `iPython`."
     ]
    },
    {
     "cell_type": "markdown",
     "metadata": {},
     "source": [
      "Don't forget to change the libray path after loadng the modules and before launch the ipython notebook:"
     ]
    },
    {
     "cell_type": "code",
     "collapsed": false,
     "input": [
      "#module load python/2.7.5\n",
      "#module load R/3.0.1\n",
      "#setenv LD_LIBRARY_PATH ${LD_LIBRARY_PATH}:/usr/local/install/R-3.0.1/lib64/R/lib\n",
      "#ipython notebook --pylab inline --no-browser --port=70XX --notebook-dir=~/IPy_Notebooks"
     ],
     "language": "python",
     "metadata": {},
     "outputs": [],
     "prompt_number": 1
    },
    {
     "cell_type": "code",
     "collapsed": false,
     "input": [
      "%load_ext rpy2.ipython"
     ],
     "language": "python",
     "metadata": {},
     "outputs": [],
     "prompt_number": 2
    },
    {
     "cell_type": "markdown",
     "metadata": {},
     "source": [
      "Then launch R and install the needed R libraries (packages), if they are not already installed. You may need to install the `Hmisc` library with same command in an R session on X terminal. After installing, comment out corresponding line as below."
     ]
    },
    {
     "cell_type": "code",
     "collapsed": false,
     "input": [
      "%%R\n",
      " # remove.packages('seacarb')\n",
      "  install.packages('seacarb')\n",
      " # remove.packages('Hmisc')\n",
      "  install.packages('Hmisc')\n",
      "  install.packages('abind')\n",
      "  install.packages('numDeriv')"
     ],
     "language": "python",
     "metadata": {},
     "outputs": [
      {
       "metadata": {},
       "output_type": "display_data",
       "text": [
        "Installing package into \u2018/home/users/blevu/R/x86_64-unknown-linux-gnu-library/3.0\u2019\n",
        "(as \u2018lib\u2019 is unspecified)\n",
        "--- Please select a CRAN mirror for use in this session ---\n",
        "essai de l'URL 'http://cran.irsn.fr/src/contrib/seacarb_3.0.tar.gz'\n",
        "Content type 'application/x-gzip' length 75664 bytes (73 Kb)\n",
        "URL ouverte\n",
        "==================================================\n",
        "downloaded 73 Kb\n",
        "\n",
        "\n",
        "The downloaded source packages are in\n",
        "\t\u2018/tmp/RtmpOAwkXW/downloaded_packages\u2019\n",
        "Installing package into \u2018/home/users/blevu/R/x86_64-unknown-linux-gnu-library/3.0\u2019\n",
        "(as \u2018lib\u2019 is unspecified)\n",
        "also installing the dependency \u2018acepack\u2019\n",
        "\n",
        "essai de l'URL 'http://cran.irsn.fr/src/contrib/acepack_1.3-3.3.tar.gz'\n",
        "Content type 'application/x-gzip' length 35756 bytes (34 Kb)\n",
        "URL ouverte\n",
        "==================================================\n",
        "downloaded 34 Kb\n",
        "\n",
        "essai de l'URL 'http://cran.irsn.fr/src/contrib/Hmisc_3.14-5.tar.gz'\n",
        "Content type 'application/x-gzip' length 608952 bytes (594 Kb)\n",
        "URL ouverte\n",
        "==================================================\n",
        "downloaded 594 Kb\n",
        "\n",
        "\n",
        "The downloaded source packages are in\n",
        "\t\u2018/tmp/RtmpOAwkXW/downloaded_packages\u2019\n",
        "Installing package into \u2018/home/users/blevu/R/x86_64-unknown-linux-gnu-library/3.0\u2019\n",
        "(as \u2018lib\u2019 is unspecified)\n",
        "essai de l'URL 'http://cran.irsn.fr/src/contrib/abind_1.4-0.tar.gz'\n",
        "Content type 'application/x-gzip' length 19642 bytes (19 Kb)\n",
        "URL ouverte\n",
        "==================================================\n",
        "downloaded 19 Kb\n",
        "\n",
        "\n",
        "The downloaded source packages are in\n",
        "\t\u2018/tmp/RtmpOAwkXW/downloaded_packages\u2019\n",
        "Installing package into \u2018/home/users/blevu/R/x86_64-unknown-linux-gnu-library/3.0\u2019\n",
        "(as \u2018lib\u2019 is unspecified)\n",
        "essai de l'URL 'http://cran.irsn.fr/src/contrib/numDeriv_2012.9-1.tar.gz'\n",
        "Content type 'application/x-gzip' length 71840 bytes (70 Kb)\n",
        "URL ouverte\n",
        "==================================================\n",
        "downloaded 70 Kb\n",
        "\n",
        "\n",
        "The downloaded source packages are in\n",
        "\t\u2018/tmp/RtmpOAwkXW/downloaded_packages\u2019\n"
       ]
      }
     ],
     "prompt_number": 3
    },
    {
     "cell_type": "markdown",
     "metadata": {},
     "source": [
      "Call libraries & define new simple functions to pass results from `seacarb`'s `carb` routine to `numDeriv`'s routines that calculate 1st and 2nd derivatives (`jacobian` and `hessian`, respectively).  "
     ]
    },
    {
     "cell_type": "code",
     "collapsed": false,
     "input": [
      "%%R\n",
      "library(seacarb)\n",
      "library(numDeriv)\n",
      "\n",
      "# Wrapper functions  to pass carb results to 'numDeriv' routines that compute derivatives (jacobian & hessian)\n",
      "\n",
      "# Following routine name \"f\" can be passed directly to 'jacobian' (array of 1st derivatives) in numDeriv package\n",
      "# Get 4 variables: pCO2, H, CO3, OmegaA\n",
      "  f <- function(z) {\n",
      "          At = z[1] * 1e-6\n",
      "          Ct = z[2] * 1e-6\n",
      "          salt = z[3]\n",
      "          temp = z[4]\n",
      "          c <- carb(flag=15, var1=At, var2=Ct, S=salt, T=temp, P=0, Pt=0, Sit=0, k1k2=\"l\", kf=\"dg\", ks=\"d\", pHscale=\"T\")\n",
      "          H      <- 10^(-c$pH) * 1e+9 # Hydrogen ion concentration (nmol/kg)\n",
      "          CO3    <- c$CO3      * 1e+6 # Carbonate ion concentration (umol/kg)\n",
      "          pCO2   <- c$pCO2\n",
      "          OmegaA <- c$OmegaAragonite\n",
      "          output = cbind(pCO2, H, CO3, OmegaA)\n",
      "          return(output)\n",
      "          }\n",
      "\n",
      "# Unlike the numDeriv's 'jacobian' function, its 'hessian' function must compute a more complicated array for 1 variable at a time.\n",
      "# -> So , define arrays below to do that (will pass each array name as argument to 'hessian')\n",
      "\n",
      "# Routines for 'hessian':\n",
      "# Function to get only H variable from f\n",
      "  fH    <- function(z) {\n",
      "           g <- f(z)\n",
      "           g <- data.frame(g)\n",
      "           return(g$H)\n",
      "           }\n",
      "# Function to get only CO3 variable from f\n",
      "  fCO3  <- function(z) {\n",
      "           g <- f(z)\n",
      "           g <- data.frame(g)\n",
      "           return(g$CO3)\n",
      "           }\n",
      "# Function to get only pCO2 variable from f\n",
      "  fpCO2 <- function(z) {\n",
      "           g <- f(z)\n",
      "           g <- data.frame(g)\n",
      "           return(g$pCO2)\n",
      "           }\n",
      "# Function to get only OmegaAragonite variable from f\n",
      "  fOmegaA  <- function(z) {\n",
      "           g <- f(z)\n",
      "           g <- data.frame(g)\n",
      "           return(g$OmegaA)\n",
      "           }"
     ],
     "language": "python",
     "metadata": {},
     "outputs": [],
     "prompt_number": 4
    },
    {
     "cell_type": "heading",
     "level": 2,
     "metadata": {},
     "source": [
      "Input Data"
     ]
    },
    {
     "cell_type": "markdown",
     "metadata": {},
     "source": [
      "Initialize basic input data."
     ]
    },
    {
     "cell_type": "code",
     "collapsed": false,
     "input": [
      "%%R\n",
      "# Input data (year 1850, year 2100) - taken by eye from plots from Briac for MED8 simulations\n",
      "\n",
      "# Provide 2 years of data\n",
      "  years <- c(1850, 2092)#2100, \n",
      "\n",
      "# 1) Surface Mean for Med Sea Basin (2x4 array)\n",
      "  At <- c(2685, 2511.4)#2560, \n",
      "  Ct <- c(2300, 2340.2)#2370, \n",
      "  Salt <- c(38.1, 37.93)#38.6, \n",
      "  Temp <- c(18.5, 19.83)#21.4, \n",
      "  z <- cbind(At, Ct, Salt, Temp)\n",
      "\n",
      "  invars <- c(At, Ct, Salt, Temp)\n",
      "  invarnames  <- c('At', 'Ct', 'S', 'T')\n",
      "  outvarnames <- c('pCO2', 'H', 'CO3', 'OmegaA') \n",
      "\n",
      "# 2) Surface Amplitude of Annual Cycle (August - Feb, because that is when amplitude for H+ is largest)\n",
      "#    upper case \"D\" indicates Delta (Aug - Feb)\n",
      "  DAt <- c(15, -9.79)#23, \n",
      "  DCt <- c(-5, -45)#-9, \n",
      "  DSalt <- c(0.1, -0.11)#0.25, \n",
      "  DTemp <- c(11, 13.15)#12, \n",
      "  Del <- cbind(DAt, DCt, DSalt, DTemp)\n",
      "\n",
      "  #Del <- matrix(Del, nrow=2, ncol=4, dimnames=list(c('1850','2100'), c('At', 'Ct', 'S', 'T')))\n",
      "  Del <- matrix(Del, nrow=2, ncol=4, dimnames=list(c('1850','2100'), invarnames))\n",
      "  print(Del)\n",
      "\n",
      "# SENSITIVITY test: useful to see if Del is too large: \n",
      "# If the smaller Del dramatically reduces 2nd order terms, then Del was too large to truncate before 2nd order; \n",
      "# if 2nd order terms are significant, then Del is too large to truncate just after first order.\n",
      "# Del <- Del * 0.1 #Test to see if relative proportions change significantly (e.g., Dtemp is quite large)\n",
      "# print(Del)"
     ],
     "language": "python",
     "metadata": {},
     "outputs": [
      {
       "metadata": {},
       "output_type": "display_data",
       "text": [
        "        At  Ct     S     T\n",
        "1850 15.00  -5  0.10 11.00\n",
        "2100 -9.79 -45 -0.11 13.15\n"
       ]
      }
     ],
     "prompt_number": 32
    },
    {
     "cell_type": "markdown",
     "metadata": {},
     "source": [
      "Manipulate `Del` (denoted in ipython comments as $\\Delta$) into a matrix that is convenient for multiplying by arrays of derivatives. That is, it will contain all the $\\Delta x_i \\Delta x_j$ terms."
     ]
    },
    {
     "cell_type": "code",
     "collapsed": false,
     "input": [
      "%%R\n",
      "# Manipulate Deltas into arrays that we can use to compute combined terms (partials * Deltas)\n",
      "# Convert Del into a 1x4 matrix (1 timestep only; do this later in forloop for 1850 and 2100)\n",
      "# Delt  <- matrix(Del[1,], nrow=1, ncol=4, dimnames=list(c('1850'), c('At', 'Ct', 'S', 'T')))\n",
      "# Make 4x4 matrix of delta products for each m\n",
      "  Del2 <- vector(\"list\")\n",
      "  for (m in 1:nrow(Del)){\n",
      "      # the matrix command below actually is needed to convert to matrix, but it also transposes the matrix\n",
      "      # thus wrong to do a transpose t(matrix(Del[m,])), which switches it back\n",
      "      Del2[[m]] <- matrix(Del[m,]) %*% Del[m,]\n",
      "  }\n",
      "Del2"
     ],
     "language": "python",
     "metadata": {},
     "outputs": [
      {
       "metadata": {},
       "output_type": "display_data",
       "text": [
        "[[1]]\n",
        "      [,1]  [,2]  [,3]  [,4]\n",
        "[1,] 225.0 -75.0  1.50 165.0\n",
        "[2,] -75.0  25.0 -0.50 -55.0\n",
        "[3,]   1.5  -0.5  0.01   1.1\n",
        "[4,] 165.0 -55.0  1.10 121.0\n",
        "\n",
        "[[2]]\n",
        "          [,1]    [,2]    [,3]      [,4]\n",
        "[1,]   95.8441  440.55  1.0769 -128.7385\n",
        "[2,]  440.5500 2025.00  4.9500 -591.7500\n",
        "[3,]    1.0769    4.95  0.0121   -1.4465\n",
        "[4,] -128.7385 -591.75 -1.4465  172.9225\n",
        "\n"
       ]
      }
     ],
     "prompt_number": 33
    },
    {
     "cell_type": "markdown",
     "metadata": {},
     "source": [
      "Halve the diagonal terms of $\\Delta x_i \\Delta x_j$ array here to facilitate later summing 2nd order terms in equation."
     ]
    },
    {
     "cell_type": "code",
     "collapsed": false,
     "input": [
      "%%R\n",
      "## Divide diagonal of delta product by 2 (see Taylor series formula)\n",
      "   for (m in 1:nrow(Del)){\n",
      "     for (j in 1:ncol(Del2[[m]])) {\n",
      "       for (i in 1:nrow(Del2[[m]])) {\n",
      "          if(i==j) {\n",
      "          Del2[[m]][i,j] = Del2[[m]][i,j]/2\n",
      "          }\n",
      "       }\n",
      "     }\n",
      "   }\n",
      "Del2"
     ],
     "language": "python",
     "metadata": {},
     "outputs": [
      {
       "metadata": {},
       "output_type": "display_data",
       "text": [
        "[[1]]\n",
        "      [,1]  [,2]   [,3]  [,4]\n",
        "[1,] 112.5 -75.0  1.500 165.0\n",
        "[2,] -75.0  12.5 -0.500 -55.0\n",
        "[3,]   1.5  -0.5  0.005   1.1\n",
        "[4,] 165.0 -55.0  1.100  60.5\n",
        "\n",
        "[[2]]\n",
        "           [,1]    [,2]     [,3]       [,4]\n",
        "[1,]   47.92205  440.55  1.07690 -128.73850\n",
        "[2,]  440.55000 1012.50  4.95000 -591.75000\n",
        "[3,]    1.07690    4.95  0.00605   -1.44650\n",
        "[4,] -128.73850 -591.75 -1.44650   86.46125\n",
        "\n"
       ]
      }
     ],
     "prompt_number": 34
    },
    {
     "cell_type": "heading",
     "level": 2,
     "metadata": {},
     "source": [
      "Compute the 1st derivatives"
     ]
    },
    {
     "cell_type": "markdown",
     "metadata": {},
     "source": [
      "Compute Jacobian (mxn array of 1st derivatives), where `n` is the input variable (At, Ct, S, T) and `m` is the year (1850, 2100).\n",
      "\n",
      "\\begin{equation}\n",
      "J =\n",
      "\\begin{bmatrix} \n",
      "\\dfrac{\\partial F_1}{\\partial x_1} & \\cdots & \\dfrac{\\partial F_1}{\\partial x_n} \\\\\n",
      "\\vdots                             & \\ddots & \\vdots                             \\\\\n",
      "\\dfrac{\\partial F_m}{\\partial x_1} & \\cdots & \\dfrac{\\partial F_m}{\\partial x_n}  \n",
      "\\end{bmatrix}.\n",
      "\\end{equation}\n"
     ]
    },
    {
     "cell_type": "code",
     "collapsed": false,
     "input": [
      "%%R\n",
      "# Compute Jacobian (array of 1st partial derivatives)\n",
      "# Options below: use func=f to get all 4 variables\n",
      "# func=f       (m=4: pCO2, H, CO3, OmegaA)\n",
      "# func=fH      (m=1: H only)\n",
      "# func=fCO3    (m=1: CO3 only)\n",
      "# func=fpCO2   (m=1: pCO2 only)\n",
      "# func=fOmegaA (m=1: OmegaA only)\n",
      "  jac <- vector(\"list\")\n",
      "  for (i in 1:nrow(z)){\n",
      "    jac[[i]] <- jacobian(func=f, x=z[i, ])\n",
      "    #print(i)\n",
      "    #print(jac[[i]])\n",
      "  }\n",
      "# Label rows (output variables) and columns (input variables)\n",
      "  for (t in 1:length(years)) {\n",
      "      colnames(jac[[t]]) <- invarnames\n",
      "      rownames(jac[[t]]) <- outvarnames\n",
      "  }\n",
      "       \n",
      "# Show results (both years)\n",
      "jac"
     ],
     "language": "python",
     "metadata": {},
     "outputs": [
      {
       "metadata": {},
       "output_type": "display_data",
       "text": [
        "[[1]]\n",
        "                At           Ct           S           T\n",
        "pCO2   -1.02753115  1.284399252  8.52876066 13.31689100\n",
        "H      -0.01926100  0.021466582  0.18049973  0.23805606\n",
        "CO3     0.69859561 -0.659471280 -1.39257995  0.51514770\n",
        "OmegaA  0.01058294 -0.009990248 -0.05153873  0.01970883\n",
        "\n",
        "[[2]]\n",
        "                 At           Ct           S           T\n",
        "pCO2   -4.021354244  4.552841338 18.87696721 31.90530949\n",
        "H      -0.073595222  0.077008516  0.37835039  0.52065456\n",
        "CO3     0.609765619 -0.580648018 -0.41432259  0.47428915\n",
        "OmegaA  0.009285999 -0.008842573 -0.02147824  0.01368614\n",
        "\n"
       ]
      }
     ],
     "prompt_number": 35
    },
    {
     "cell_type": "heading",
     "level": 2,
     "metadata": {},
     "source": [
      "Compute the 2nd derivatives"
     ]
    },
    {
     "cell_type": "markdown",
     "metadata": {},
     "source": [
      "Compute Hessian $H(f)_m$, an nxn array of 2nd derivatives, i.e., 1 array per output variable (m = 'pCO2', 'H', 'CO3', 'OmegaA'), where the row labels and the column labels are both the list of input variables (n = 'At', 'Ct', 'S', 'T').\n",
      "\n",
      "\\begin{equation}\n",
      "H(f)_m = \n",
      "\\begin{bmatrix}\n",
      "\\dfrac{\\partial^2 f}{\\partial x_1^2} & \\dfrac{\\partial^2 f}{\\partial x_1\\,\\partial x_2} & \\cdots & \\dfrac{\\partial^2 f}{\\partial x_1\\,\\partial x_n} \\\\[2.2ex]\n",
      "\\dfrac{\\partial^2 f}{\\partial x_2\\,\\partial x_1} & \\dfrac{\\partial^2 f}{\\partial x_2^2} & \\cdots & \\dfrac{\\partial^2 f}{\\partial x_2\\,\\partial x_n} \\\\[2.2ex]\n",
      "\\vdots & \\vdots & \\ddots & \\vdots \\\\[2.2ex]\n",
      "\\dfrac{\\partial^2 f}{\\partial x_n\\,\\partial x_1} & \\dfrac{\\partial^2 f}{\\partial x_n\\,\\partial x_2} & \\cdots & \\dfrac{\\partial^2 f}{\\partial x_n^2}\n",
      "\\end{bmatrix}.\n",
      "\\end{equation}\n"
     ]
    },
    {
     "cell_type": "code",
     "collapsed": false,
     "input": [
      "%%R\n",
      "# Compute Hessian (array of 2nd partial derivatives)\n",
      "hespCO2   <- vector(\"list\")\n",
      "hesH      <- vector(\"list\")\n",
      "hesCO3    <- vector(\"list\")\n",
      "hesOmegaA <- vector(\"list\")\n",
      "for (i in 1:nrow(z)) {\n",
      "    #hes[[i]] <- hessian(func=fpCO2, x=z[i, ])\n",
      "    hespCO2[[i]]   <- hessian(func=fpCO2, x=z[i, ])\n",
      "    hesH[[i]]      <- hessian(func=fH, x=z[i, ])\n",
      "    hesCO3[[i]]    <- hessian(func=fCO3, x=z[i, ])\n",
      "    hesOmegaA[[i]] <- hessian(func=fOmegaA, x=z[i, ])\n",
      "    }\n",
      "#hes\n",
      "# Label rows & columns with input variables in each array, one per output variables\n",
      "  for (t in 1:length(years)) {\n",
      "      colnames(hespCO2[[t]])   <- invarnames\n",
      "      rownames(hespCO2[[t]])   <- invarnames\n",
      "      colnames(hesH[[t]])      <- invarnames\n",
      "      rownames(hesH[[t]])      <- invarnames\n",
      "      colnames(hesCO3[[t]])    <- invarnames\n",
      "      rownames(hesCO3[[t]])    <- invarnames\n",
      "      colnames(hesOmegaA[[t]]) <- invarnames\n",
      "      rownames(hesOmegaA[[t]]) <- invarnames\n",
      "  }\n",
      "#hes\n",
      "#hesOmegaA"
     ],
     "language": "python",
     "metadata": {},
     "outputs": [],
     "prompt_number": 36
    },
    {
     "cell_type": "markdown",
     "metadata": {},
     "source": [
      "Print out the hessian for each year for each variable."
     ]
    },
    {
     "cell_type": "code",
     "collapsed": false,
     "input": [
      "%%R\n",
      "  hes <- c(hespCO2, hesH, hesCO3, hesOmegaA)\n",
      "  nyr <- length(years)\n",
      "  novar <- length(outvarnames)\n",
      "  nivar <- length(invarnames)\n",
      "  for (ov in 1:novar) {\n",
      "     for (iy in 1:nyr) {\n",
      "          print(outvarnames[ov])\n",
      "          print(years[iy])\n",
      "          ihes = (nyr*ov)-1 + (iy-1)    # Index to select outvar and year from sequential index for hes\n",
      "          #print(ihes)\n",
      "          print(hes[[ihes]])\n",
      "      }\n",
      "  }"
     ],
     "language": "python",
     "metadata": {},
     "outputs": [
      {
       "metadata": {},
       "output_type": "display_data",
       "text": [
        "[1] \"pCO2\"\n",
        "[1] 1850\n",
        "             At           Ct           S           T\n",
        "At  0.004895485 -0.005575518 -0.02451946 -0.04130467\n",
        "Ct -0.005575518  0.006347100  0.03031284  0.05199155\n",
        "S  -0.024519458  0.030312842  0.18049631  0.32622843\n",
        "T  -0.041304671  0.051991552  0.32622843  0.48004836\n",
        "[1] \"pCO2\"\n",
        "[1] 2092\n",
        "            At          Ct           S          T\n",
        "At  0.03050174 -0.03236643 -0.07379833 -0.1461312\n",
        "Ct -0.03236643  0.03433848  0.08378258  0.1668310\n",
        "S  -0.07379833  0.08378258  0.32749823  0.6714868\n",
        "T  -0.14613124  0.16683101  0.67148676  1.0436118\n",
        "[1] \"H\"\n",
        "[1] 1850\n",
        "              At            Ct             S             T\n",
        "At  9.091930e-05 -9.519523e-05 -0.0004784519 -0.0006558199\n",
        "Ct -9.519523e-05  9.925824e-05  0.0005196964  0.0007340506\n",
        "S  -4.784519e-04  5.196964e-04  0.0004895303  0.0061164443\n",
        "T  -6.558199e-04  7.340506e-04  0.0061164443  0.0075918767\n",
        "[1] \"H\"\n",
        "[1] 2092\n",
        "              At            Ct             S            T\n",
        "At  0.0005641548 -0.0005671077 -0.0014572156 -0.002239340\n",
        "Ct -0.0005671077  0.0005691212  0.0014972629  0.002348488\n",
        "S  -0.0014572156  0.0014972629 -0.0009545096  0.011980490\n",
        "T  -0.0022393401  0.0023484879  0.0119804900  0.014994737\n",
        "[1] \"CO3\"\n",
        "[1] 1850\n",
        "              At            Ct            S             T\n",
        "At  0.0002440107 -1.907413e-04 -0.004494501  1.087431e-04\n",
        "Ct -0.0001907413  1.220725e-04  0.004894863 -1.084892e-05\n",
        "S  -0.0044945013  4.894863e-03  0.039126160  8.537498e-03\n",
        "T   0.0001087431 -1.084892e-05  0.008537498 -9.824252e-03\n",
        "[1] \"CO3\"\n",
        "[1] 2092\n",
        "              At            Ct            S            T\n",
        "At  0.0007946398 -7.632860e-04 -0.004489341 1.263496e-04\n",
        "Ct -0.0007632860  7.273149e-04  0.004749255 2.686123e-05\n",
        "S  -0.0044893413  4.749255e-03  0.019145607 4.611404e-03\n",
        "T   0.0001263496  2.686123e-05  0.004611404 8.917948e-05\n",
        "[1] \"OmegaA\"\n",
        "[1] 1850\n",
        "              At            Ct             S             T\n",
        "At  3.696487e-06 -2.889516e-06 -0.0001457103  3.200284e-05\n",
        "Ct -2.889516e-06  1.849262e-06  0.0001474281 -2.881982e-05\n",
        "S  -1.457103e-04  1.474281e-04 -0.0011389767 -6.110119e-04\n",
        "T   3.200284e-05 -2.881982e-05 -0.0006110119  7.674925e-04\n",
        "[1] \"OmegaA\"\n",
        "[1] 2092\n",
        "              At            Ct             S             T\n",
        "At  1.210141e-05 -1.162393e-05 -0.0001372260  3.126460e-05\n",
        "Ct -1.162393e-05  1.107613e-05  0.0001378961 -2.753033e-05\n",
        "S  -1.372260e-04  1.378961e-04 -0.0006091772 -3.191905e-04\n",
        "T   3.126460e-05 -2.753033e-05 -0.0003191905  4.827479e-04\n"
       ]
      }
     ],
     "prompt_number": 37
    },
    {
     "cell_type": "heading",
     "level": 2,
     "metadata": {},
     "source": [
      "Compute combined products: derivatives times $\\Delta$'s"
     ]
    },
    {
     "cell_type": "heading",
     "level": 3,
     "metadata": {},
     "source": [
      "Products with 1st derivatives"
     ]
    },
    {
     "cell_type": "markdown",
     "metadata": {},
     "source": [
      "Compute simple product of $\\Delta \\times J$, element by element. Beforehand, need to expand same $\\Delta$ vector (1 number per input variable) to be repeated, i.e., having 1 row (always the same) per output variable.\n",
      "\\begin{equation}\n",
      "\\Delta \\times J =\n",
      "\\begin{bmatrix} \n",
      "\\dfrac{\\partial F_1}{\\partial x_1} \\Delta x_1 & \\cdots & \\dfrac{\\partial F_1}{\\partial x_n} \\Delta x_n \\\\\n",
      "\\vdots                             & \\ddots & \\vdots                             \\\\\n",
      "\\dfrac{\\partial F_m}{\\partial x_1} \\Delta x_1 & \\cdots & \\dfrac{\\partial F_m}{\\partial x_n} \\Delta x_n \n",
      "\\end{bmatrix}.\n",
      "\\end{equation}"
     ]
    },
    {
     "cell_type": "code",
     "collapsed": false,
     "input": [
      "%%R\n",
      "# Multiply matrices\n",
      "# 1st order terms\n",
      "  Dela <- vector(\"list\")\n",
      "  o1st <- vector(\"list\")\n",
      "  for (i in 1:nyr) {\n",
      "      Dela[[i]] <- Del[i,]\n",
      "      for (m in 2:novar) {\n",
      "          Dela[[i]] <- rbind(Dela[[i]], Del[i,]) \n",
      "      }\n",
      "      o1st[[i]] <- Dela[[i]] * (jac[[i]])\n",
      "      rownames(o1st[[i]]) <- outvarnames\n",
      "  }\n",
      "#Dela\n",
      "#print(o1st)\n",
      "do1st <- vector(\"list\")\n",
      "for (ny in 1:nyr) {\n",
      "    do1st[[ny]] <- as.data.frame(o1st[[ny]])\n",
      "    }\n",
      "do1st"
     ],
     "language": "python",
     "metadata": {},
     "outputs": [
      {
       "metadata": {},
       "output_type": "display_data",
       "text": [
        "[[1]]\n",
        "                At          Ct            S           T\n",
        "pCO2   -15.4129672 -6.42199626  0.852876066 146.4858011\n",
        "H       -0.2889150 -0.10733291  0.018049973   2.6186167\n",
        "CO3     10.4789341  3.29735640 -0.139257995   5.6666247\n",
        "OmegaA   0.1587441  0.04995124 -0.005153873   0.2167971\n",
        "\n",
        "[[2]]\n",
        "                At           Ct            S           T\n",
        "pCO2   39.36905805 -204.8778602 -2.076466394 419.5548198\n",
        "H       0.72049723   -3.4653832 -0.041618542   6.8466074\n",
        "CO3    -5.96960541   26.1291608  0.045575485   6.2369023\n",
        "OmegaA -0.09090993    0.3979158  0.002362607   0.1799728\n",
        "\n"
       ]
      }
     ],
     "prompt_number": 38
    },
    {
     "cell_type": "heading",
     "level": 3,
     "metadata": {},
     "source": [
      "Products with 2nd derivatives"
     ]
    },
    {
     "cell_type": "markdown",
     "metadata": {},
     "source": [
      "Compute simple product of $\\Delta \\Delta \\times H$, element by element.\n",
      "\\begin{equation}\n",
      "H(f)_m \\times \\Delta^2 = \n",
      "\\begin{bmatrix}\n",
      "\\dfrac{\\partial^2 f}{\\partial x_1^2} {(\\Delta{x_1})}^2& \\dfrac{\\partial^2 f}{\\partial x_1\\,\\partial x_2} \\Delta{x_1}\\Delta{x_2}\n",
      "  & \\cdots & \\dfrac{\\partial^2 f}{\\partial x_1\\,\\partial x_n} \\Delta{x_1}\\Delta{x_n}\\\\[2.2ex]\n",
      "\\dfrac{\\partial^2 f}{\\partial x_2\\,\\partial x_1} \\Delta{x_2}\\Delta{x_1}& \\dfrac{\\partial^2 f}{\\partial x_2^2} {(\\Delta{x_2})}^2\n",
      "  & \\cdots & \\dfrac{\\partial^2 f}{\\partial x_2\\,\\partial x_n} \\Delta{x_2}\\Delta{x_n}\\\\[2.2ex]\n",
      "\\vdots & \\vdots & \\ddots & \\vdots \\\\[2.2ex]\n",
      "\\dfrac{\\partial^2 f}{\\partial x_n\\,\\partial x_1} \\Delta{x_n}\\Delta{x_1}& \\dfrac{\\partial^2 f}{\\partial x_n\\,\\partial x_2}      \\Delta{x_n}\\Delta{x_2} & \\cdots & \\dfrac{\\partial^2 f}{\\partial x_n^2} {(\\Delta{x_n})}^2\n",
      "\\end{bmatrix}.\n",
      "\\end{equation}"
     ]
    },
    {
     "cell_type": "code",
     "collapsed": false,
     "input": [
      "%%R\n",
      "# Multiply matrices\n",
      "# Znd order terms\n",
      "  o2nd <- vector(\"list\")\n",
      "#  for (i in 1:nyr) {\n",
      "#      o2nd[[i]] <- Del2[[i]] * hes[[i]]\n",
      "#  }\n",
      "#Dela\n",
      "#o2nd\n",
      "\n",
      "  for (ov in 1:novar) {\n",
      "     for (y in 1:nyr) {\n",
      "          #print(outvarnames[ov])\n",
      "          #print(years[iy])\n",
      "          ihes = (nyr*ov)-1 + (y-1)    # Index to select outvar and year from sequential index for hes\n",
      "          o2nd[[ihes]] <- Del2[[y]] * hes[[ihes]]\n",
      "          print(o2nd[[ihes]])\n",
      "      }\n",
      "  }"
     ],
     "language": "python",
     "metadata": {},
     "outputs": [
      {
       "metadata": {},
       "output_type": "display_data",
       "text": [
        "            At          Ct             S          T\n",
        "At  0.55074211  0.41816387 -0.0367791868 -6.8152706\n",
        "Ct  0.41816387  0.07933875 -0.0151564210 -2.8595354\n",
        "S  -0.03677919 -0.01515642  0.0009024816  0.3588513\n",
        "T  -6.81527064 -2.85953539  0.3588512732 29.0429258\n",
        "             At          Ct            S           T\n",
        "At   1.46170580 -14.2590287 -0.079473418  18.8127168\n",
        "Ct -14.25902872  34.7677101  0.414723778 -98.7222518\n",
        "S   -0.07947342   0.4147238  0.001981364  -0.9713056\n",
        "T   18.81271681 -98.7222518 -0.971305598  90.2319841\n",
        "              At            Ct             S            T\n",
        "At  0.0102284215  0.0071396421 -7.176778e-04 -0.108210277\n",
        "Ct  0.0071396421  0.0012407280 -2.598482e-04 -0.040372781\n",
        "S  -0.0007176778 -0.0002598482  2.447651e-06  0.006728089\n",
        "T  -0.1082102768 -0.0403727806  6.728089e-03  0.459308542\n",
        "             At           Ct             S           T\n",
        "At  0.027035455 -0.249839299 -1.569276e-03  0.28828928\n",
        "Ct -0.249839299  0.576235187  7.411451e-03 -1.38971769\n",
        "S  -0.001569276  0.007411451 -5.774783e-06 -0.01732978\n",
        "T   0.288289279 -1.389717693 -1.732978e-02  1.29646367\n",
        "             At            Ct             S             T\n",
        "At  0.027451199  0.0143055972 -0.0067417520  0.0179426079\n",
        "Ct  0.014305597  0.0015259069 -0.0024474315  0.0005966907\n",
        "S  -0.006741752 -0.0024474315  0.0001956308  0.0093912481\n",
        "T   0.017942608  0.0005966907  0.0093912481 -0.5943672571\n",
        "             At          Ct             S            T\n",
        "At  0.038080766 -0.33626566 -0.0048345716 -0.016266053\n",
        "Ct -0.336265658  0.73640632  0.0235088104 -0.015895134\n",
        "S  -0.004834572  0.02350881  0.0001158309 -0.006670396\n",
        "T  -0.016266053 -0.01589513 -0.0066703963  0.007710570\n",
        "              At            Ct             S             T\n",
        "At  0.0004158548  2.167137e-04 -2.185655e-04  0.0052804692\n",
        "Ct  0.0002167137  2.311577e-05 -7.371405e-05  0.0015850900\n",
        "S  -0.0002185655 -7.371405e-05 -5.694883e-06 -0.0006721131\n",
        "T   0.0052804692  1.585090e-03 -6.721131e-04  0.0464332944\n",
        "              At            Ct             S             T\n",
        "At  0.0005799244 -0.0051209226 -1.477786e-04 -0.0040249574\n",
        "Ct -0.0051209226  0.0112145849  6.825855e-04  0.0162910729\n",
        "S  -0.0001477786  0.0006825855 -3.685522e-06  0.0004617091\n",
        "T  -0.0040249574  0.0162910729  4.617091e-04  0.0417389864\n"
       ]
      }
     ],
     "prompt_number": 39
    },
    {
     "cell_type": "heading",
     "level": 3,
     "metadata": {},
     "source": [
      "Massage products of 2nd-order derivatives"
     ]
    },
    {
     "cell_type": "markdown",
     "metadata": {},
     "source": [
      "Zero out elements of the array that are duplicates (one out of each pair of the elements that are symetric across the diagonal), for proper contribution to the total sum of the $\\Delta\\Delta \\times H$ array, divided by two."
     ]
    },
    {
     "cell_type": "code",
     "collapsed": false,
     "input": [
      "%%R\n",
      "## Zero out duplicates because fxy*Del(x)*Del(y) = fyx*Del(y)*Del(x)\n",
      "   for (t in 1:(nyr*novar)) {\n",
      "     for (i in 1:novar) {\n",
      "       for (j in 1:novar) {\n",
      "          if(i < j) {\n",
      "              o2nd[[t]][i,j] = 0.0\n",
      "          }\n",
      "       }\n",
      "     }\n",
      "   }\n",
      "  #print(o2nd[[1]])"
     ],
     "language": "python",
     "metadata": {},
     "outputs": [],
     "prompt_number": 40
    },
    {
     "cell_type": "markdown",
     "metadata": {},
     "source": [
      "Make index array to facilitate assigning sequence number (e.g., in hessian) as a function of year and output variable."
     ]
    },
    {
     "cell_type": "code",
     "collapsed": false,
     "input": [
      "%%R\n",
      "# Construct index array to find sequence number from indices for 'year' and 'output variable'\n",
      "  outdex <- seq(1,nyr*novar,1)\n",
      "  dim(outdex) = c(2,4)\n",
      "  outdex = (t(outdex))\n",
      "  rownames(outdex) = outvarnames\n",
      "  colnames(outdex) = years\n",
      "  #print(outdex)"
     ],
     "language": "python",
     "metadata": {},
     "outputs": [],
     "prompt_number": 41
    },
    {
     "cell_type": "markdown",
     "metadata": {},
     "source": [
      "Rearrange $\\Delta \\Delta \\times H$ results (2nd order terms) into data frames with same structure as for the $\\Delta \\times J$ results (1st order terms)."
     ]
    },
    {
     "cell_type": "code",
     "collapsed": false,
     "input": [
      "%%R\n",
      "# Build data frames (from O2nd)\n",
      "# For each year, we want 1 dataframe with 4 rows (1 per output variable) and 10 columns (1 per non-zero 2nd order combined term) \n",
      "  dflist <- vector(\"list\")\n",
      "  for (ny in 1:nyr) {\n",
      "      df <- data.frame(NULL)\n",
      "      for (m in 1:novar) {\n",
      "          t = outdex[m, ny]\n",
      "          prodnames <- vector(\"list\")\n",
      "          do2nd <- vector(\"list\")\n",
      "          # Double loop to append non-zero elements to a list \"do2nd\"\n",
      "          for (i in 1:nivar) {\n",
      "              for (j in 1:nivar) {\n",
      "                  if (i >= j ) {\n",
      "                     do2nd <- c( do2nd, o2nd[[t]][i,j] )\n",
      "                     prodnames <- c(prodnames, paste(invarnames[i],invarnames[j],sep='_'))\n",
      "                  }\n",
      "              }\n",
      "          }\n",
      "          dfm <- data.frame(do2nd)\n",
      "          colnames(dfm) <- prodnames\n",
      "          df <- rbind(df, dfm)\n",
      "      }\n",
      "      rownames(df) <- outvarnames\n",
      "      attr(df, \"title\") <- as.character(years[ny])\n",
      "      dflist[[ny]] <- df\n",
      "  }\n",
      "\n",
      "do2nd <- dflist\n",
      "print(do2nd)\n",
      "#print(do1st)"
     ],
     "language": "python",
     "metadata": {},
     "outputs": [
      {
       "metadata": {},
       "output_type": "display_data",
       "text": [
        "[[1]]\n",
        "              At_At        Ct_At        Ct_Ct          S_At          S_Ct\n",
        "pCO2   0.5507421094 0.4181638668 7.933875e-02 -0.0367791868 -1.515642e-02\n",
        "H      0.0102284215 0.0071396421 1.240728e-03 -0.0007176778 -2.598482e-04\n",
        "CO3    0.0274511991 0.0143055972 1.525907e-03 -0.0067417520 -2.447431e-03\n",
        "OmegaA 0.0004158548 0.0002167137 2.311577e-05 -0.0002185655 -7.371405e-05\n",
        "                 S_S         T_At          T_Ct           T_S         T_T\n",
        "pCO2    9.024816e-04 -6.815270644 -2.8595353866  0.3588512732 29.04292576\n",
        "H       2.447651e-06 -0.108210277 -0.0403727806  0.0067280887  0.45930854\n",
        "CO3     1.956308e-04  0.017942608  0.0005966907  0.0093912481 -0.59436726\n",
        "OmegaA -5.694883e-06  0.005280469  0.0015850900 -0.0006721131  0.04643329\n",
        "\n",
        "[[2]]\n",
        "              At_At         Ct_At       Ct_Ct          S_At         S_Ct\n",
        "pCO2   1.4617057961 -14.259028716 34.76771006 -0.0794734184 0.4147237779\n",
        "H      0.0270354550  -0.249839299  0.57623519 -0.0015692755 0.0074114514\n",
        "CO3    0.0380807661  -0.336265658  0.73640632 -0.0048345716 0.0235088104\n",
        "OmegaA 0.0005799244  -0.005120923  0.01121458 -0.0001477786 0.0006825855\n",
        "                 S_S         T_At         T_Ct           T_S         T_T\n",
        "pCO2    1.981364e-03 18.812716814 -98.72225179 -0.9713055983 90.23198409\n",
        "H      -5.774783e-06  0.288289279  -1.38971769 -0.0173297787  1.29646367\n",
        "CO3     1.158309e-04 -0.016266053  -0.01589513 -0.0066703963  0.00771057\n",
        "OmegaA -3.685522e-06 -0.004024957   0.01629107  0.0004617091  0.04173899\n",
        "\n"
       ]
      }
     ],
     "prompt_number": 42
    },
    {
     "cell_type": "heading",
     "level": 2,
     "metadata": {},
     "source": [
      "Combine products & compute proportions"
     ]
    },
    {
     "cell_type": "markdown",
     "metadata": {},
     "source": [
      "Combine 1st & 2nd order data frames and compute sums of absolute contributions for 1st order terms, 2nd order terms, and all terms. "
     ]
    },
    {
     "cell_type": "code",
     "collapsed": false,
     "input": [
      "%%R\n",
      "  do1st2nd <- vector(\"list\")\n",
      "  for (ny in 1:nyr) {\n",
      "      do1st2nd[[ny]] <- data.frame(do1st[[ny]], do2nd[[ny]])\n",
      "      do1st2nd[[ny]]$Sum1 <- rowSums(do1st2nd[[ny]][1:4])\n",
      "      do1st2nd[[ny]]$Sum2 <- rowSums(do1st2nd[[ny]][5:14])\n",
      "      do1st2nd[[ny]]$Sum <- rowSums(do1st2nd[[ny]][1:14])\n",
      "      print( format(round(do1st2nd[[ny]],digits=4), nsmall=4) )\n",
      "  }\n",
      "  #do1st2nd"
     ],
     "language": "python",
     "metadata": {},
     "outputs": [
      {
       "metadata": {},
       "output_type": "display_data",
       "text": [
        "             At      Ct       S        T  At_At  Ct_At  Ct_Ct    S_At    S_Ct\n",
        "pCO2   -15.4130 -6.4220  0.8529 146.4858 0.5507 0.4182 0.0793 -0.0368 -0.0152\n",
        "H       -0.2889 -0.1073  0.0180   2.6186 0.0102 0.0071 0.0012 -0.0007 -0.0003\n",
        "CO3     10.4789  3.2974 -0.1393   5.6666 0.0275 0.0143 0.0015 -0.0067 -0.0024\n",
        "OmegaA   0.1587  0.0500 -0.0052   0.2168 0.0004 0.0002 0.0000 -0.0002 -0.0001\n",
        "         S_S    T_At    T_Ct     T_S     T_T     Sum1    Sum2      Sum\n",
        "pCO2   9e-04 -6.8153 -2.8595  0.3589 29.0429 125.5037 20.7242 146.2279\n",
        "H      0e+00 -0.1082 -0.0404  0.0067  0.4593   2.2404  0.3351   2.5755\n",
        "CO3    2e-04  0.0179  0.0006  0.0094 -0.5944  19.3037 -0.5321  18.7715\n",
        "OmegaA 0e+00  0.0053  0.0016 -0.0007  0.0464   0.4203  0.0530   0.4733\n",
        "            At        Ct       S        T  At_At    Ct_At   Ct_Ct    S_At\n",
        "pCO2   39.3691 -204.8779 -2.0765 419.5548 1.4617 -14.2590 34.7677 -0.0795\n",
        "H       0.7205   -3.4654 -0.0416   6.8466 0.0270  -0.2498  0.5762 -0.0016\n",
        "CO3    -5.9696   26.1292  0.0456   6.2369 0.0381  -0.3363  0.7364 -0.0048\n",
        "OmegaA -0.0909    0.3979  0.0024   0.1800 0.0006  -0.0051  0.0112 -0.0001\n",
        "         S_Ct   S_S    T_At     T_Ct     T_S     T_T     Sum1    Sum2      Sum\n",
        "pCO2   0.4147 2e-03 18.8127 -98.7223 -0.9713 90.2320 251.9696 31.6588 283.6283\n",
        "H      0.0074 0e+00  0.2883  -1.3897 -0.0173  1.2965   4.0601  0.5370   4.5971\n",
        "CO3    0.0235 1e-04 -0.0163  -0.0159 -0.0067  0.0077  26.4420  0.4259  26.8679\n",
        "OmegaA 0.0007 0e+00 -0.0040   0.0163  0.0005  0.0417   0.4893  0.0617   0.5510\n"
       ]
      }
     ],
     "prompt_number": 43
    },
    {
     "cell_type": "markdown",
     "metadata": {},
     "source": [
      "Use the combined data frames above divided by the total sum to determine relative contributions."
     ]
    },
    {
     "cell_type": "code",
     "collapsed": false,
     "input": [
      "%%R\n",
      "  fo1st2nd <- vector(\"list\")\n",
      "  for (ny in 1:nyr) {\n",
      "      fo1st2nd[[ny]] <-do1st2nd[[ny]] / do1st2nd[[ny]]$Sum\n",
      "      print( format(round(fo1st2nd[[ny]],digits=3), nsmall=3) )\n",
      "  }"
     ],
     "language": "python",
     "metadata": {},
     "outputs": [
      {
       "metadata": {},
       "output_type": "display_data",
       "text": [
        "           At     Ct      S     T At_At Ct_At Ct_Ct  S_At  S_Ct   S_S   T_At\n",
        "pCO2   -0.105 -0.044  0.006 1.002 0.004 0.003 0.001 0.000 0.000 0.000 -0.047\n",
        "H      -0.112 -0.042  0.007 1.017 0.004 0.003 0.000 0.000 0.000 0.000 -0.042\n",
        "CO3     0.558  0.176 -0.007 0.302 0.001 0.001 0.000 0.000 0.000 0.000  0.001\n",
        "OmegaA  0.335  0.106 -0.011 0.458 0.001 0.000 0.000 0.000 0.000 0.000  0.011\n",
        "         T_Ct    T_S    T_T  Sum1   Sum2   Sum\n",
        "pCO2   -0.020  0.002  0.199 0.858  0.142 1.000\n",
        "H      -0.016  0.003  0.178 0.870  0.130 1.000\n",
        "CO3     0.000  0.001 -0.032 1.028 -0.028 1.000\n",
        "OmegaA  0.003 -0.001  0.098 0.888  0.112 1.000\n",
        "           At     Ct      S     T At_At  Ct_At Ct_Ct  S_At  S_Ct   S_S   T_At\n",
        "pCO2    0.139 -0.722 -0.007 1.479 0.005 -0.050 0.123 0.000 0.001 0.000  0.066\n",
        "H       0.157 -0.754 -0.009 1.489 0.006 -0.054 0.125 0.000 0.002 0.000  0.063\n",
        "CO3    -0.222  0.973  0.002 0.232 0.001 -0.013 0.027 0.000 0.001 0.000 -0.001\n",
        "OmegaA -0.165  0.722  0.004 0.327 0.001 -0.009 0.020 0.000 0.001 0.000 -0.007\n",
        "         T_Ct    T_S   T_T  Sum1  Sum2   Sum\n",
        "pCO2   -0.348 -0.003 0.318 0.888 0.112 1.000\n",
        "H      -0.302 -0.004 0.282 0.883 0.117 1.000\n",
        "CO3    -0.001  0.000 0.000 0.984 0.016 1.000\n",
        "OmegaA  0.030  0.001 0.076 0.888 0.112 1.000\n"
       ]
      }
     ],
     "prompt_number": 44
    },
    {
     "cell_type": "heading",
     "level": 2,
     "metadata": {},
     "source": [
      "Conclusions"
     ]
    },
    {
     "cell_type": "markdown",
     "metadata": {},
     "source": [
      "For the calculated variables, the 2nd order terms are essentially 2nd order in importance, when taken together. For $p$CO$_2$, they contribute only 12 to 14% of the total change, all together. That finding is as hoped by those who chose to do the 1st order only simplification (truncating 2nd order terms and beyond). \n",
      "\n",
      "Yet there is a whole lot of compensation going on. So it is misleading to simply neglect all individual 2nd order terms.  Particularly in the case of temperature, some individual 2nd order terms are larger than some of individual 1st order terms. For instance for $p$CO$_2$, there is a large change due to the 2nd-order diagonal term for temperature, \n",
      "$$\n",
      "\\dfrac{\\partial^2 f}{\\partial x_n^2} {(\\Delta{x_n})}^2\n",
      "\\hbox{,}\n",
      "$$\n",
      "which is equivalent to 20 to 25% of the total amplitude. That is more than any other first-order term except that for temperature itself. So some 2nd order terms should not be neglected any more than should be some of the 1st order terms.\n",
      "\n",
      "A sensitivity test where the $\\Delta$'s are divided by 10 and the analysis is rerun leads to dramatically different results.  The 2nd order terms become negligible, with 99% of the total variability explained by only the 1st order terms.  Thus there is substantial curvature of the 1st derivatives (particularly the $\\partial  \\over \\partial T$ terms) between the limits of the modeled amplitude of $T$.  When the $\\Delta T$ is reduced by a factor of 10 (i.e., as $h \\rightarrow 0$), we come much closer to a linear system where only the first derivative is needed to describe the system. Hence the 2nd order terms are critical to include when the $\\Delta$ is relatively large. As a corollary, when 2nd order terms are large, they demonstrate quantitatively that the provided $\\Delta$ is too big to be assumed infinitessimal. In short, a large $\\Delta$ implies that the 2nd order terms must be included. \n",
      "\n",
      "In some cases we might instinctively reason that a $\\Delta$ is too large (e.g., $\\Delta T = \\hbox{12}^\\circ$C) or sufficiently small ($\\Delta S = \\hbox{0.1}$) to consider only first-order terms. For less obvious cases, before including second-order terms, one could determine quantiatitvely if a simple line is sufficient to describe a computed variable for a given $\\Delta$. For example, by plotting its first derivative with respect to temperature vs. temperature, one could evaluate the residuals at the limits and if they surpass 5% of the mean over the $\\Delta$ limits, one could decide to include related 2nd order terms. Alternatively, one could just include the second-order terms from the beginning, including a small set of typical data and their $\\Delta$'s. Indeed that can be done easily by making slight modifications to the input data at the beginning of this iPython Notebook. "
     ]
    },
    {
     "cell_type": "heading",
     "level": 2,
     "metadata": {},
     "source": [
      "Future work"
     ]
    },
    {
     "cell_type": "markdown",
     "metadata": {},
     "source": [
      "1. Need to output tables of final results of 1st derivatives, 2nd derivatives, Delta's (via pandas (python) and in LaTeX under R).\n",
      "\n",
      "2. Need to make `contour` plots of key partials, 2nd derivatives, similar to done for Orr (2011), i.e. in $A_T$-$C_T$ space (or perhaps $A_T$-$p$CO$_2$ space). This will require revamping this script to take on the more extensive calculations that need to be done over this 2-D parameter space.\n",
      "\n",
      "3. Need to plot results for 1850, 2000, 2100 as points on these contour plots (for Med Sea mean and perhaps west & east basins, or specific locations). The problem is that contour lines in a given plot are for 1 pair of T, S.\n",
      "\n",
      "4. Need to repeat analysis but also perhaps for year 2000 and for west vs. east basins of Med Sea.\n",
      "\n",
      "5. Need to verify 1st derivatives with analytical formula's via `buffesm` in `seacarb`.\n",
      "\n",
      "6. Need to add `OmegaC` array to see if it is consistent with `OmegaA` results.\n",
      "\n",
      "7. Need to do steps (5) and (6) above in an attempt to understand why CO3 and OmegaA results seem so different.\n",
      "\n",
      "8. Need to somehow assess impact of very large $\\Delta$ for T. Perhaps this analysis does not work. Try this by dividing all Delta's by 10. DONE (see Conclusions)\n",
      "\n",
      "9. Need to read in MED8 surface maps of $\\Delta$'s and \"mean values\" for $A_T$, $C_T$, $T$, and $S$ (August - Feb mean), to compute maps of individual terms. This will require some recoding to compute partials etc (e.g., need to replace year index for index for i- and j-grid cells.   "
     ]
    },
    {
     "cell_type": "heading",
     "level": 2,
     "metadata": {},
     "source": [
      "References"
     ]
    },
    {
     "cell_type": "markdown",
     "metadata": {},
     "source": [
      "Previdi, M., K. Fennel, J. Wilkin, and D. Haidvogel (2009), Interannual variability in atmospheric CO2 uptake on the\n",
      "northeast U.S. continental shelf, J. Geophys. Res., 114, G04003, doi:10.1029/2008JG000881.\n",
      "    \n"
     ]
    }
   ],
   "metadata": {}
  }
 ]
}