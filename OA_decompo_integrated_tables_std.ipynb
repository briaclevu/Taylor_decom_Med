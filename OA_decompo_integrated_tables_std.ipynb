{
 "metadata": {
  "name": "",
  "signature": "sha256:187c3e9cf18e9e2cb32c2d769c07f0397a567581c5f249aa253cac1f6e894f05"
 },
 "nbformat": 3,
 "nbformat_minor": 0,
 "worksheets": [
  {
   "cells": [
    {
     "cell_type": "markdown",
     "metadata": {},
     "source": [
      "Routine to built simple table from the result of 2D decompotion\n",
      "---"
     ]
    },
    {
     "cell_type": "code",
     "collapsed": false,
     "input": [
      "import numpy as np\n",
      "%load_ext rpy2.ipython\n",
      "%load_ext oct2py.ipython\n",
      "%octave addpath('/home/users/blevu/Nemo_tools/')"
     ],
     "language": "python",
     "metadata": {},
     "outputs": [
      {
       "metadata": {},
       "output_type": "display_data",
       "text": [
        "warning: function /home/users/blevu/Nemo_tools/patch.m shadows a core library function"
       ]
      }
     ],
     "prompt_number": 1
    },
    {
     "cell_type": "markdown",
     "metadata": {},
     "source": [
      "**Load the result of the decomposition**"
     ]
    },
    {
     "cell_type": "code",
     "collapsed": false,
     "input": [
      "%%octave\n",
      "# load the 2D fields for terme of the decomposition\n",
      "load('/home/biomac1/blevu/SCRATCH/DE9_2000/deconvolution_H_OA_2084_2099.mat')\n",
      "dirout='/home/biomac1/blevu/SCRATCH/DE9_2000/';\n",
      "# name for each terms (delta is august - february, D is for the delta calculated, dHd and dOAd are partial for H and OemagaA)\n",
      "name={'delta','DH','DOA','dHd','dOAd'};\n",
      "# scale per term for readability of the table\n",
      "scale=[1 1 1 1 1e3];\n",
      "mask={'MED' 'BWE' 'BEA' 'ADR' 'AEG'};"
     ],
     "language": "python",
     "metadata": {},
     "outputs": [],
     "prompt_number": 2
    },
    {
     "cell_type": "markdown",
     "metadata": {},
     "source": [
      "**Create csv table with terms and part averaged over the MED bassin for all simulations**"
     ]
    },
    {
     "cell_type": "code",
     "collapsed": false,
     "input": [
      "%%octave\n",
      "# create simple .csv per terms\n",
      "for k=1%:length(mask)\n",
      "for j=1:length(name)\n",
      "# file and the table title is the same; 1 file per 1 term and 1 area (here is MED)\n",
      " filename=[dirout,'sd_',char(name(j)),'_',char(mask(k)),'.csv'];\n",
      " fid = fopen(filename, 'w');\n",
      " if j>4\n",
      "  fprintf(fid,[char(name(j)),'_',char(mask(k)),' x1e3']);\n",
      " else\n",
      "  fprintf(fid,[char(name(j)),'_',char(mask(k)),'']);\n",
      " end\n",
      "# The row are the different simulations: 2b=CTRL; b=CTRL+CO2; 2a=CLIM; a=CLIM+CO2\n",
      " for t=1:2\n",
      "  for d=1:2\n",
      "   fprintf(fid,[',Simu_',char(CD(d)),char(CT(t))]);\n",
      "  end\n",
      " end\n",
      " fprintf(fid,'\\n');\n",
      "# indice of the arameters in field2={'T' 'S' 'PO4' 'Si' 'DIC' 'ALK' 'H' 'OA'};\n",
      " if j==1\n",
      "  inter=[1:2 5:8];\n",
      " else\n",
      "  inter=[1:2 5:6];\n",
      " end\n",
      "# Scan the variable parameter for each term of the decomposition\n",
      "for i=inter\n",
      " fprintf(fid,[char(name(j)),char(field2(i))]); # write the term\n",
      " for t=1:2\n",
      "   for d=1:2\n",
      "     eval(['parmask = ',char(name(j)),char(field2(i)),char(CD(d)),char(CT(t)),'.*mask_',char(mask(k)),'*scale(j);'])\n",
      "     fprintf(fid,',%.2f',nanstd(parmask(:)))\n",
      "   end\n",
      " end\n",
      " fprintf(fid,'\\n'); # line jump after written the averaged value of the term over the whole bassin \n",
      "end\n",
      "# Add more terme with DHC and DOAC which are sum of the DIC and ALK terms\n",
      "if j==2 || j==3\n",
      " fprintf(fid,[char(name(j)),'C']);\n",
      " for t=1:2\n",
      "   for d=1:2\n",
      "     eval(['parmask = ',char(name(j)),'C',char(CD(d)),char(CT(t)),'.*mask_',char(mask(k)),';'])\n",
      "     fprintf(fid,',%.2f',nanstd(parmask(:)))\n",
      "   end\n",
      " end\n",
      " fprintf(fid,'\\n');\n",
      "#\n",
      " fprintf(fid,char(name(j)));\n",
      " for t=1:2\n",
      "   for d=1:2\n",
      "     eval(['parmask = ',char(name(j)),char(CD(d)),char(CT(t)),'.*mask_',char(mask(k)),';'])\n",
      "     fprintf(fid,',%.2f',nanstd(parmask(:)))\n",
      "   end\n",
      " end\n",
      " fprintf(fid,'\\n');\n",
      "end\n",
      "fclose(fid);\n",
      "#\n",
      "end # loop terms\n",
      "end # loop area"
     ],
     "language": "python",
     "metadata": {},
     "outputs": [],
     "prompt_number": 4
    },
    {
     "cell_type": "code",
     "collapsed": false,
     "input": [],
     "language": "python",
     "metadata": {},
     "outputs": []
    }
   ],
   "metadata": {}
  }
 ]
}