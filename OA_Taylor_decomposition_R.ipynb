{
 "metadata": {
  "name": "",
  "signature": "sha256:61aea499607583035fba4eb8029193201d6cb64bf8437bd3b051f71916321388"
 },
 "nbformat": 3,
 "nbformat_minor": 0,
 "worksheets": [
  {
   "cells": [
    {
     "cell_type": "markdown",
     "metadata": {},
     "source": [
      "Taylor Decomposition -- annual cycle of ocean acidification variables\n",
      "------------------------------------"
     ]
    },
    {
     "cell_type": "markdown",
     "metadata": {},
     "source": [
      "To better quantify how seasonal variations in the roles of the 4 key model tracers affect the amplitude of the annual cycle of 2 computed ocean acidification variables, we perform a Taylor decomposition, "
     ]
    },
    {
     "cell_type": "markdown",
     "metadata": {},
     "source": [
      "\\begin{eqnarray}\n",
      "  \\Delta H^+ = \n",
      "               \\frac{\\partial H^+}{\\partial C_T} \\Delta C_T \n",
      "             + \\frac{\\partial H^+}{\\partial A_T} \\Delta A_T  \n",
      "             + \\frac{\\partial H^+}{\\partial T}   \\Delta T\n",
      "             + \\frac{\\partial H^+}{\\partial S}   \\Delta S\n",
      "\\hbox{,}\n",
      "\\end{eqnarray}\n",
      "where H$^+$ is the hydrogen ion concentration, C$_T$ is the dissolved ionrganic carbon, A$_T$ is total alkalinity, T is temperature, and S is salinty. Here we assume that higher order and cross terms are negligible, which can be checked later by comparing the sum of right hand terms with the model's simulated $\\Delta H^+$. An analogous equation can be written for the carbonate ion concentration CO$_3^{2-}$."
     ]
    },
    {
     "cell_type": "markdown",
     "metadata": {},
     "source": [
      "\\begin{eqnarray}\n",
      "  \\Delta CO_3^{2-} = \n",
      "               \\frac{\\partial CO_3^{2-}}{\\partial C_T} \\Delta C_T \n",
      "             + \\frac{\\partial CO_3^{2-}}{\\partial A_T} \\Delta A_T  \n",
      "             + \\frac{\\partial CO_3^{2-}}{\\partial T}   \\Delta T\n",
      "             + \\frac{\\partial CO_3^{2-}}{\\partial S}   \\Delta S\n",
      "\\hbox{.}\n",
      "\\end{eqnarray}\n",
      "On the right-hand side, the amplitude of the annual cycle $\\Delta$ of each of the 4 terms is known, being computed directly from the model output of the 4 model tracers (T, S, C$_T$, and A$_T$). Conversely, the 4 partial differentials must be calculated.  The first two (for C$_T$ and A$_T$) have analytical solutions (Egleston et al., 2010), whereas the last two (for T and S) must be computed numerically. For consistency, we will compute all 4 partials numerically.  Later, numerical results for the first two partials will be checked with the analytical solutions.\n"
     ]
    },
    {
     "cell_type": "markdown",
     "metadata": {},
     "source": [
      "So let's use `R` to compute the partials.  Start by loading `Rmagic`, which is part of `Rpy2` for `iPython`."
     ]
    },
    {
     "cell_type": "code",
     "collapsed": false,
     "input": [
      "#import rpy2 as rp\n",
      "%reload_ext rpy2.ipython\n",
      "%reload_ext oct2py.ipython\n",
      "import netCDF4"
     ],
     "language": "python",
     "metadata": {},
     "outputs": [],
     "prompt_number": 26
    },
    {
     "cell_type": "markdown",
     "metadata": {},
     "source": [
      "Then launch R and install the needed R libraries (packages), if they are not already installed. You may need to install the `Hmisc` library with same command in an R session on X terminal. After installing, comment out corresponding line as below."
     ]
    },
    {
     "cell_type": "code",
     "collapsed": false,
     "input": [
      "%%R\n",
      "#  remove.packages('seacarb')\n",
      "#  install.packages('seacarb')\n",
      "#  remove.packages('Hmisc')\n",
      "#  install.packages('Hmisc')\n",
      "#  install.packages('abind')\n",
      "#%octave addpath('/home/users/blevu/Nemo_tools')"
     ],
     "language": "python",
     "metadata": {},
     "outputs": [
      {
       "metadata": {},
       "output_type": "display_data",
       "text": [
        "NULL\n"
       ]
      }
     ],
     "prompt_number": 24
    },
    {
     "cell_type": "markdown",
     "metadata": {},
     "source": [
      "Continue the same R session to compute carbonate chemistry from basic input data. For that, we just use the seacarb library, namely the `carb` routine."
     ]
    },
    {
     "cell_type": "code",
     "collapsed": false,
     "input": [
      "%%R\n",
      "# Load libraries to compute carbonate chemistry and make nice table (in LaTeX)\n",
      "  library(seacarb)\n",
      "# library(Hmisc)\n",
      "\n",
      "# source(\"Kf.R\")\n",
      "  kfg=\"dg\"\n",
      "\n",
      "# Basic input data\n",
      "  temp=18 \n",
      "  salt=35 \n",
      "  press=0\n",
      "  ALK = 2300.e-6 \n",
      "  DIC = 2058.185e-6 \n",
      "# Input data (roughly corresponding to west to east Med Sea gradient in summer)\n",
      "  ALK = seq(2380,2650,10) * 1e-6\n",
      "  DIC = ALK - 300*1e-6\n",
      "  salt = seq(36.5,39.5,length.out=length(ALK))\n",
      "  temp = seq(24.0,30.0,length.out=length(ALK))\n",
      "            \n",
      "# BASELINE: use seacarb library (carb routine) to compute pH, CO3, and other carbonate system variables\n",
      "  sea <-   carb(15, ALK, DIC, S=salt, T=temp, P=press, Pt=0, Sit=0, k1k2=\"l\", kf=\"dg\", ks=\"d\", pHscale=\"T\", b=\"u74\")\n",
      "# Compute H+ ion concentration from pH and add it to the \"sea\" data frame\n",
      "  H <- 10^(-sea$pH) ; sea <- cbind(H,sea)"
     ],
     "language": "python",
     "metadata": {},
     "outputs": [],
     "prompt_number": 18
    },
    {
     "cell_type": "markdown",
     "metadata": {},
     "source": [
      "Now to calculate the partials, there are two steps: (1) use the same `carb` routine, calling it multiple times to compute differences, and (2) compute the partials from ratios of the differences."
     ]
    },
    {
     "cell_type": "code",
     "collapsed": false,
     "input": [
      "%%R\n",
      "# PERTURBATION: calc data to compute partials using same 'carb' routine, but with input variables slightly perturbed, one at a time\n",
      "# Define a delta of 0.5% (to apply in subsequent calls of 'carb')\n",
      "  delta = 0.005\n",
      "  xdel1 = 1 - delta\n",
      "  xdel2 = 1 + delta\n",
      "# Point 1: (0.05% smaller for ALK and DIC; -0.5 units for T and S in order to avoid problems at zero)\n",
      "  cdelT1   <- carb(15, ALK,       DIC,       S=salt,     T=temp+0.5, P=press, Pt=0, Sit=0, k1k2=\"l\", kf=\"dg\", ks=\"d\", pHscale=\"T\", b=\"u74\")\n",
      "  cdelS1   <- carb(15, ALK,       DIC,       S=salt+0.5, T=temp,     P=press, Pt=0, Sit=0, k1k2=\"l\", kf=\"dg\", ks=\"d\", pHscale=\"T\", b=\"u74\")\n",
      "  cdelDIC1 <- carb(15, ALK,       DIC*xdel1, S=salt,     T=temp,     P=press, Pt=0, Sit=0, k1k2=\"l\", kf=\"dg\", ks=\"d\", pHscale=\"T\", b=\"u74\")\n",
      "  cdelALK1 <- carb(15, ALK*xdel1, DIC,       S=salt,     T=temp,     P=press, Pt=0, Sit=0, k1k2=\"l\", kf=\"dg\", ks=\"d\", pHscale=\"T\", b=\"u74\")\n",
      "# Point 2: (0.05% bigger for ALK and DIC; +0.5 units for T and S in order to avoid problems at zero)\n",
      "  cdelT2   <- carb(15, ALK,       DIC,       S=salt,     T=temp-0.5, P=press, Pt=0, Sit=0, k1k2=\"l\", kf=\"dg\", ks=\"d\", pHscale=\"T\", b=\"u74\")\n",
      "  cdelS2   <- carb(15, ALK,       DIC,       S=salt-0.5, T=temp,     P=press, Pt=0, Sit=0, k1k2=\"l\", kf=\"dg\", ks=\"d\", pHscale=\"T\", b=\"u74\")\n",
      "  cdelDIC2 <- carb(15, ALK,       DIC*xdel2, S=salt,     T=temp,     P=press, Pt=0, Sit=0, k1k2=\"l\", kf=\"dg\", ks=\"d\", pHscale=\"T\", b=\"u74\")\n",
      "  cdelALK2 <- carb(15, ALK*xdel2, DIC,       S=salt,     T=temp,     P=press, Pt=0, Sit=0, k1k2=\"l\", kf=\"dg\", ks=\"d\", pHscale=\"T\", b=\"u74\")\n",
      "\n",
      "# Compute H+ ion concentration from pH and add it to each of the 8 dataframes\n",
      "# (it is inappropriate to use pH (log scale) directly; we must use H+ concentration instead)\n",
      "  H <- 10^(-cdelT1$pH)   ; cdelT1   <- cbind(H,cdelT1)\n",
      "  H <- 10^(-cdelS1$pH)   ; cdelS1   <- cbind(H,cdelS1)\n",
      "  H <- 10^(-cdelALK1$pH) ; cdelALK1 <- cbind(H,cdelALK1)\n",
      "  H <- 10^(-cdelDIC1$pH) ; cdelDIC1 <- cbind(H,cdelDIC1)\n",
      "  H <- 10^(-cdelT2$pH)   ; cdelT2   <- cbind(H,cdelT2)\n",
      "  H <- 10^(-cdelS2$pH)   ; cdelS2   <- cbind(H,cdelS2)\n",
      "  H <- 10^(-cdelALK2$pH) ; cdelALK2 <- cbind(H,cdelALK2)\n",
      "  H <- 10^(-cdelDIC2$pH) ; cdelDIC2 <- cbind(H,cdelDIC2)\n",
      "\n",
      "# Compute partials as centered differences:\n",
      "  dHdDIC <- (cdelDIC2$H - cdelDIC1$H) / (cdelDIC2$DIC - cdelDIC1$DIC)\n",
      "  dHdALK <- (cdelALK2$H - cdelALK1$H) / (cdelALK2$ALK - cdelALK1$ALK)\n",
      "  dHdT   <- (cdelT2$H   - cdelT1$H)   / (cdelT2$T   - cdelT1$T)\n",
      "  dHdS   <- (cdelS2$H   - cdelS1$H)   / (cdelS2$S     - cdelS1$S)\n",
      "\n",
      "  dCO3dDIC <- (cdelDIC2$CO3 - cdelDIC1$CO3) / (cdelDIC2$DIC - cdelDIC1$DIC)\n",
      "  dCO3dALK <- (cdelALK2$CO3 - cdelALK1$CO3) / (cdelALK2$ALK - cdelALK1$ALK)\n",
      "  dCO3dT   <- (cdelT2$CO3   - cdelT1$CO3)   / (cdelT2$T   - cdelT1$T)\n",
      "  dCO3dS   <- (cdelS2$CO3   - cdelS1$CO3)   / (cdelS2$S     - cdelS1$S)"
     ],
     "language": "python",
     "metadata": {},
     "outputs": [],
     "prompt_number": 19
    },
    {
     "cell_type": "markdown",
     "metadata": {},
     "source": [
      "The next step is simply to convert units to something more intuitive and manageable. "
     ]
    },
    {
     "cell_type": "code",
     "collapsed": false,
     "input": [
      "%%R\n",
      "# Convert units:\n",
      "# --------------\n",
      "# Unit converters\n",
      "  Xmol2umol = 1e+6\n",
      "  Xmol2nmol = 1e+9\n",
      "  Xmol2pmol = 1e+12\n",
      "# Do conversions\n",
      "  dHdDIC <- dHdDIC * Xmol2nmol/Xmol2umol\n",
      "  dHdALK <- dHdALK * Xmol2nmol/Xmol2umol\n",
      "  dHdT   <- dHdT   * Xmol2nmol\n",
      "  dHdS   <- dHdS   * Xmol2nmol\n",
      "# dCO3dDIC <- dCO3dDIC  #No unit conversion necessary (mol/mol = umol/umol) \n",
      "# dCO3dDIC <- dCO3dALK \n",
      "  dCO3dT   <- dCO3dT   * Xmol2umol\n",
      "  dCO3dS   <- dCO3dS   * Xmol2umol\n",
      "# Final units:\n",
      "  Hunits   <- c(\"nmol H/umol DIC\",   \"nmol H/umol ALK\",   \"nmol H/\u00b0C\",     \"nmol H/psu\")\n",
      "  CO3units <- c(\"umol CO3/umol DIC\", \"umol CO3/umol ALK\", \"umol CO3 / \u00b0C\", \"umol CO3 / psu\")"
     ],
     "language": "python",
     "metadata": {},
     "outputs": [],
     "prompt_number": 20
    },
    {
     "cell_type": "markdown",
     "metadata": {},
     "source": [
      "Now save partials in same data frame as the baseline data (sea), just concatenating them on the end."
     ]
    },
    {
     "cell_type": "code",
     "collapsed": false,
     "input": [
      "%%R\n",
      "# Add newly computed partials to original data frame 'sea', which includes the standard 'carb' variables (pH, CO3, etc) \n",
      "  sea <- data.frame(sea, dHdDIC, dHdALK, dHdT, dHdS, dCO3dDIC, dCO3dALK, dCO3dT, dCO3dS)"
     ],
     "language": "python",
     "metadata": {},
     "outputs": [],
     "prompt_number": 21
    },
    {
     "cell_type": "markdown",
     "metadata": {},
     "source": [
      "Print out results (entire data frame) to the screen.  It may be more efficient later to put the partials in a separate data frame. Also need to study how best to add units (with attribute)."
     ]
    },
    {
     "cell_type": "code",
     "collapsed": false,
     "input": [
      "%%R\n",
      "print(sea)"
     ],
     "language": "python",
     "metadata": {},
     "outputs": [
      {
       "metadata": {},
       "output_type": "display_data",
       "text": [
        "              H flag        S        T P       pH          CO2     pCO2\n",
        "1  9.323509e-09   15 36.50000 24.00000 0 8.030421 1.225248e-05 425.3681\n",
        "2  9.456465e-09   15 36.61111 24.22222 0 8.024271 1.242620e-05 434.1096\n",
        "3  9.590932e-09   15 36.72222 24.44444 0 8.018139 1.260186e-05 443.0009\n",
        "4  9.726923e-09   15 36.83333 24.66667 0 8.012025 1.277948e-05 452.0439\n",
        "5  9.864452e-09   15 36.94444 24.88889 0 8.005927 1.295907e-05 461.2409\n",
        "6  1.000353e-08   15 37.05556 25.11111 0 7.999847 1.314065e-05 470.5938\n",
        "7  1.014417e-08   15 37.16667 25.33333 0 7.993783 1.332425e-05 480.1049\n",
        "8  1.028639e-08   15 37.27778 25.55556 0 7.987737 1.350987e-05 489.7763\n",
        "9  1.043019e-08   15 37.38889 25.77778 0 7.981708 1.369755e-05 499.6101\n",
        "10 1.057560e-08   15 37.50000 26.00000 0 7.975695 1.388729e-05 509.6087\n",
        "11 1.072262e-08   15 37.61111 26.22222 0 7.969699 1.407913e-05 519.7741\n",
        "12 1.087127e-08   15 37.72222 26.44444 0 7.963720 1.427307e-05 530.1086\n",
        "13 1.102157e-08   15 37.83333 26.66667 0 7.957757 1.446913e-05 540.6145\n",
        "14 1.117351e-08   15 37.94444 26.88889 0 7.951810 1.466735e-05 551.2940\n",
        "15 1.132713e-08   15 38.05556 27.11111 0 7.945880 1.486773e-05 562.1496\n",
        "16 1.148242e-08   15 38.16667 27.33333 0 7.939966 1.507029e-05 573.1833\n",
        "17 1.163942e-08   15 38.27778 27.55556 0 7.934069 1.527506e-05 584.3978\n",
        "18 1.179811e-08   15 38.38889 27.77778 0 7.928187 1.548206e-05 595.7952\n",
        "19 1.195853e-08   15 38.50000 28.00000 0 7.922322 1.569131e-05 607.3779\n",
        "20 1.212069e-08   15 38.61111 28.22222 0 7.916473 1.590282e-05 619.1485\n",
        "21 1.228459e-08   15 38.72222 28.44444 0 7.910639 1.611662e-05 631.1093\n",
        "22 1.245026e-08   15 38.83333 28.66667 0 7.904822 1.633273e-05 643.2627\n",
        "23 1.261770e-08   15 38.94444 28.88889 0 7.899020 1.655117e-05 655.6112\n",
        "24 1.278693e-08   15 39.05556 29.11111 0 7.893234 1.677196e-05 668.1574\n",
        "25 1.295796e-08   15 39.16667 29.33333 0 7.887463 1.699512e-05 680.9037\n",
        "26 1.313080e-08   15 39.27778 29.55556 0 7.881709 1.722068e-05 693.8527\n",
        "27 1.330548e-08   15 39.38889 29.77778 0 7.875969 1.744865e-05 707.0069\n",
        "28 1.348200e-08   15 39.50000 30.00000 0 7.870246 1.767905e-05 720.3689\n",
        "       fCO2        HCO3          CO3     DIC     ALK OmegaAragonite\n",
        "1  424.0126 0.001853388 0.0002143596 0.00208 0.00238       3.349799\n",
        "2  432.7300 0.001862873 0.0002147009 0.00209 0.00239       3.355572\n",
        "3  441.5968 0.001872356 0.0002150424 0.00210 0.00240       3.361341\n",
        "4  450.6151 0.001881836 0.0002153841 0.00211 0.00241       3.367105\n",
        "5  459.7869 0.001891315 0.0002157261 0.00212 0.00242       3.372864\n",
        "6  469.1143 0.001900791 0.0002160683 0.00213 0.00243       3.378618\n",
        "7  478.5996 0.001910265 0.0002164108 0.00214 0.00244       3.384367\n",
        "8  488.2448 0.001919737 0.0002167536 0.00215 0.00245       3.390112\n",
        "9  498.0521 0.001929206 0.0002170967 0.00216 0.00246       3.395852\n",
        "10 508.0237 0.001938673 0.0002174400 0.00217 0.00247       3.401587\n",
        "11 518.1619 0.001948137 0.0002177837 0.00218 0.00248       3.407318\n",
        "12 528.4687 0.001957599 0.0002181277 0.00219 0.00249       3.413044\n",
        "13 538.9466 0.001967059 0.0002184721 0.00220 0.00250       3.418766\n",
        "14 549.5978 0.001976516 0.0002188167 0.00221 0.00251       3.424484\n",
        "15 560.4245 0.001985970 0.0002191618 0.00222 0.00252       3.430197\n",
        "16 571.4292 0.001995422 0.0002195072 0.00223 0.00253       3.435907\n",
        "17 582.6141 0.002004872 0.0002198530 0.00224 0.00254       3.441612\n",
        "18 593.9815 0.002014319 0.0002201992 0.00225 0.00255       3.447313\n",
        "19 605.5340 0.002023763 0.0002205458 0.00226 0.00256       3.453011\n",
        "20 617.2738 0.002033204 0.0002208929 0.00227 0.00257       3.458705\n",
        "21 629.2035 0.002042643 0.0002212404 0.00228 0.00258       3.464395\n",
        "22 641.3253 0.002052079 0.0002215883 0.00229 0.00259       3.470081\n",
        "23 653.6420 0.002061512 0.0002219367 0.00230 0.00260       3.475764\n",
        "24 666.1558 0.002070942 0.0002222855 0.00231 0.00261       3.481444\n",
        "25 678.8693 0.002080370 0.0002226349 0.00232 0.00262       3.487120\n",
        "26 691.7851 0.002089795 0.0002229848 0.00233 0.00263       3.492793\n",
        "27 704.9057 0.002099216 0.0002233351 0.00234 0.00264       3.498463\n",
        "28 718.2336 0.002108635 0.0002236860 0.00235 0.00265       3.504130\n",
        "   OmegaCalcite     dHdDIC      dHdALK      dHdT      dHdS   dCO3dDIC  dCO3dALK\n",
        "1      5.086691 0.03586737 -0.03270126 0.3232516 0.2577035 -0.6408108 0.6779855\n",
        "2      5.091450 0.03629515 -0.03310291 0.3275520 0.2602851 -0.6409241 0.6780258\n",
        "3      5.096186 0.03672655 -0.03350806 0.3318965 0.2628826 -0.6410303 0.6780609\n",
        "4      5.100897 0.03716156 -0.03391670 0.3362852 0.2654960 -0.6411293 0.6780908\n",
        "5      5.105586 0.03760020 -0.03432885 0.3407186 0.2681252 -0.6412211 0.6781152\n",
        "6      5.110251 0.03804248 -0.03474452 0.3451969 0.2707702 -0.6413057 0.6781342\n",
        "7      5.114893 0.03848839 -0.03516371 0.3497204 0.2734309 -0.6413830 0.6781478\n",
        "8      5.119512 0.03893795 -0.03558643 0.3542894 0.2761073 -0.6414530 0.6781558\n",
        "9      5.124108 0.03939116 -0.03601269 0.3589040 0.2787994 -0.6415156 0.6781583\n",
        "10     5.128680 0.03984803 -0.03644249 0.3635647 0.2815071 -0.6415709 0.6781552\n",
        "11     5.133230 0.04030855 -0.03687584 0.3682718 0.2842303 -0.6416188 0.6781464\n",
        "12     5.137757 0.04077275 -0.03731274 0.3730253 0.2869690 -0.6416592 0.6781319\n",
        "13     5.142261 0.04124061 -0.03775321 0.3778258 0.2897231 -0.6416921 0.6781116\n",
        "14     5.146742 0.04171214 -0.03819724 0.3826734 0.2924925 -0.6417175 0.6780856\n",
        "15     5.151201 0.04218734 -0.03864484 0.3875683 0.2952773 -0.6417353 0.6780537\n",
        "16     5.155638 0.04266623 -0.03909601 0.3925109 0.2980772 -0.6417455 0.6780159\n",
        "17     5.160052 0.04314879 -0.03955076 0.3975015 0.3008923 -0.6417481 0.6779722\n",
        "18     5.164443 0.04363503 -0.04000909 0.4025403 0.3037225 -0.6417431 0.6779226\n",
        "19     5.168813 0.04412495 -0.04047100 0.4076275 0.3065676 -0.6417303 0.6778669\n",
        "20     5.173160 0.04461855 -0.04093650 0.4127635 0.3094276 -0.6417098 0.6778051\n",
        "21     5.177485 0.04511583 -0.04140557 0.4179484 0.3123025 -0.6416816 0.6777373\n",
        "22     5.181789 0.04561678 -0.04187824 0.4231826 0.3151920 -0.6416456 0.6776633\n",
        "23     5.186071 0.04612142 -0.04235449 0.4284663 0.3180962 -0.6416018 0.6775831\n",
        "24     5.190331 0.04662973 -0.04283433 0.4337998 0.3210149 -0.6415501 0.6774968\n",
        "25     5.194569 0.04714171 -0.04331775 0.4391833 0.3239480 -0.6414906 0.6774042\n",
        "26     5.198786 0.04765736 -0.04380475 0.4446170 0.3268954 -0.6414231 0.6773053\n",
        "27     5.202982 0.04817668 -0.04429534 0.4501012 0.3298570 -0.6413477 0.6772000\n",
        "28     5.207156 0.04869966 -0.04478950 0.4556362 0.3328327 -0.6412644 0.6770885\n",
        "      dCO3dT     dCO3dS\n",
        "1  0.4032054 -1.0817368\n",
        "2  0.4029823 -1.0728021\n",
        "3  0.4027569 -1.0639288\n",
        "4  0.4025296 -1.0551160\n",
        "5  0.4023011 -1.0463627\n",
        "6  0.4020718 -1.0376683\n",
        "7  0.4018422 -1.0290317\n",
        "8  0.4016131 -1.0204523\n",
        "9  0.4013847 -1.0119291\n",
        "10 0.4011579 -1.0034614\n",
        "11 0.4009329 -0.9950483\n",
        "12 0.4007105 -0.9866891\n",
        "13 0.4004911 -0.9783830\n",
        "14 0.4002754 -0.9701292\n",
        "15 0.4000637 -0.9619270\n",
        "16 0.3998567 -0.9537756\n",
        "17 0.3996550 -0.9456742\n",
        "18 0.3994589 -0.9376222\n",
        "19 0.3992692 -0.9296188\n",
        "20 0.3990863 -0.9216633\n",
        "21 0.3989107 -0.9137550\n",
        "22 0.3987431 -0.9058931\n",
        "23 0.3985838 -0.8980771\n",
        "24 0.3984335 -0.8903062\n",
        "25 0.3982928 -0.8825797\n",
        "26 0.3981620 -0.8748970\n",
        "27 0.3980418 -0.8672575\n",
        "28 0.3979326 -0.8596604\n"
       ]
      }
     ],
     "prompt_number": 22
    },
    {
     "cell_type": "markdown",
     "metadata": {},
     "source": [
      "Make a separate data frame for the partials and print it out."
     ]
    },
    {
     "cell_type": "code",
     "collapsed": false,
     "input": [
      "\n",
      "%%R \n",
      "partials <- data.frame(dHdDIC, dHdALK, dHdT, dHdS, dCO3dDIC, dCO3dALK, dCO3dT, dCO3dS)\n",
      "print(partials)"
     ],
     "language": "python",
     "metadata": {},
     "outputs": [
      {
       "metadata": {},
       "output_type": "display_data",
       "text": [
        "       dHdDIC      dHdALK      dHdT      dHdS   dCO3dDIC  dCO3dALK    dCO3dT\n",
        "1  0.03586737 -0.03270126 0.3232516 0.2577035 -0.6408108 0.6779855 0.4032054\n",
        "2  0.03629515 -0.03310291 0.3275520 0.2602851 -0.6409241 0.6780258 0.4029823\n",
        "3  0.03672655 -0.03350806 0.3318965 0.2628826 -0.6410303 0.6780609 0.4027569\n",
        "4  0.03716156 -0.03391670 0.3362852 0.2654960 -0.6411293 0.6780908 0.4025296\n",
        "5  0.03760020 -0.03432885 0.3407186 0.2681252 -0.6412211 0.6781152 0.4023011\n",
        "6  0.03804248 -0.03474452 0.3451969 0.2707702 -0.6413057 0.6781342 0.4020718\n",
        "7  0.03848839 -0.03516371 0.3497204 0.2734309 -0.6413830 0.6781478 0.4018422\n",
        "8  0.03893795 -0.03558643 0.3542894 0.2761073 -0.6414530 0.6781558 0.4016131\n",
        "9  0.03939116 -0.03601269 0.3589040 0.2787994 -0.6415156 0.6781583 0.4013847\n",
        "10 0.03984803 -0.03644249 0.3635647 0.2815071 -0.6415709 0.6781552 0.4011579\n",
        "11 0.04030855 -0.03687584 0.3682718 0.2842303 -0.6416188 0.6781464 0.4009329\n",
        "12 0.04077275 -0.03731274 0.3730253 0.2869690 -0.6416592 0.6781319 0.4007105\n",
        "13 0.04124061 -0.03775321 0.3778258 0.2897231 -0.6416921 0.6781116 0.4004911\n",
        "14 0.04171214 -0.03819724 0.3826734 0.2924925 -0.6417175 0.6780856 0.4002754\n",
        "15 0.04218734 -0.03864484 0.3875683 0.2952773 -0.6417353 0.6780537 0.4000637\n",
        "16 0.04266623 -0.03909601 0.3925109 0.2980772 -0.6417455 0.6780159 0.3998567\n",
        "17 0.04314879 -0.03955076 0.3975015 0.3008923 -0.6417481 0.6779722 0.3996550\n",
        "18 0.04363503 -0.04000909 0.4025403 0.3037225 -0.6417431 0.6779226 0.3994589\n",
        "19 0.04412495 -0.04047100 0.4076275 0.3065676 -0.6417303 0.6778669 0.3992692\n",
        "20 0.04461855 -0.04093650 0.4127635 0.3094276 -0.6417098 0.6778051 0.3990863\n",
        "21 0.04511583 -0.04140557 0.4179484 0.3123025 -0.6416816 0.6777373 0.3989107\n",
        "22 0.04561678 -0.04187824 0.4231826 0.3151920 -0.6416456 0.6776633 0.3987431\n",
        "23 0.04612142 -0.04235449 0.4284663 0.3180962 -0.6416018 0.6775831 0.3985838\n",
        "24 0.04662973 -0.04283433 0.4337998 0.3210149 -0.6415501 0.6774968 0.3984335\n",
        "25 0.04714171 -0.04331775 0.4391833 0.3239480 -0.6414906 0.6774042 0.3982928\n",
        "26 0.04765736 -0.04380475 0.4446170 0.3268954 -0.6414231 0.6773053 0.3981620\n",
        "27 0.04817668 -0.04429534 0.4501012 0.3298570 -0.6413477 0.6772000 0.3980418\n",
        "28 0.04869966 -0.04478950 0.4556362 0.3328327 -0.6412644 0.6770885 0.3979326\n",
        "       dCO3dS\n",
        "1  -1.0817368\n",
        "2  -1.0728021\n",
        "3  -1.0639288\n",
        "4  -1.0551160\n",
        "5  -1.0463627\n",
        "6  -1.0376683\n",
        "7  -1.0290317\n",
        "8  -1.0204523\n",
        "9  -1.0119291\n",
        "10 -1.0034614\n",
        "11 -0.9950483\n",
        "12 -0.9866891\n",
        "13 -0.9783830\n",
        "14 -0.9701292\n",
        "15 -0.9619270\n",
        "16 -0.9537756\n",
        "17 -0.9456742\n",
        "18 -0.9376222\n",
        "19 -0.9296188\n",
        "20 -0.9216633\n",
        "21 -0.9137550\n",
        "22 -0.9058931\n",
        "23 -0.8980771\n",
        "24 -0.8903062\n",
        "25 -0.8825797\n",
        "26 -0.8748970\n",
        "27 -0.8672575\n",
        "28 -0.8596604\n"
       ]
      }
     ],
     "prompt_number": 23
    },
    {
     "cell_type": "markdown",
     "metadata": {},
     "source": [
      "Store results in a .csv file, for potential later use by other programs."
     ]
    },
    {
     "cell_type": "code",
     "collapsed": false,
     "input": [
      "%%R\n",
      "# Write out partials (sensitivity ratios)\n",
      "  out_stem = paste(\"partials_\",\"H_CO3\",sep='')\n",
      "# write.csv(partials, file=paste(out_stem,'.csv',sep=''), row.names=TRUE)\n",
      "  write.csv(partials, file=paste(out_stem,'.csv',sep=''), row.names=FALSE)"
     ],
     "language": "python",
     "metadata": {},
     "outputs": [],
     "prompt_number": 117
    },
    {
     "cell_type": "code",
     "collapsed": false,
     "input": [
      "!cat partials_H_CO3.csv"
     ],
     "language": "python",
     "metadata": {},
     "outputs": [
      {
       "output_type": "stream",
       "stream": "stdout",
       "text": [
        "\"dHdDIC\",\"dHdALK\",\"dHdT\",\"dHdS\",\"dCO3dDIC\",\"dCO3dALK\",\"dCO3dT\",\"dCO3dS\"\r\n",
        "0.0358673660860342,-0.0327012593748125,0.323251597318995,0.25770351886209,-0.640810847914557,0.677985466475574,0.403205401243461,-1.08173679526667\r\n",
        "0.0362951516650509,-0.0331029148861823,0.327552003598534,0.260285128560641,-0.640924112462647,0.678025837063897,0.402982346974531,-1.07280212460829\r\n",
        "0.0367265482459259,-0.0335080601141217,0.331896454604718,0.262882637498433,-0.641030265324326,0.678060949214272,0.402756913539022,-1.06392880490222\r\n",
        "0.0371615635594526,-0.0339167039545008,0.336285236234447,0.265496010744003,-0.641129266421608,0.67809075042963,0.402529643505175,-1.05511596238945\r\n",
        "0.0376002049170042,-0.0343288549185232,0.340718633410074,0.268125210547027,-0.6412210761307,0.678115188887225,0.402301079610747,-1.04636273431903\r\n",
        "0.0380424792026369,-0.0347445211250685,0.345196930009796,0.270770196298955,-0.641305655293493,0.678134213443366,0.402071764854219,-1.03766826880719\r\n",
        "0.0384883928651594,-0.0351637102930304,0.349720408816218,0.273430924485738,-0.641382965229067,0.678147773639209,0.401842242212793,-1.0290317245364\r\n",
        "0.0389379519102196,-0.0355864297336726,0.354289351442548,0.276107348663601,-0.641452967744727,0.67815581970574,0.401613054778246,-1.02045227091377\r\n",
        "0.0393911618924056,-0.0360126863429353,0.358904038280126,0.278799419401863,-0.641515625147863,0.678158302569583,0.401384745465195,-1.01192908758907\r\n",
        "0.0398480279073961,-0.0364424865938494,0.36356474842578,0.28150708425455,-0.641570900256124,0.678155173857749,0.401157857113989,-1.00346136453527\r\n",
        "0.0403085545840762,-0.0368758365288719,0.368271759624953,0.284230287713824,-0.64161875640911,0.67814638590383,0.400932932267202,-0.995048301773009\r\n",
        "0.0407727460767137,-0.0373127417522807,0.373025348200171,0.286968971173576,-0.641659157479134,0.67813189175325,0.400710513218176,-0.986689109300649\r\n",
        "0.0412406060571919,-0.0377532074226181,0.377825788990717,0.289723072886989,-0.641692067881611,0.678111645168458,0.40049114183549,-0.978383006912051\r\n",
        "0.0417121377072159,-0.0381972382450948,0.38267335528539,0.292492527930989,-0.641717452586231,0.678085600634933,0.40027535952607,-0.970129224134498\r\n",
        "0.0421873437105996,-0.0386448384640761,0.387568318757402,0.295277268164516,-0.641735277127228,0.678053713366543,0.400063707102158,-0.961927000058102\r\n",
        "0.0426662262456046,-0.0390960118555975,0.392510949391494,0.298077222191423,-0.641745507613794,0.678015939311001,0.399856724855982,-0.953775583252423\r\n",
        "0.0431487869772659,-0.0395507617198738,0.397501515428978,0.300892315315994,-0.64174811074061,0.677972235155767,0.39965495222236,-0.945674231546162\r\n",
        "0.0436350270498583,-0.0400090908739235,0.402540283289932,0.303722469510453,-0.641743053797804,0.67792255833328,0.399458927914192,-0.937622212022094\r\n",
        "0.0441249470793498,-0.0404710016441768,0.40762751750811,0.306567603375226,-0.641730304681094,0.677866867026664,0.399269189769563,-0.929618800878042\r\n",
        "0.0446185471459446,-0.0409364958591615,0.412763480665359,0.309427632095098,-0.641709831901993,0.677805120175389,0.39908627463668,-0.921663283228201\r\n",
        "0.0451158267866851,-0.0414055748422467,0.417948433321402,0.312302467414272,-0.641681604597273,0.677737277480657,0.398910718320614,-0.913754953210417\r\n",
        "0.045616784988132,-0.041878239404432,0.423182633945597,0.315192017581568,-0.641645592539154,0.677663299411106,0.398743055487127,-0.90589311359414\r\n",
        "0.0461214201790976,-0.0423544898372159,0.428466338845285,0.318096187328633,-0.641601766144348,0.677583147208179,0.398583819623862,-0.898077075942841\r\n",
        "0.04662973022351,-0.0428343259055319,0.433799802101374,0.321014877824279,-0.641550096483873,0.677496782891554,0.398433542886899,-0.890306160368216\r\n",
        "0.0471417124132781,-0.043317746840732,0.439183275496128,0.323947986638365,-0.641490555292556,0.677404169265023,0.398292756048846,-0.882579695441561\r\n",
        "0.047657363461345,-0.043804751333704,0.444617008441837,0.326895407710503,-0.641423114977637,0.677305269921275,0.398161988450599,-0.874897018188968\r\n",
        "0.0481766794947414,-0.0442953375279827,0.450101247916108,0.329857031309006,-0.641347748628591,0.677200049247782,0.398041767825396,-0.867257473910319\r\n",
        "0.0486996560478184,-0.04478950301306,0.45563623838468,0.33283274399803,-0.64126443002534,0.677088472431825,0.397932620345198,-0.85966041613847\r\n"
       ]
      }
     ],
     "prompt_number": 118
    },
    {
     "cell_type": "markdown",
     "metadata": {},
     "source": [
      "Store results in a .tex file, for use with LaTeX. This does not seem to work on asterix; hence it is commented out. "
     ]
    },
    {
     "cell_type": "code",
     "collapsed": false,
     "input": [
      "%%R\n",
      "# Format in latex, using \"latex\" and \"format.df\" from Hmisc package)\n",
      "# latex(format.df(tdyydxxall,dec=2), file=\"tdyydxxall.tex\", title=\"Derived\")\n",
      "# latex(format.df(partials,cdec=c(5,5,4,4,4,4,4,5)), file=paste(out_stem,'.tex',sep=''), title=\"Derived\")\n",
      "# latex(format.df(partials, cdec=5, file=paste(out_stem,'.tex',sep=''), title=\"Partials\")\n",
      "# latex(format.df(partials, cdec=5), file=\"junk.tex\", title=\"Partials\")\n",
      "# latex(format.df(partials, dec=3), file=\"junk.tex\")"
     ],
     "language": "python",
     "metadata": {},
     "outputs": [
      {
       "metadata": {},
       "output_type": "display_data",
       "text": [
        "NULL\n"
       ]
      }
     ],
     "prompt_number": 119
    },
    {
     "cell_type": "markdown",
     "metadata": {},
     "source": [
      "Now let's plot results for the 4 partials of $\n",
      "\\frac{\\partial H^+}{\\partial C_T} \\hbox{,} \n",
      "\\frac{\\partial H^+}{\\partial A_T} \\hbox{,} \n",
      "\\frac{\\partial H^+}{\\partial T}   \\hbox{, and}\n",
      "\\frac{\\partial H^+}{\\partial S}   \\hbox{.}$"
     ]
    },
    {
     "cell_type": "code",
     "collapsed": false,
     "input": [
      "%%R\n",
      "# Define colors that are good for color-blind viewers\n",
      "  iblack         <- rgb(  0,   0,   0, max=255)\n",
      "  iorange        <- rgb(230, 159,   0, max=255)\n",
      "  iskyblue       <- rgb( 86, 180, 233, max=255)\n",
      "  ibluishGreen   <- rgb(  0, 158, 115, max=255)\n",
      "  iyellow        <- rgb(240, 228,  66, max=255)\n",
      "  iblue          <- rgb(  0, 114, 178, max=255)\n",
      "  ivermillion    <- rgb(213,  94,   0, max=255)\n",
      "  ireddishPurple <- rgb(204, 121, 167, max=255)\n",
      "# Assign line colors and line types (applied in order that they are called, unless specified)\n",
      "  pltclr <- c(iskyblue, ivermillion, iblue, ibluishGreen, ireddishPurple, iblack, iyellow, iorange)\n",
      "  lintyp <- c(1, 2, 3, 1, 1, 1, 2, 3)\n",
      "\n",
      "# Start PDF device driver to save output to a PDF file\n",
      "# Comment out line below & last line of this script to display resulting graph on computer screen\n",
      "# pdf(file=\"partialsH.pdf\", height=8, width=10)\n",
      "\n",
      "# Make 3 plots on page, side-by-side\n",
      "  par(mfrow=c(2,2), mar=c(4.0,5,2,0.5), oma=c(1,0,0,0.5), font.main=1)  # uses mar and oma to reduce whitespace\n",
      "\n",
      "# (1) Plot dH/dDIC vs. ALK\n",
      "# Define nice axis labels (using LaTeX like commands)\n",
      "  ylabel <- expression(paste(partialdiff,\"[H\"^{\"+\"},\"] / \",partialdiff,\"C\"[T],\" (\",\"nmol kg\"^{-1},\" \",mu,\"mol kg\"^{-1},\")\", sep=\"\"))\n",
      "  xlabel <- expression(paste(italic(\"A\")[T],\" (\",mu,\"mol kg\"^{-1},\")\",sep=\"\"))\n",
      "  plot(sea$ALK*1e+6, sea$dHdDIC, xlab=xlabel, ylab=ylabel, main=\" \", type=\"l\", lty=lintyp[1], col=pltclr[1], lwd=3, xaxs=\"i\", yaxs=\"i\")\n",
      "\n",
      "# (2) Plot dH/dALK vs. ALK\n",
      "  ylabel <- expression(paste(partialdiff,\"[H\"^{\"+\"},\"] / \",partialdiff,\"A\"[T],\" (\",\"nmol kg\"^{-1},\" \",mu,\"mol kg\"^{-1},\")\", sep=\"\"))\n",
      "  xlabel <- expression(paste(italic(\"A\")[T],\" (\",mu,\"mol kg\"^{-1},\")\",sep=\"\"))# plot(sea$ALK*1e+6, sea$dHdDIC, xlab=xlabel, ylab=ylabel, main=\" \", type=\"l\", lty=lintyp[1], col=pltclr[1], lwd=3, xlim=c(xmn,xmx), ylim=c(ymn,ymx))\n",
      "  plot(sea$ALK*1e+6, sea$dHdALK, xlab=xlabel, ylab=ylabel, main=\" \", type=\"l\", lty=lintyp[2], col=pltclr[2], lwd=3, xaxs=\"i\", yaxs=\"i\")\n",
      "\n",
      "# (3) Plot dH/dALK vs. T\n",
      "  ylabel <- expression(paste(partialdiff,\"[H\"^{\"+\"},\"] / \",partialdiff,\"T\",\" (\",\"nmol kg\"^{-1},\" / \",\"C)\", sep=\"\"))\n",
      "# xlabel <- expression(\"Temperature (C)\",sep=\"\")\n",
      "# xlabel <- expression(paste(\"Temperature\",\" (C\"^{-1},\")\",sep=\"\"))\n",
      "  xlabel <- expression(paste(\"Temperature\",\" (\",degree,\"C)\",sep=\"\"))\n",
      "  plot(sea$T, sea$dHdT, xlab=xlabel, ylab=ylabel, main=\" \", type=\"l\", lty=lintyp[3], col=pltclr[3], lwd=3, xaxs=\"i\", yaxs=\"i\")\n",
      "\n",
      "# (4) Plot dH/dALK vs. Salinity\n",
      "  ylabel <- expression(paste(partialdiff,\"[H\"^{\"+\"},\"] / \",partialdiff,\"S\",\" (\",\"nmol kg\"^{-1},\" / \",\"C)\", sep=\"\"))\n",
      "  xlabel <- expression(\"Salinity (practical scale)\",sep=\"\")\n",
      "  plot(sea$S, sea$dHdT, xlab=xlabel, ylab=ylabel, main=\" \", type=\"l\", lty=lintyp[4], col=pltclr[4], lwd=3, xaxs=\"i\", yaxs=\"i\")\n",
      "\n",
      "# Turn off device driver (to flush output to PDF) - Comment out if you wish to print to screen\n",
      "# dev.off()"
     ],
     "language": "python",
     "metadata": {},
     "outputs": [
      {
       "metadata": {},
       "output_type": "display_data",
       "png": "[encoded data removed]"
      }
     ],
     "prompt_number": 126
    },
    {
     "cell_type": "code",
     "collapsed": false,
     "input": [],
     "language": "python",
     "metadata": {},
     "outputs": [],
     "prompt_number": 121
    }
   ],
   "metadata": {}
  }
 ]
}